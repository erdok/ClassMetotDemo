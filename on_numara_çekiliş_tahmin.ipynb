{
  "nbformat": 4,
  "nbformat_minor": 0,
  "metadata": {
    "colab": {
      "provenance": [],
      "toc_visible": true,
      "authorship_tag": "ABX9TyMopSyFgOjUeIOSkZ6ypQtf",
      "include_colab_link": true
    },
    "kernelspec": {
      "name": "python3",
      "display_name": "Python 3"
    },
    "language_info": {
      "name": "python"
    }
  },
  "cells": [
    {
      "cell_type": "markdown",
      "metadata": {
        "id": "view-in-github",
        "colab_type": "text"
      },
      "source": [
        "<a href=\"https://colab.research.google.com/github/erdok/ClassMetotDemo/blob/master/on_numara_%C3%A7ekili%C5%9F_tahmin.ipynb\" target=\"_parent\"><img src=\"https://colab.research.google.com/assets/colab-badge.svg\" alt=\"Open In Colab\"/></a>"
      ]
    },
    {
      "cell_type": "code",
      "source": [
        "import pandas as pd\n",
        "from sklearn.model_selection import train_test_split\n",
        "from sklearn.preprocessing import StandardScaler\n",
        "from sklearn.ensemble import RandomForestClassifier\n",
        "from xgboost import XGBClassifier\n",
        "from lightgbm import LGBMClassifier"
      ],
      "metadata": {
        "id": "eu65slf6dx4N"
      },
      "execution_count": 16,
      "outputs": []
    },
    {
      "cell_type": "code",
      "source": [
        "data = pd.read_excel(\"/content/sample_data/data.xlsx\")\n"
      ],
      "metadata": {
        "id": "3dQaS4l3He_9"
      },
      "execution_count": 17,
      "outputs": []
    },
    {
      "cell_type": "code",
      "source": [
        "# Saat verisini sil\n",
        "data[\"Çekiliş Tarihi\"] = pd.to_datetime(data[\"Çekiliş Tarihi\"].str.split(\"-\").str[0])"
      ],
      "metadata": {
        "colab": {
          "base_uri": "https://localhost:8080/",
          "height": 617
        },
        "id": "mJuOg4lKd5xq",
        "outputId": "700cf2ed-d848-49b5-a5bf-f20dadbaaa82"
      },
      "execution_count": 20,
      "outputs": [
        {
          "output_type": "error",
          "ename": "KeyError",
          "evalue": "'Çekiliş Tarihi'",
          "traceback": [
            "\u001b[0;31m---------------------------------------------------------------------------\u001b[0m",
            "\u001b[0;31mKeyError\u001b[0m                                  Traceback (most recent call last)",
            "\u001b[0;32m/usr/local/lib/python3.10/dist-packages/pandas/core/indexes/base.py\u001b[0m in \u001b[0;36mget_loc\u001b[0;34m(self, key, method, tolerance)\u001b[0m\n\u001b[1;32m   3801\u001b[0m             \u001b[0;32mtry\u001b[0m\u001b[0;34m:\u001b[0m\u001b[0;34m\u001b[0m\u001b[0;34m\u001b[0m\u001b[0m\n\u001b[0;32m-> 3802\u001b[0;31m                 \u001b[0;32mreturn\u001b[0m \u001b[0mself\u001b[0m\u001b[0;34m.\u001b[0m\u001b[0m_engine\u001b[0m\u001b[0;34m.\u001b[0m\u001b[0mget_loc\u001b[0m\u001b[0;34m(\u001b[0m\u001b[0mcasted_key\u001b[0m\u001b[0;34m)\u001b[0m\u001b[0;34m\u001b[0m\u001b[0;34m\u001b[0m\u001b[0m\n\u001b[0m\u001b[1;32m   3803\u001b[0m             \u001b[0;32mexcept\u001b[0m \u001b[0mKeyError\u001b[0m \u001b[0;32mas\u001b[0m \u001b[0merr\u001b[0m\u001b[0;34m:\u001b[0m\u001b[0;34m\u001b[0m\u001b[0;34m\u001b[0m\u001b[0m\n",
            "\u001b[0;32m/usr/local/lib/python3.10/dist-packages/pandas/_libs/index.pyx\u001b[0m in \u001b[0;36mpandas._libs.index.IndexEngine.get_loc\u001b[0;34m()\u001b[0m\n",
            "\u001b[0;32m/usr/local/lib/python3.10/dist-packages/pandas/_libs/index.pyx\u001b[0m in \u001b[0;36mpandas._libs.index.IndexEngine.get_loc\u001b[0;34m()\u001b[0m\n",
            "\u001b[0;32mpandas/_libs/hashtable_class_helper.pxi\u001b[0m in \u001b[0;36mpandas._libs.hashtable.PyObjectHashTable.get_item\u001b[0;34m()\u001b[0m\n",
            "\u001b[0;32mpandas/_libs/hashtable_class_helper.pxi\u001b[0m in \u001b[0;36mpandas._libs.hashtable.PyObjectHashTable.get_item\u001b[0;34m()\u001b[0m\n",
            "\u001b[0;31mKeyError\u001b[0m: 'Çekiliş Tarihi'",
            "\nThe above exception was the direct cause of the following exception:\n",
            "\u001b[0;31mKeyError\u001b[0m                                  Traceback (most recent call last)",
            "\u001b[0;32m<ipython-input-20-79d7cc0a69fd>\u001b[0m in \u001b[0;36m<cell line: 2>\u001b[0;34m()\u001b[0m\n\u001b[1;32m      1\u001b[0m \u001b[0;31m# Saat verisini sil\u001b[0m\u001b[0;34m\u001b[0m\u001b[0;34m\u001b[0m\u001b[0m\n\u001b[0;32m----> 2\u001b[0;31m \u001b[0mdata\u001b[0m\u001b[0;34m[\u001b[0m\u001b[0;34m\"Çekiliş Tarihi\"\u001b[0m\u001b[0;34m]\u001b[0m \u001b[0;34m=\u001b[0m \u001b[0mpd\u001b[0m\u001b[0;34m.\u001b[0m\u001b[0mto_datetime\u001b[0m\u001b[0;34m(\u001b[0m\u001b[0mdata\u001b[0m\u001b[0;34m[\u001b[0m\u001b[0;34m\"Çekiliş Tarihi\"\u001b[0m\u001b[0;34m]\u001b[0m\u001b[0;34m.\u001b[0m\u001b[0mstr\u001b[0m\u001b[0;34m.\u001b[0m\u001b[0msplit\u001b[0m\u001b[0;34m(\u001b[0m\u001b[0;34m\"-\"\u001b[0m\u001b[0;34m)\u001b[0m\u001b[0;34m.\u001b[0m\u001b[0mstr\u001b[0m\u001b[0;34m[\u001b[0m\u001b[0;36m0\u001b[0m\u001b[0;34m]\u001b[0m\u001b[0;34m)\u001b[0m\u001b[0;34m\u001b[0m\u001b[0;34m\u001b[0m\u001b[0m\n\u001b[0m",
            "\u001b[0;32m/usr/local/lib/python3.10/dist-packages/pandas/core/frame.py\u001b[0m in \u001b[0;36m__getitem__\u001b[0;34m(self, key)\u001b[0m\n\u001b[1;32m   3805\u001b[0m             \u001b[0;32mif\u001b[0m \u001b[0mself\u001b[0m\u001b[0;34m.\u001b[0m\u001b[0mcolumns\u001b[0m\u001b[0;34m.\u001b[0m\u001b[0mnlevels\u001b[0m \u001b[0;34m>\u001b[0m \u001b[0;36m1\u001b[0m\u001b[0;34m:\u001b[0m\u001b[0;34m\u001b[0m\u001b[0;34m\u001b[0m\u001b[0m\n\u001b[1;32m   3806\u001b[0m                 \u001b[0;32mreturn\u001b[0m \u001b[0mself\u001b[0m\u001b[0;34m.\u001b[0m\u001b[0m_getitem_multilevel\u001b[0m\u001b[0;34m(\u001b[0m\u001b[0mkey\u001b[0m\u001b[0;34m)\u001b[0m\u001b[0;34m\u001b[0m\u001b[0;34m\u001b[0m\u001b[0m\n\u001b[0;32m-> 3807\u001b[0;31m             \u001b[0mindexer\u001b[0m \u001b[0;34m=\u001b[0m \u001b[0mself\u001b[0m\u001b[0;34m.\u001b[0m\u001b[0mcolumns\u001b[0m\u001b[0;34m.\u001b[0m\u001b[0mget_loc\u001b[0m\u001b[0;34m(\u001b[0m\u001b[0mkey\u001b[0m\u001b[0;34m)\u001b[0m\u001b[0;34m\u001b[0m\u001b[0;34m\u001b[0m\u001b[0m\n\u001b[0m\u001b[1;32m   3808\u001b[0m             \u001b[0;32mif\u001b[0m \u001b[0mis_integer\u001b[0m\u001b[0;34m(\u001b[0m\u001b[0mindexer\u001b[0m\u001b[0;34m)\u001b[0m\u001b[0;34m:\u001b[0m\u001b[0;34m\u001b[0m\u001b[0;34m\u001b[0m\u001b[0m\n\u001b[1;32m   3809\u001b[0m                 \u001b[0mindexer\u001b[0m \u001b[0;34m=\u001b[0m \u001b[0;34m[\u001b[0m\u001b[0mindexer\u001b[0m\u001b[0;34m]\u001b[0m\u001b[0;34m\u001b[0m\u001b[0;34m\u001b[0m\u001b[0m\n",
            "\u001b[0;32m/usr/local/lib/python3.10/dist-packages/pandas/core/indexes/base.py\u001b[0m in \u001b[0;36mget_loc\u001b[0;34m(self, key, method, tolerance)\u001b[0m\n\u001b[1;32m   3802\u001b[0m                 \u001b[0;32mreturn\u001b[0m \u001b[0mself\u001b[0m\u001b[0;34m.\u001b[0m\u001b[0m_engine\u001b[0m\u001b[0;34m.\u001b[0m\u001b[0mget_loc\u001b[0m\u001b[0;34m(\u001b[0m\u001b[0mcasted_key\u001b[0m\u001b[0;34m)\u001b[0m\u001b[0;34m\u001b[0m\u001b[0;34m\u001b[0m\u001b[0m\n\u001b[1;32m   3803\u001b[0m             \u001b[0;32mexcept\u001b[0m \u001b[0mKeyError\u001b[0m \u001b[0;32mas\u001b[0m \u001b[0merr\u001b[0m\u001b[0;34m:\u001b[0m\u001b[0;34m\u001b[0m\u001b[0;34m\u001b[0m\u001b[0m\n\u001b[0;32m-> 3804\u001b[0;31m                 \u001b[0;32mraise\u001b[0m \u001b[0mKeyError\u001b[0m\u001b[0;34m(\u001b[0m\u001b[0mkey\u001b[0m\u001b[0;34m)\u001b[0m \u001b[0;32mfrom\u001b[0m \u001b[0merr\u001b[0m\u001b[0;34m\u001b[0m\u001b[0;34m\u001b[0m\u001b[0m\n\u001b[0m\u001b[1;32m   3805\u001b[0m             \u001b[0;32mexcept\u001b[0m \u001b[0mTypeError\u001b[0m\u001b[0;34m:\u001b[0m\u001b[0;34m\u001b[0m\u001b[0;34m\u001b[0m\u001b[0m\n\u001b[1;32m   3806\u001b[0m                 \u001b[0;31m# If we have a listlike key, _check_indexing_error will raise\u001b[0m\u001b[0;34m\u001b[0m\u001b[0;34m\u001b[0m\u001b[0m\n",
            "\u001b[0;31mKeyError\u001b[0m: 'Çekiliş Tarihi'"
          ]
        }
      ]
    },
    {
      "source": [
        "data.info()"
      ],
      "cell_type": "code",
      "metadata": {
        "colab": {
          "base_uri": "https://localhost:8080/"
        },
        "id": "pPjamD_RIuSI",
        "outputId": "91b33d9a-5d81-4ff0-e546-131773008f25"
      },
      "execution_count": 21,
      "outputs": [
        {
          "output_type": "stream",
          "name": "stdout",
          "text": [
            "<class 'pandas.core.frame.DataFrame'>\n",
            "RangeIndex: 224 entries, 0 to 223\n",
            "Data columns (total 43 columns):\n",
            " #   Column              Non-Null Count  Dtype \n",
            "---  ------              --------------  ----- \n",
            " 0   Çekiliş Tarihi:     224 non-null    object\n",
            " 1   Çekiliş Tarihi:.1   99 non-null     object\n",
            " 2   Çekiliş Tarihi:.2   224 non-null    object\n",
            " 3   Çekiliş Tarihi:.3   199 non-null    object\n",
            " 4   Çekiliş Tarihi:.4   224 non-null    object\n",
            " 5   Çekiliş Tarihi:.5   199 non-null    object\n",
            " 6   Çekiliş Tarihi:.6   224 non-null    object\n",
            " 7   Çekiliş Tarihi:.7   224 non-null    object\n",
            " 8   Çekiliş Tarihi:.8   224 non-null    object\n",
            " 9   Çekiliş Tarihi:.9   199 non-null    object\n",
            " 10  Çekiliş Tarihi:.10  224 non-null    object\n",
            " 11  Çekiliş Tarihi:.11  224 non-null    object\n",
            " 12  Çekiliş Tarihi:.12  199 non-null    object\n",
            " 13  Çekiliş Tarihi:.13  224 non-null    object\n",
            " 14  Çekiliş Tarihi:.14  224 non-null    object\n",
            " 15  Çekiliş Tarihi:.15  199 non-null    object\n",
            " 16  Çekiliş Tarihi:.16  201 non-null    object\n",
            " 17  Çekiliş Tarihi:.17  224 non-null    object\n",
            " 18  Çekiliş Tarihi:.18  224 non-null    object\n",
            " 19  Çekiliş Tarihi:.19  199 non-null    object\n",
            " 20  Çekiliş Tarihi:.20  224 non-null    object\n",
            " 21  Çekiliş Tarihi:.21  224 non-null    object\n",
            " 22  Çekiliş Tarihi:.22  224 non-null    object\n",
            " 23  Çekiliş Tarihi:.23  224 non-null    object\n",
            " 24  Çekiliş Tarihi:.24  199 non-null    object\n",
            " 25  Çekiliş Tarihi:.25  224 non-null    object\n",
            " 26  Çekiliş Tarihi:.26  224 non-null    object\n",
            " 27  Çekiliş Tarihi:.27  199 non-null    object\n",
            " 28  Çekiliş Tarihi:.28  224 non-null    object\n",
            " 29  Çekiliş Tarihi:.29  224 non-null    object\n",
            " 30  Çekiliş Tarihi:.30  224 non-null    object\n",
            " 31  Çekiliş Tarihi:.31  199 non-null    object\n",
            " 32  Çekiliş Tarihi:.32  224 non-null    object\n",
            " 33  Çekiliş Tarihi:.33  224 non-null    object\n",
            " 34  Çekiliş Tarihi:.34  199 non-null    object\n",
            " 35  Çekiliş Tarihi:.35  224 non-null    object\n",
            " 36  Çekiliş Tarihi:.36  224 non-null    object\n",
            " 37  Çekiliş Tarihi:.37  224 non-null    object\n",
            " 38  Çekiliş Tarihi:.38  124 non-null    object\n",
            " 39  Çekiliş Tarihi:.39  99 non-null     object\n",
            " 40  Çekiliş Tarihi:.40  174 non-null    object\n",
            " 41  Çekiliş Tarihi:.41  224 non-null    object\n",
            " 42  Çekiliş Tarihi:.42  199 non-null    object\n",
            "dtypes: object(43)\n",
            "memory usage: 75.4+ KB\n"
          ]
        }
      ]
    },
    {
      "source": [
        "\"Çekiliş Tarihi\" in data.columns"
      ],
      "cell_type": "code",
      "metadata": {
        "colab": {
          "base_uri": "https://localhost:8080/"
        },
        "id": "HuWdkBmII194",
        "outputId": "bc953116-4a4b-48f0-a0e2-ddb1c70aad48"
      },
      "execution_count": 22,
      "outputs": [
        {
          "output_type": "execute_result",
          "data": {
            "text/plain": [
              "False"
            ]
          },
          "metadata": {},
          "execution_count": 22
        }
      ]
    },
    {
      "source": [
        "data[\"Çekiliş Tarihi\"] = pd.to_datetime(data[\"Çekiliş Tarihi\"].str.split(\"-\").str[0])"
      ],
      "cell_type": "code",
      "metadata": {
        "colab": {
          "base_uri": "https://localhost:8080/",
          "height": 617
        },
        "id": "655g--ZlI4Zu",
        "outputId": "e1037246-2d69-4580-8c88-c21304d84de1"
      },
      "execution_count": 23,
      "outputs": [
        {
          "output_type": "error",
          "ename": "KeyError",
          "evalue": "'Çekiliş Tarihi'",
          "traceback": [
            "\u001b[0;31m---------------------------------------------------------------------------\u001b[0m",
            "\u001b[0;31mKeyError\u001b[0m                                  Traceback (most recent call last)",
            "\u001b[0;32m/usr/local/lib/python3.10/dist-packages/pandas/core/indexes/base.py\u001b[0m in \u001b[0;36mget_loc\u001b[0;34m(self, key, method, tolerance)\u001b[0m\n\u001b[1;32m   3801\u001b[0m             \u001b[0;32mtry\u001b[0m\u001b[0;34m:\u001b[0m\u001b[0;34m\u001b[0m\u001b[0;34m\u001b[0m\u001b[0m\n\u001b[0;32m-> 3802\u001b[0;31m                 \u001b[0;32mreturn\u001b[0m \u001b[0mself\u001b[0m\u001b[0;34m.\u001b[0m\u001b[0m_engine\u001b[0m\u001b[0;34m.\u001b[0m\u001b[0mget_loc\u001b[0m\u001b[0;34m(\u001b[0m\u001b[0mcasted_key\u001b[0m\u001b[0;34m)\u001b[0m\u001b[0;34m\u001b[0m\u001b[0;34m\u001b[0m\u001b[0m\n\u001b[0m\u001b[1;32m   3803\u001b[0m             \u001b[0;32mexcept\u001b[0m \u001b[0mKeyError\u001b[0m \u001b[0;32mas\u001b[0m \u001b[0merr\u001b[0m\u001b[0;34m:\u001b[0m\u001b[0;34m\u001b[0m\u001b[0;34m\u001b[0m\u001b[0m\n",
            "\u001b[0;32m/usr/local/lib/python3.10/dist-packages/pandas/_libs/index.pyx\u001b[0m in \u001b[0;36mpandas._libs.index.IndexEngine.get_loc\u001b[0;34m()\u001b[0m\n",
            "\u001b[0;32m/usr/local/lib/python3.10/dist-packages/pandas/_libs/index.pyx\u001b[0m in \u001b[0;36mpandas._libs.index.IndexEngine.get_loc\u001b[0;34m()\u001b[0m\n",
            "\u001b[0;32mpandas/_libs/hashtable_class_helper.pxi\u001b[0m in \u001b[0;36mpandas._libs.hashtable.PyObjectHashTable.get_item\u001b[0;34m()\u001b[0m\n",
            "\u001b[0;32mpandas/_libs/hashtable_class_helper.pxi\u001b[0m in \u001b[0;36mpandas._libs.hashtable.PyObjectHashTable.get_item\u001b[0;34m()\u001b[0m\n",
            "\u001b[0;31mKeyError\u001b[0m: 'Çekiliş Tarihi'",
            "\nThe above exception was the direct cause of the following exception:\n",
            "\u001b[0;31mKeyError\u001b[0m                                  Traceback (most recent call last)",
            "\u001b[0;32m<ipython-input-23-a78d89f7d2f2>\u001b[0m in \u001b[0;36m<cell line: 1>\u001b[0;34m()\u001b[0m\n\u001b[0;32m----> 1\u001b[0;31m \u001b[0mdata\u001b[0m\u001b[0;34m[\u001b[0m\u001b[0;34m\"Çekiliş Tarihi\"\u001b[0m\u001b[0;34m]\u001b[0m \u001b[0;34m=\u001b[0m \u001b[0mpd\u001b[0m\u001b[0;34m.\u001b[0m\u001b[0mto_datetime\u001b[0m\u001b[0;34m(\u001b[0m\u001b[0mdata\u001b[0m\u001b[0;34m[\u001b[0m\u001b[0;34m\"Çekiliş Tarihi\"\u001b[0m\u001b[0;34m]\u001b[0m\u001b[0;34m.\u001b[0m\u001b[0mstr\u001b[0m\u001b[0;34m.\u001b[0m\u001b[0msplit\u001b[0m\u001b[0;34m(\u001b[0m\u001b[0;34m\"-\"\u001b[0m\u001b[0;34m)\u001b[0m\u001b[0;34m.\u001b[0m\u001b[0mstr\u001b[0m\u001b[0;34m[\u001b[0m\u001b[0;36m0\u001b[0m\u001b[0;34m]\u001b[0m\u001b[0;34m)\u001b[0m\u001b[0;34m\u001b[0m\u001b[0;34m\u001b[0m\u001b[0m\n\u001b[0m",
            "\u001b[0;32m/usr/local/lib/python3.10/dist-packages/pandas/core/frame.py\u001b[0m in \u001b[0;36m__getitem__\u001b[0;34m(self, key)\u001b[0m\n\u001b[1;32m   3805\u001b[0m             \u001b[0;32mif\u001b[0m \u001b[0mself\u001b[0m\u001b[0;34m.\u001b[0m\u001b[0mcolumns\u001b[0m\u001b[0;34m.\u001b[0m\u001b[0mnlevels\u001b[0m \u001b[0;34m>\u001b[0m \u001b[0;36m1\u001b[0m\u001b[0;34m:\u001b[0m\u001b[0;34m\u001b[0m\u001b[0;34m\u001b[0m\u001b[0m\n\u001b[1;32m   3806\u001b[0m                 \u001b[0;32mreturn\u001b[0m \u001b[0mself\u001b[0m\u001b[0;34m.\u001b[0m\u001b[0m_getitem_multilevel\u001b[0m\u001b[0;34m(\u001b[0m\u001b[0mkey\u001b[0m\u001b[0;34m)\u001b[0m\u001b[0;34m\u001b[0m\u001b[0;34m\u001b[0m\u001b[0m\n\u001b[0;32m-> 3807\u001b[0;31m             \u001b[0mindexer\u001b[0m \u001b[0;34m=\u001b[0m \u001b[0mself\u001b[0m\u001b[0;34m.\u001b[0m\u001b[0mcolumns\u001b[0m\u001b[0;34m.\u001b[0m\u001b[0mget_loc\u001b[0m\u001b[0;34m(\u001b[0m\u001b[0mkey\u001b[0m\u001b[0;34m)\u001b[0m\u001b[0;34m\u001b[0m\u001b[0;34m\u001b[0m\u001b[0m\n\u001b[0m\u001b[1;32m   3808\u001b[0m             \u001b[0;32mif\u001b[0m \u001b[0mis_integer\u001b[0m\u001b[0;34m(\u001b[0m\u001b[0mindexer\u001b[0m\u001b[0;34m)\u001b[0m\u001b[0;34m:\u001b[0m\u001b[0;34m\u001b[0m\u001b[0;34m\u001b[0m\u001b[0m\n\u001b[1;32m   3809\u001b[0m                 \u001b[0mindexer\u001b[0m \u001b[0;34m=\u001b[0m \u001b[0;34m[\u001b[0m\u001b[0mindexer\u001b[0m\u001b[0;34m]\u001b[0m\u001b[0;34m\u001b[0m\u001b[0;34m\u001b[0m\u001b[0m\n",
            "\u001b[0;32m/usr/local/lib/python3.10/dist-packages/pandas/core/indexes/base.py\u001b[0m in \u001b[0;36mget_loc\u001b[0;34m(self, key, method, tolerance)\u001b[0m\n\u001b[1;32m   3802\u001b[0m                 \u001b[0;32mreturn\u001b[0m \u001b[0mself\u001b[0m\u001b[0;34m.\u001b[0m\u001b[0m_engine\u001b[0m\u001b[0;34m.\u001b[0m\u001b[0mget_loc\u001b[0m\u001b[0;34m(\u001b[0m\u001b[0mcasted_key\u001b[0m\u001b[0;34m)\u001b[0m\u001b[0;34m\u001b[0m\u001b[0;34m\u001b[0m\u001b[0m\n\u001b[1;32m   3803\u001b[0m             \u001b[0;32mexcept\u001b[0m \u001b[0mKeyError\u001b[0m \u001b[0;32mas\u001b[0m \u001b[0merr\u001b[0m\u001b[0;34m:\u001b[0m\u001b[0;34m\u001b[0m\u001b[0;34m\u001b[0m\u001b[0m\n\u001b[0;32m-> 3804\u001b[0;31m                 \u001b[0;32mraise\u001b[0m \u001b[0mKeyError\u001b[0m\u001b[0;34m(\u001b[0m\u001b[0mkey\u001b[0m\u001b[0;34m)\u001b[0m \u001b[0;32mfrom\u001b[0m \u001b[0merr\u001b[0m\u001b[0;34m\u001b[0m\u001b[0;34m\u001b[0m\u001b[0m\n\u001b[0m\u001b[1;32m   3805\u001b[0m             \u001b[0;32mexcept\u001b[0m \u001b[0mTypeError\u001b[0m\u001b[0;34m:\u001b[0m\u001b[0;34m\u001b[0m\u001b[0;34m\u001b[0m\u001b[0m\n\u001b[1;32m   3806\u001b[0m                 \u001b[0;31m# If we have a listlike key, _check_indexing_error will raise\u001b[0m\u001b[0;34m\u001b[0m\u001b[0;34m\u001b[0m\u001b[0m\n",
            "\u001b[0;31mKeyError\u001b[0m: 'Çekiliş Tarihi'"
          ]
        }
      ]
    },
    {
      "cell_type": "code",
      "source": [
        "# Çekiliş sonuçlarını bir listeye dönüştür\n",
        "data[\"Çekiliş Sonuçları\"] = data.filter(like='çekiliş').apply(list, axis=1)\n"
      ],
      "metadata": {
        "id": "lCR5UfFSeBD-"
      },
      "execution_count": null,
      "outputs": []
    },
    {
      "source": [
        "data.columns"
      ],
      "cell_type": "code",
      "metadata": {
        "id": "Xpe9YUQaH-ID"
      },
      "execution_count": null,
      "outputs": []
    },
    {
      "source": [
        "data[\"Çekiliş Tarihi:\"].head()"
      ],
      "cell_type": "code",
      "metadata": {
        "id": "k-vTFHSvIDTV"
      },
      "execution_count": null,
      "outputs": []
    },
    {
      "source": [
        "print(data)"
      ],
      "cell_type": "code",
      "metadata": {
        "id": "OO0lhWK9Gz7e"
      },
      "execution_count": null,
      "outputs": []
    },
    {
      "cell_type": "code",
      "source": [
        "# Verileri ayır\n",
        "X = data.drop(\"Çekiliş Sonuçları\", axis=1)\n",
        "y = data[\"Çekiliş Sonuçları\"]\n",
        "\n",
        "# Verileri ölçeklendir\n",
        "scaler = StandardScaler()\n",
        "X = scaler.fit_transform(X)\n",
        "\n",
        "# Verileri ayır\n",
        "X_train, X_test, y_train, y_test = train_test_split(X, y, test_size=0.25)"
      ],
      "metadata": {
        "id": "Ysd1hox-eReh"
      },
      "execution_count": null,
      "outputs": []
    },
    {
      "cell_type": "code",
      "source": [
        "# Modelleri oluştur\n",
        "models = {\n",
        "    \"Random Forest\": RandomForestClassifier(),\n",
        "    \"XGBoost\": XGBClassifier(),\n",
        "    \"LightGBM\": LGBMClassifier()\n",
        "}\n",
        "\n",
        "# Modelleri eğit\n",
        "for name, model in models.items():\n",
        "    model.fit(X_train, y_train)\n",
        "\n",
        "# Modelleri test et\n",
        "for name, model in models.items():\n",
        "    score = model.score(X_test, y_test)\n",
        "    print(f\"{name} modeli skoru: {score}\")\n",
        "\n",
        "# Bir sonraki çekiliş için tahminler yap\n",
        "for name, model in models.items():\n",
        "    predictions = model.predict(X_test)\n",
        "    print(f\"{name} modeli tahminleri: {predictions}\")\n"
      ],
      "metadata": {
        "colab": {
          "base_uri": "https://localhost:8080/",
          "height": 245
        },
        "id": "htP2UdKfeTFF",
        "outputId": "f2d0e8c8-ca75-4084-9587-ae86c38c7df6"
      },
      "execution_count": 19,
      "outputs": [
        {
          "output_type": "error",
          "ename": "NameError",
          "evalue": "name 'X_train' is not defined",
          "traceback": [
            "\u001b[0;31m---------------------------------------------------------------------------\u001b[0m",
            "\u001b[0;31mNameError\u001b[0m                                 Traceback (most recent call last)",
            "\u001b[0;32m<ipython-input-19-40b4905d0f50>\u001b[0m in \u001b[0;36m<cell line: 9>\u001b[0;34m()\u001b[0m\n\u001b[1;32m      8\u001b[0m \u001b[0;31m# Modelleri eğit\u001b[0m\u001b[0;34m\u001b[0m\u001b[0;34m\u001b[0m\u001b[0m\n\u001b[1;32m      9\u001b[0m \u001b[0;32mfor\u001b[0m \u001b[0mname\u001b[0m\u001b[0;34m,\u001b[0m \u001b[0mmodel\u001b[0m \u001b[0;32min\u001b[0m \u001b[0mmodels\u001b[0m\u001b[0;34m.\u001b[0m\u001b[0mitems\u001b[0m\u001b[0;34m(\u001b[0m\u001b[0;34m)\u001b[0m\u001b[0;34m:\u001b[0m\u001b[0;34m\u001b[0m\u001b[0;34m\u001b[0m\u001b[0m\n\u001b[0;32m---> 10\u001b[0;31m     \u001b[0mmodel\u001b[0m\u001b[0;34m.\u001b[0m\u001b[0mfit\u001b[0m\u001b[0;34m(\u001b[0m\u001b[0mX_train\u001b[0m\u001b[0;34m,\u001b[0m \u001b[0my_train\u001b[0m\u001b[0;34m)\u001b[0m\u001b[0;34m\u001b[0m\u001b[0;34m\u001b[0m\u001b[0m\n\u001b[0m\u001b[1;32m     11\u001b[0m \u001b[0;34m\u001b[0m\u001b[0m\n\u001b[1;32m     12\u001b[0m \u001b[0;31m# Modelleri test et\u001b[0m\u001b[0;34m\u001b[0m\u001b[0;34m\u001b[0m\u001b[0m\n",
            "\u001b[0;31mNameError\u001b[0m: name 'X_train' is not defined"
          ]
        }
      ]
    },
    {
      "cell_type": "code",
      "source": [
        "import pandas as pd\n",
        "\n",
        "# Veri setini oku\n",
        "data = pd.read_excel(\"data.xlsx\")\n",
        "\n",
        "# Her sayının kaç kez çıktığını say\n",
        "sayilar = data.value_counts()\n",
        "\n",
        "# En çok çıkan 10 sayıyı sıralayarak göster\n",
        "print(sayilar.sort_values(ascending=False).head(10))\n"
      ],
      "metadata": {
        "colab": {
          "base_uri": "https://localhost:8080/"
        },
        "id": "djS4xUvfQAR6",
        "outputId": "170f946b-11f6-4695-ce06-56592c437887"
      },
      "execution_count": 38,
      "outputs": [
        {
          "output_type": "stream",
          "name": "stdout",
          "text": [
            "Çekiliş Sonuçları:  Çekiliş Sonuçları:.1  Çekiliş Sonuçları:.2  Çekiliş Sonuçları:.3  Çekiliş Sonuçları:.4  Çekiliş Sonuçları:.5  Çekiliş Sonuçları:.6  Çekiliş Sonuçları:.7  Çekiliş Sonuçları:.8  Çekiliş Sonuçları:.9  Çekiliş Sonuçları:.10  Çekiliş Sonuçları:.11  Çekiliş Sonuçları:.12  Çekiliş Sonuçları:.13  Çekiliş Sonuçları:.14  Çekiliş Sonuçları:.15  Çekiliş Sonuçları:.16  Çekiliş Sonuçları:.17  Çekiliş Sonuçları:.18  Çekiliş Sonuçları:.19  Çekiliş Sonuçları:.20  Çekiliş Sonuçları:.21  Çekiliş Sonuçları:.22  Çekiliş Sonuçları:.23  Çekiliş Sonuçları:.24  Çekiliş Sonuçları:.25  Çekiliş Sonuçları:.26  Çekiliş Sonuçları:.27  Çekiliş Sonuçları:.28  Çekiliş Sonuçları:.29  Çekiliş Sonuçları:.30  Çekiliş Sonuçları:.31  Çekiliş Sonuçları:.32  Çekiliş Sonuçları:.33  Çekiliş Sonuçları:.34  Çekiliş Sonuçları:.35  Çekiliş Sonuçları:.36  Çekiliş Sonuçları:.37  Çekiliş Sonuçları:.38  Çekiliş Sonuçları:.39  Çekiliş Sonuçları:.40  Çekiliş Sonuçları:.41  Çekiliş Sonuçları:.42  Çekiliş Sonuçları:.43  Çekiliş Sonuçları:.44  Çekiliş Sonuçları:.45  Çekiliş Sonuçları:.46  Çekiliş Sonuçları:.47  Çekiliş Sonuçları:.48  Çekiliş Sonuçları:.49  Çekiliş Sonuçları:.50  Çekiliş Sonuçları:.51  Çekiliş Sonuçları:.52  Çekiliş Sonuçları:.53  Çekiliş Sonuçları:.54  Çekiliş Sonuçları:.55  Çekiliş Sonuçları:.56  Çekiliş Sonuçları:.57  Çekiliş Sonuçları:.58  Çekiliş Sonuçları:.59  Çekiliş Sonuçları:.60  Çekiliş Sonuçları:.61  Çekiliş Sonuçları:.62  Çekiliş Sonuçları:.63  Çekiliş Sonuçları:.64  Çekiliş Sonuçları:.65  Çekiliş Sonuçları:.66  Çekiliş Sonuçları:.67  Çekiliş Sonuçları:.68  Çekiliş Sonuçları:.69  Çekiliş Sonuçları:.70  Çekiliş Sonuçları:.71  Çekiliş Sonuçları:.72  Çekiliş Sonuçları:.73  Çekiliş Sonuçları:.74  Çekiliş Sonuçları:.75  Çekiliş Sonuçları:.76  Çekiliş Sonuçları:.77  Çekiliş Sonuçları:.78  Çekiliş Sonuçları:.79  Çekiliş Sonuçları:.80  Çekiliş Sonuçları:.81  Çekiliş Sonuçları:.82  Çekiliş Sonuçları:.83  Çekiliş Sonuçları:.84  Çekiliş Sonuçları:.85  Çekiliş Sonuçları:.86  Çekiliş Sonuçları:.87  Çekiliş Sonuçları:.88  Çekiliş Sonuçları:.89  Çekiliş Sonuçları:.90  Çekiliş Sonuçları:.91  Çekiliş Sonuçları:.92  Çekiliş Sonuçları:.93  Çekiliş Sonuçları:.94  Çekiliş Sonuçları:.95  Çekiliş Sonuçları:.96  Çekiliş Sonuçları:.97  Çekiliş Sonuçları:.98  Çekiliş Sonuçları:.99  Çekiliş Sonuçları:.100  Çekiliş Sonuçları:.101  Çekiliş Sonuçları:.102  Çekiliş Sonuçları:.103  Çekiliş Sonuçları:.104  Çekiliş Sonuçları:.105  Çekiliş Sonuçları:.106  Çekiliş Sonuçları:.107  Çekiliş Sonuçları:.108  Çekiliş Sonuçları:.109  Çekiliş Sonuçları:.110  Çekiliş Sonuçları:.111  Çekiliş Sonuçları:.112  Çekiliş Sonuçları:.113  Çekiliş Sonuçları:.114  Çekiliş Sonuçları:.115  Çekiliş Sonuçları:.116  Çekiliş Sonuçları:.117  Çekiliş Sonuçları:.118  Çekiliş Sonuçları:.119  Çekiliş Sonuçları:.120  Çekiliş Sonuçları:.121  Çekiliş Sonuçları:.122  Çekiliş Sonuçları:.123  Çekiliş Sonuçları:.124  Çekiliş Sonuçları:.125  Çekiliş Sonuçları:.126  Çekiliş Sonuçları:.127  Çekiliş Sonuçları:.128  Çekiliş Sonuçları:.129  Çekiliş Sonuçları:.130  Çekiliş Sonuçları:.131  Çekiliş Sonuçları:.132  Çekiliş Sonuçları:.133  Çekiliş Sonuçları:.134  Çekiliş Sonuçları:.135  Çekiliş Sonuçları:.136  Çekiliş Sonuçları:.137  Çekiliş Sonuçları:.138  Çekiliş Sonuçları:.139  Çekiliş Sonuçları:.140  Çekiliş Sonuçları:.141  Çekiliş Sonuçları:.142  Çekiliş Sonuçları:.143  Çekiliş Sonuçları:.144  Çekiliş Sonuçları:.145  Çekiliş Sonuçları:.146  Çekiliş Sonuçları:.147  Çekiliş Sonuçları:.148  Çekiliş Sonuçları:.149  Çekiliş Sonuçları:.150  Çekiliş Sonuçları:.151  Çekiliş Sonuçları:.152  Çekiliş Sonuçları:.153  Çekiliş Sonuçları:.154  Çekiliş Sonuçları:.155  Çekiliş Sonuçları:.156  Çekiliş Sonuçları:.157  Çekiliş Sonuçları:.158  Çekiliş Sonuçları:.159  Çekiliş Sonuçları:.160  Çekiliş Sonuçları:.161  Çekiliş Sonuçları:.162  Çekiliş Sonuçları:.163  Çekiliş Sonuçları:.164  Çekiliş Sonuçları:.165  Çekiliş Sonuçları:.166  Çekiliş Sonuçları:.167  Çekiliş Sonuçları:.168  Çekiliş Sonuçları:.169  Çekiliş Sonuçları:.170  Çekiliş Sonuçları:.171  Çekiliş Sonuçları:.172  Çekiliş Sonuçları:.173  Çekiliş Sonuçları:.174  Çekiliş Sonuçları:.175  Çekiliş Sonuçları:.176  Çekiliş Sonuçları:.177  Çekiliş Sonuçları:.178  Çekiliş Sonuçları:.179  Çekiliş Sonuçları:.180  Çekiliş Sonuçları:.181  Çekiliş Sonuçları:.182  Çekiliş Sonuçları:.183  Çekiliş Sonuçları:.184  Çekiliş Sonuçları:.185  Çekiliş Sonuçları:.186  Çekiliş Sonuçları:.187  Çekiliş Sonuçları:.188  Çekiliş Sonuçları:.189  Çekiliş Sonuçları:.190  Çekiliş Sonuçları:.191  Çekiliş Sonuçları:.192  Çekiliş Sonuçları:.193  Çekiliş Sonuçları:.194  Çekiliş Sonuçları:.195  Çekiliş Sonuçları:.196  Çekiliş Sonuçları:.197  Çekiliş Sonuçları:.198  Çekiliş Sonuçları:.199  Çekiliş Sonuçları:.200  Çekiliş Sonuçları:.201  Çekiliş Sonuçları:.202  Çekiliş Sonuçları:.203  Çekiliş Sonuçları:.204  Çekiliş Sonuçları:.205  Çekiliş Sonuçları:.206  Çekiliş Sonuçları:.207  Çekiliş Sonuçları:.208  Çekiliş Sonuçları:.209  Çekiliş Sonuçları:.210  Çekiliş Sonuçları:.211  Çekiliş Sonuçları:.212  Çekiliş Sonuçları:.213  Çekiliş Sonuçları:.214  Çekiliş Sonuçları:.215  Çekiliş Sonuçları:.216  Çekiliş Sonuçları:.217  Çekiliş Sonuçları:.218  Çekiliş Sonuçları:.219  Çekiliş Sonuçları:.220  Çekiliş Sonuçları:.221  Çekiliş Sonuçları:.222  Çekiliş Sonuçları:.223  Çekiliş Sonuçları:.224  Çekiliş Sonuçları:.225  Çekiliş Sonuçları:.226  Çekiliş Sonuçları:.227  Çekiliş Sonuçları:.228  Çekiliş Sonuçları:.229  Çekiliş Sonuçları:.230  Çekiliş Sonuçları:.231  Çekiliş Sonuçları:.232  Çekiliş Sonuçları:.233  Çekiliş Sonuçları:.234  Çekiliş Sonuçları:.235  Çekiliş Sonuçları:.236  Çekiliş Sonuçları:.237  Çekiliş Sonuçları:.238  Çekiliş Sonuçları:.239  Çekiliş Sonuçları:.240  Çekiliş Sonuçları:.241  Çekiliş Sonuçları:.242  Çekiliş Sonuçları:.243  Çekiliş Sonuçları:.244  Çekiliş Sonuçları:.245  Çekiliş Sonuçları:.246  Çekiliş Sonuçları:.247  Çekiliş Sonuçları:.248  Çekiliş Sonuçları:.249  Çekiliş Sonuçları:.250  Çekiliş Sonuçları:.251  Çekiliş Sonuçları:.252  Çekiliş Sonuçları:.253  Çekiliş Sonuçları:.254  Çekiliş Sonuçları:.255  Çekiliş Sonuçları:.256  Çekiliş Sonuçları:.257  Çekiliş Sonuçları:.258  Çekiliş Sonuçları:.259  Çekiliş Sonuçları:.260  Çekiliş Sonuçları:.261  Çekiliş Sonuçları:.262  Çekiliş Sonuçları:.263  Çekiliş Sonuçları:.264  Çekiliş Sonuçları:.265  Çekiliş Sonuçları:.266  Çekiliş Sonuçları:.267  Çekiliş Sonuçları:.268  Çekiliş Sonuçları:.269  Çekiliş Sonuçları:.270  Çekiliş Sonuçları:.271  Çekiliş Sonuçları:.272  Çekiliş Sonuçları:.273  Çekiliş Sonuçları:.274  Çekiliş Sonuçları:.275  Çekiliş Sonuçları:.276  Çekiliş Sonuçları:.277  Çekiliş Sonuçları:.278  Çekiliş Sonuçları:.279  Çekiliş Sonuçları:.280  Çekiliş Sonuçları:.281  Çekiliş Sonuçları:.282  Çekiliş Sonuçları:.283  Çekiliş Sonuçları:.284  Çekiliş Sonuçları:.285  Çekiliş Sonuçları:.286  Çekiliş Sonuçları:.287  Çekiliş Sonuçları:.288  Çekiliş Sonuçları:.289  Çekiliş Sonuçları:.290  Çekiliş Sonuçları:.291  Çekiliş Sonuçları:.292  Çekiliş Sonuçları:.293  Çekiliş Sonuçları:.294  Çekiliş Sonuçları:.295  Çekiliş Sonuçları:.296  Çekiliş Sonuçları:.297  Çekiliş Sonuçları:.298  Çekiliş Sonuçları:.299  Çekiliş Sonuçları:.300  Çekiliş Sonuçları:.301  Çekiliş Sonuçları:.302  Çekiliş Sonuçları:.303  Çekiliş Sonuçları:.304  Çekiliş Sonuçları:.305  Çekiliş Sonuçları:.306  Çekiliş Sonuçları:.307  Çekiliş Sonuçları:.308  Çekiliş Sonuçları:.309  Çekiliş Sonuçları:.310  Çekiliş Sonuçları:.311  Çekiliş Sonuçları:.312  Çekiliş Sonuçları:.313  Çekiliş Sonuçları:.314  Çekiliş Sonuçları:.315  Çekiliş Sonuçları:.316  Çekiliş Sonuçları:.317  Çekiliş Sonuçları:.318  Çekiliş Sonuçları:.319  Çekiliş Sonuçları:.320  Çekiliş Sonuçları:.321  Çekiliş Sonuçları:.322  Çekiliş Sonuçları:.323  Çekiliş Sonuçları:.324  Çekiliş Sonuçları:.325  Çekiliş Sonuçları:.326  Çekiliş Sonuçları:.327  Çekiliş Sonuçları:.328  Çekiliş Sonuçları:.329  Çekiliş Sonuçları:.330  Çekiliş Sonuçları:.331  Çekiliş Sonuçları:.332  Çekiliş Sonuçları:.333  Çekiliş Sonuçları:.334  Çekiliş Sonuçları:.335  Çekiliş Sonuçları:.336  Çekiliş Sonuçları:.337  Çekiliş Sonuçları:.338  Çekiliş Sonuçları:.339  Çekiliş Sonuçları:.340  Çekiliş Sonuçları:.341  Çekiliş Sonuçları:.342  Çekiliş Sonuçları:.343  Çekiliş Sonuçları:.344  Çekiliş Sonuçları:.345  Çekiliş Sonuçları:.346  Çekiliş Sonuçları:.347  Çekiliş Sonuçları:.348  Çekiliş Sonuçları:.349  Çekiliş Sonuçları:.350  Çekiliş Sonuçları:.351  Çekiliş Sonuçları:.352  Çekiliş Sonuçları:.353  Çekiliş Sonuçları:.354  Çekiliş Sonuçları:.355  Çekiliş Sonuçları:.356  Çekiliş Sonuçları:.357  Çekiliş Sonuçları:.358\n",
            "11                  5                     2                     3                     2                     1                     1                     3                     3                     3                     2                      2                      1                      4                      1                      5                      2                      12                     5                      5                      2                      5                      3                      1                      2                      3                      4                      1                      4                      1                      5                      2                      6                      5                      2                      5                      4                      2                      2                      4                      2                      2                      6                      3                      7                      6                      4                      2                      2                      4                      4                      8                      8                      3                      8                      1                      9                      1                      1                      6                      2                      8                      2                      1                      2                      5                      3                      4                      4                      1                      8                      3                      3                      4                      1                      11                     5                      2                      1                      1                      4                      1                      1                      1                      1                      2                      1                      1                      2                      2                      9                      2                      2                      2                      1                      1                      5                      3                      6                      2                      5                       2                       4                       8                       5                       1                       5                       5                       2                       2                       1                       2                       2                       3                       4                       2                       3                       4                       2                       2                       2                       4                       3                       2                       2                       1                       2                       2                       4                       5                       2                       8                       2                       4                       1                       5                       7                       8                       2                       1                       7                       9                       7                       2                       2                       1                       2                       5                       6                       13                      6                       1                       1                       4                       2                       1                       7                       6                       1                       1                       7                       2                       3                       3                       2                       2                       1                       2                       1                       2                       1                       1                       5                       2                       13                      1                       13                      2                       2                       6                       2                       10                      2                       5                       1                       3                       4                       3                       1                       2                       12                      3                       2                       1                       3                       2                       1                       1                       1                       3                       2                       4                       2                       3                       6                       1                       7                       5                       1                       1                       1                       7                       1                       3                       4                       6                       4                       1                       2                       2                       6                       1                       2                       2                       4                       3                       9                       2                       1                       1                       2                       2                       1                       5                       4                       6                       5                       2                       1                       1                       1                       2                       6                       1                       1                       8                       5                       6                       3                       12                      6                       2                       2                       3                       2                       1                       1                       8                       5                       1                       3                       2                       3                       2                       10                      2                       1                       1                       3                       1                       1                       4                       1                       2                       2                       1                       7                       8                       2                       2                       3                       2                       3                       2                       2                       4                       2                       5                       7                       4                       9                       1                       2                       1                       1                       6                       1                       1                       4                       4                       3                       3                       4                       4                       1                       1                       3                       2                       6                       4                       1                       4                       2                       2                       2                       1                       1                       4                       1                       4                       2                       1                       6                       11                      6                       2                       9                       2                       10                      3                       1                       3                       11                      1                       1                       5                       3                       3                       3                       3                       3                       1                       1                       1                       4                       1                       1                       4                       3                       1                       6                       1                       2                       1                       4                       5                       1                       2                       1                         1\n",
            "17                  6                     12                    6                     3                     2                     4                     5                     11                    7                     3                      5                      16                     6                      3                      11                     4                      13                     7                      13                     5                      9                      4                      3                      7                      13                     7                      5                      5                      5                      7                      9                      9                      9                      6                      8                      5                      3                      4                      5                      6                      4                      11                     4                      11                     7                      6                      5                      3                      9                      8                      9                      12                     4                      9                      5                      11                     5                      7                      7                      7                      13                     4                      6                      6                      14                     4                      6                      6                      2                      9                      6                      5                      6                      5                      16                     19                     8                      5                      2                      7                      2                      10                     3                      2                      3                      2                      3                      3                      5                      11                     8                      4                      7                      2                      5                      7                      6                      10                     5                      7                       7                       8                       13                      7                       4                       7                       7                       5                       4                       2                       3                       6                       4                       6                       6                       4                       5                       4                       3                       5                       11                      4                       3                       4                       3                       3                       3                       5                       6                       3                       14                      3                       5                       4                       7                       8                       9                       4                       8                       10                      11                      8                       3                       3                       8                       4                       6                       7                       18                      16                      6                       3                       5                       12                      3                       14                      7                       2                       3                       10                      3                       6                       4                       4                       9                       6                       7                       5                       6                       2                       4                       12                      4                       18                      4                       15                      4                       4                       8                       9                       12                      4                       7                       3                       5                       8                       4                       5                       3                       18                      4                       4                       4                       5                       4                       5                       2                       2                       4                       4                       5                       4                       4                       20                      2                       9                       6                       6                       3                       4                       9                       3                       8                       5                       10                      15                      2                       4                       11                      8                       8                       3                       4                       6                       5                       10                      7                       3                       8                       7                       6                       2                       12                      7                       7                       7                       3                       7                       3                       3                       3                       7                       5                       5                       13                      6                       10                      4                       15                      11                      9                       5                       12                      5                       2                       14                      10                      8                       6                       5                       7                       4                       5                       11                      3                       2                       13                      5                       3                       7                       6                       2                       8                       3                       10                      8                       14                      5                       6                       6                       5                       4                       4                       10                      8                       4                       6                       10                      5                       15                      2                       3                       2                       3                       7                       2                       3                       5                       7                       4                       5                       6                       11                      3                       6                       4                       12                      8                       8                       7                       8                       5                       3                       3                       4                       5                       16                      4                       7                       4                       3                       13                      14                      11                      3                       10                      14                      11                      4                       2                       4                       18                      8                       4                       9                       7                       7                       12                      6                       6                       11                      3                       4                       6                       6                       5                       6                       4                       5                       7                       2                       9                       4                       5                       10                      10                      3                       2                         1\n",
            "18                  14                    13                    8                     6                     4                     5                     8                     12                    13                    12                     10                     19                     7                      5                      13                     13                     15                     9                      16                     6                      12                     9                      7                      8                      16                     12                     16                     6                      9                      8                      13                     13                     13                     7                      9                      10                     13                     8                      7                      8                      8                      18                     10                     15                     12                     8                      6                      16                     12                     11                     17                     13                     7                      11                     9                      18                     7                      9                      12                     14                     14                     6                      7                      7                      16                     8                      11                     8                      7                      15                     9                      12                     7                      7                      17                     20                     10                     6                      4                      12                     8                      12                     15                     4                      11                     3                      5                      4                      8                      12                     12                     5                      12                     3                      8                      11                     7                      11                     7                      9                       13                      14                      15                      10                      10                      14                      9                       6                       8                       6                       5                       12                      5                       7                       11                      8                       6                       7                       5                       7                       13                      8                       6                       5                       6                       5                       6                       6                       7                       8                       16                      8                       6                       9                       20                      9                       10                      7                       10                      14                      12                      10                      8                       7                       12                      9                       11                      15                      21                      17                      8                       11                      11                      18                      15                      18                      16                      5                       11                      12                      6                       9                       12                      12                      12                      12                      9                       10                      8                       3                       7                       13                      5                       20                      14                      16                      6                       12                      12                      12                      14                      6                       10                      10                      7                       16                      8                       14                      9                       19                      5                       8                       8                       6                       9                       7                       6                       3                       7                       6                       9                       9                       5                       22                      6                       16                      10                      10                      6                       21                      13                      10                      11                      7                       11                      16                      7                       6                       13                      12                      9                       11                      11                      8                       6                       16                      8                       11                      10                      9                       7                       3                       13                      11                      14                      8                       5                       8                       5                       6                       5                       11                      8                       6                       16                      13                      11                      7                       17                      12                      10                      11                      16                      6                       4                       15                      13                      9                       7                       9                       8                       6                       9                       18                      7                       3                       18                      13                      6                       11                      8                       11                      14                      4                       23                      11                      23                      6                       10                      11                      9                       5                       6                       11                      13                      7                       10                      19                      16                      16                      6                       4                       14                      4                       13                      3                       4                       10                      8                       5                       6                       15                      12                      12                      8                       13                      13                      11                      11                      9                       9                       6                       8                       4                       6                       9                       17                      5                       8                       5                       7                       23                      18                      12                      10                      12                      20                      12                      6                       6                       9                       19                      11                      6                       14                      10                      8                       16                      9                       9                       16                      5                       7                       7                       13                      19                      7                       18                      6                       11                      4                       13                      15                      7                       16                      11                      4                       10                        1\n",
            "24                  16                    14                    9                     7                     11                    6                     13                    13                    18                    15                     14                     26                     9                      6                      19                     16                     18                     12                     18                     12                     13                     14                     17                     13                     24                     13                     30                     7                      19                     11                     16                     21                     15                     12                     15                     12                     14                     10                     8                      10                     10                     19                     16                     16                     15                     12                     10                     24                     22                     12                     20                     14                     16                     12                     11                     20                     10                     10                     16                     19                     15                     13                     8                      14                     18                     20                     15                     11                     9                      18                     14                     16                     13                     9                      23                     24                     11                     8                      10                     14                     9                      17                     32                     11                     12                     4                      8                      8                      10                     13                     13                     13                     14                     11                     12                     14                     9                      17                     14                     13                      15                      17                      16                      11                      13                      27                      14                      8                       9                       16                      7                       13                      14                      11                      12                      13                      9                       8                       6                       12                      15                      9                       8                       12                      7                       8                       7                       7                       10                      9                       20                      10                      11                      12                      24                      16                      11                      11                      11                      16                      17                      14                      12                      13                      15                      10                      17                      16                      24                      24                      9                       14                      12                      19                      18                      23                      17                      14                      14                      16                      8                       11                      13                      27                      13                      13                      16                      19                      10                      4                       8                       18                      8                       22                      15                      18                      9                       15                      13                      14                      15                      11                      12                      15                      10                      21                      9                       26                      12                      23                      7                       9                       13                      9                       10                      9                       8                       5                       9                       9                       11                      15                      7                       23                      7                       20                      12                      12                      9                       23                      16                      12                      12                      9                       14                      20                      12                      12                      15                      14                      10                      17                      13                      10                      12                      17                      9                       17                      11                      10                      12                      8                       15                      14                      16                      12                      16                      14                      12                      8                       11                      22                      9                       7                       20                      15                      19                      8                       21                      14                      17                      12                      17                      10                      9                       16                      15                      10                      8                       10                      9                       7                       18                      20                      9                       6                       21                      19                      12                      13                      10                      13                      20                      6                       24                      20                      24                      7                       14                      14                      11                      16                      7                       12                      16                      8                       12                      24                      27                      19                      14                      8                       21                      8                       16                      11                      7                       13                      10                      7                       12                      19                      16                      13                      10                      21                      14                      13                      13                      11                      10                      11                      18                      6                       8                       19                      22                      11                      11                      11                      10                      27                      19                      15                      15                      15                      21                      16                      12                      7                       13                      25                      12                      7                       24                      13                      11                      22                      10                      14                      17                      8                       9                       8                       17                      20                      11                      20                      8                       13                      8                       15                      18                      18                      18                      15                      6                       12                        1\n",
            "25                  22                    16                    10                    8                     14                    9                     14                    21                    20                    20                     22                     27                     17                     10                     21                     18                     29                     13                     21                     13                     15                     17                     19                     14                     28                     19                     32                     10                     22                     12                     17                     28                     18                     16                     16                     19                     18                     13                     11                     15                     20                     22                     18                     18                     19                     13                     12                     26                     27                     15                     22                     15                     18                     13                     13                     21                     11                     11                     17                     20                     17                     14                     9                      17                     28                     22                     19                     13                     18                     19                     17                     17                     14                     10                     25                     28                     14                     9                      13                     21                     11                     19                     33                     13                     19                     11                     10                     11                     11                     17                     14                     19                     15                     16                     17                     18                     11                     18                     18                     15                      16                      18                      19                      12                      19                      29                      24                      10                      12                      20                      16                      14                      22                      15                      14                      15                      11                      10                      7                       15                      16                      18                      10                      20                      13                      14                      10                      14                      12                      14                      25                      16                      15                      13                      29                      20                      13                      18                      12                      17                      19                      16                      16                      15                      22                      13                      29                      18                      25                      31                      12                      15                      18                      24                      19                      27                      18                      20                      23                      18                      11                      13                      14                      28                      15                      14                      27                      20                      18                      9                       20                      22                      9                       23                      30                      21                      15                      19                      14                      22                      16                      13                      13                      21                      12                      24                      12                      27                      15                      27                      8                       16                      15                      10                      12                      10                      11                      6                       10                      11                      16                      17                      8                       27                      14                      25                      17                      14                      10                      27                      17                      15                      13                      11                      20                      21                      14                      14                      18                      20                      15                      23                      17                      13                      17                      19                      11                      19                      12                      13                      20                      9                       17                      18                      17                      15                      17                      15                      13                      16                      15                      23                      13                      11                      21                      22                      22                      14                      22                      18                      19                      13                      19                      13                      10                      18                      16                      13                      12                      14                      17                      8                       22                      24                      14                      9                       30                      20                      13                      15                      13                      17                      21                      9                       25                      25                      25                      8                       21                      20                      13                      17                      16                      15                      21                      12                      13                      27                      28                      24                      16                      9                       22                      17                      18                      12                      10                      17                      11                      18                      14                      22                      19                      19                      12                      23                      18                      14                      14                      13                      14                      14                      20                      12                      11                      24                      28                      15                      13                      15                      17                      28                      20                      18                      18                      16                      22                      18                      13                      12                      22                      29                      14                      14                      25                      17                      20                      27                      12                      16                      20                      9                       12                      11                      20                      24                      16                      21                      10                      16                      10                      26                      21                      20                      19                      16                      8                       15                        1\n",
            "26                  24                    19                    12                    12                    15                    26                    17                    26                    28                    21                     27                     28                     20                     12                     24                     19                     30                     18                     24                     14                     16                     19                     20                     22                     31                     25                     37                     14                     25                     16                     19                     29                     25                     19                     17                     23                     19                     15                     13                     19                     22                     27                     22                     30                     23                     16                     15                     30                     28                     16                     24                     16                     21                     15                     17                     22                     14                     13                     22                     23                     18                     15                     12                     27                     29                     31                     20                     14                     22                     25                     24                     27                     15                     11                     27                     32                     21                     11                     14                     25                     12                     22                     34                     15                     20                     19                     12                     18                     14                     22                     17                     22                     18                     19                     25                     19                     12                     23                     19                     16                      18                      21                      24                      13                      20                      30                      30                      14                      13                      21                      21                      15                      25                      16                      15                      20                      14                      11                      9                       16                      22                      25                      19                      22                      16                      20                      12                      23                      15                      15                      26                      17                      16                      17                      30                      22                      16                      22                      13                      19                      20                      17                      17                      17                      27                      17                      34                      21                      26                      33                      16                      16                      22                      27                      23                      29                      28                      21                      24                      23                      13                      16                      15                      32                      17                      15                      31                      26                      20                      14                      21                      28                      13                      25                      44                      26                      24                      22                      20                      24                      20                      14                      15                      25                      15                      27                      16                      32                      18                      28                      11                      18                      17                      11                      20                      16                      13                      7                       11                      14                      21                      21                      9                       28                      21                      30                      27                      25                      13                      31                      18                      17                      15                      21                      23                      22                      15                      15                      19                      23                      22                      25                      18                      15                      19                      21                      13                      26                      14                      16                      21                      11                      19                      22                      19                      18                      21                      18                      15                      18                      17                      33                      24                      12                      22                      24                      23                      16                      23                      22                      21                      19                      20                      16                      18                      26                      21                      14                      14                      15                      21                      9                       24                      26                      19                      19                      33                      25                      17                      17                      14                      18                      22                      16                      31                      26                      28                      15                      23                      26                      16                      21                      20                      16                      25                      24                      15                      32                      29                      29                      19                      16                      27                      18                      20                      16                      11                      18                      15                      19                      19                      23                      32                      23                      22                      24                      20                      16                      15                      14                      16                      16                      21                      18                      13                      41                      29                      21                      19                      19                      25                      29                      26                      19                      19                      17                      30                      20                      16                      20                      25                      30                      16                      20                      30                      27                      21                      30                      17                      18                      23                      10                      13                      18                      25                      28                      17                      27                      14                      17                      16                      29                      27                      22                      23                      17                      11                      23                        1\n",
            "27                  26                    27                    14                    13                    18                    27                    20                    38                    37                    24                     28                     30                     21                     18                     28                     24                     32                     19                     26                     23                     19                     25                     21                     28                     33                     26                     38                     15                     27                     17                     22                     32                     36                     20                     27                     24                     20                     19                     20                     26                     24                     32                     29                     32                     28                     17                     17                     37                     29                     27                     26                     17                     22                     16                     21                     23                     16                     16                     27                     24                     21                     16                     20                     39                     31                     33                     23                     15                     24                     26                     29                     29                     19                     15                     30                     33                     27                     15                     18                     26                     13                     24                     37                     16                     26                     20                     15                     25                     25                     25                     31                     29                     20                     21                     26                     23                     13                     25                     20                     18                      21                      24                      25                      16                      22                      36                      41                      18                      18                      22                      28                      16                      26                      19                      16                      22                      16                      20                      16                      17                      24                      32                      23                      23                      17                      21                      16                      25                      19                      17                      27                      21                      17                      19                      31                      27                      25                      26                      16                      26                      21                      21                      19                      21                      30                      19                      36                      25                      35                      34                      20                      17                      29                      32                      24                      31                      32                      27                      28                      26                      18                      17                      20                      37                      19                      19                      42                      29                      22                      16                      25                      31                      16                      26                      46                      28                      28                      24                      24                      25                      21                      16                      16                      26                      16                      28                      17                      33                      30                      29                      12                      23                      43                      13                      28                      19                      17                      18                      12                      15                      25                      22                      12                      29                      26                      35                      28                      31                      15                      33                      19                      27                      16                      27                      42                      28                      17                      16                      26                      28                      29                      30                      19                      17                      24                      23                      17                      34                      15                      20                      23                      15                      21                      30                      26                      20                      22                      25                      19                      19                      19                      39                      25                      18                      25                      25                      24                      20                      28                      26                      23                      27                      23                      17                      23                      33                      22                      25                      19                      19                      34                      17                      27                      32                      23                      25                      35                      26                      20                      20                      18                      27                      23                      20                      35                      29                      37                      26                      25                      30                      17                      28                      23                      22                      29                      25                      16                      39                      30                      34                      27                      20                      33                      21                      30                      27                      12                      24                      26                      23                      29                      26                      33                      25                      26                      33                      23                      17                      18                      19                      21                      17                      26                      20                      15                      42                      32                      23                      21                      25                      27                      37                      27                      24                      20                      32                      34                      26                      24                      27                      26                      41                      18                      22                      31                      31                      29                      32                      18                      19                      25                      11                      14                      31                      27                      29                      20                      32                      20                      18                      21                      33                      30                      23                      24                      18                      14                      25                        1\n",
            "32                  29                    32                    21                    15                    22                    28                    23                    39                    39                    26                     31                     34                     29                     29                     31                     26                     35                     24                     27                     24                     20                     28                     24                     31                     34                     27                     39                     19                     34                     25                     27                     34                     47                     26                     31                     25                     21                     24                     23                     34                     25                     34                     31                     35                     29                     32                     28                     38                     31                     31                     28                     21                     23                     19                     22                     27                     20                     19                     37                     27                     22                     22                     24                     40                     32                     38                     24                     16                     28                     31                     31                     31                     20                     19                     31                     35                     28                     24                     19                     31                     16                     27                     38                     23                     27                     22                     23                     27                     33                     30                     33                     31                     23                     22                     36                     24                     16                     33                     21                     19                      24                      26                      31                      18                      23                      37                      42                      19                      25                      26                      30                      23                      30                      29                      18                      26                      17                      21                      18                      18                      33                      33                      27                      25                      26                      23                      17                      27                      21                      19                      29                      23                      20                      29                      35                      32                      27                      28                      17                      30                      29                      25                      20                      22                      37                      23                      38                      30                      39                      37                      22                      20                      40                      34                      27                      34                      36                      34                      34                      30                      20                      26                      23                      39                      20                      24                      43                      36                      24                      22                      27                      33                      20                      31                      49                      35                      30                      29                      31                      32                      27                      25                      18                      31                      18                      30                      23                      37                      31                      32                      14                      25                      46                      14                      30                      22                      18                      20                      16                      17                      27                      25                      13                      32                      43                      38                      35                      32                      18                      38                      20                      29                      18                      29                      48                      29                      25                      21                      29                      30                      30                      37                      20                      21                      26                      30                      23                      41                      17                      26                      27                      16                      23                      32                      33                      21                      23                      27                      26                      27                      20                      49                      28                      20                      26                      27                      25                      21                      30                      30                      24                      30                      29                      22                      27                      40                      25                      27                      21                      29                      35                      30                      30                      34                      25                      27                      40                      42                      21                      24                      19                      32                      24                      24                      37                      33                      43                      28                      28                      31                      18                      29                      25                      28                      31                      30                      20                      44                      36                      40                      30                      27                      34                      22                      31                      32                      13                      25                      28                      35                      31                      30                      34                      30                      30                      34                      30                      18                      20                      28                      22                      21                      28                      31                      17                      44                      37                      25                      26                      29                      28                      39                      28                      25                      21                      39                      36                      29                      27                      30                      32                      42                      24                      32                      32                      35                      34                      36                      29                      20                      29                      12                      22                      35                      29                      37                      25                      33                      21                      20                      25                      37                      33                      30                      32                      25                      16                      33                        1\n",
            "39                  33                    34                    23                    20                    30                    34                    24                    40                    40                    31                     33                     40                     30                     32                     33                     30                     37                     32                     30                     28                     27                     44                     25                     33                     38                     31                     42                     20                     37                     28                     31                     37                     48                     33                     36                     27                     24                     27                     29                     40                     26                     38                     34                     37                     32                     33                     29                     39                     33                     32                     29                     34                     26                     33                     30                     29                     23                     21                     40                     32                     25                     29                     29                     41                     36                     44                     27                     19                     29                     35                     38                     36                     21                     22                     37                     38                     29                     28                     24                     40                     19                     29                     40                     24                     28                     24                     24                     31                     34                     34                     36                     33                     24                     24                     39                     36                     18                     42                     24                     25                      28                      27                      36                      25                      26                      40                      46                      24                      27                      30                      34                      30                      34                      38                      22                      28                      21                      22                      21                      21                      38                      42                      29                      26                      28                      28                      18                      29                      29                      27                      32                      30                      21                      36                      38                      37                      28                      29                      28                      37                      32                      31                      32                      30                      40                      26                      41                      34                      40                      38                      24                      22                      43                      36                      28                      35                      37                      35                      46                      33                      27                      29                      29                      41                      22                      25                      44                      39                      30                      24                      32                      34                      26                      32                      51                      37                      31                      34                      32                      34                      37                      30                      21                      32                      21                      33                      31                      38                      32                      40                      17                      28                      49                      18                      32                      24                      22                      22                      27                      29                      30                      28                      15                      38                      49                      40                      36                      38                      25                      40                      22                      31                      19                      31                      49                      30                      29                      31                      34                      34                      35                      39                      21                      27                      28                      32                      24                      42                      18                      32                      33                      25                      27                      34                      36                      22                      25                      29                      31                      35                      24                      54                      29                      27                      29                      32                      26                      23                      31                      32                      25                      32                      30                      30                      30                      43                      26                      32                      22                      36                      41                      31                      36                      35                      26                      32                      48                      43                      28                      25                      20                      35                      26                      28                      40                      36                      44                      29                      30                      33                      19                      31                      36                      29                      35                      42                      26                      45                      38                      43                      51                      29                      37                      27                      32                      33                      17                      31                      31                      41                      34                      31                      35                      36                      31                      42                      31                      28                      23                      33                      25                      29                      29                      32                      29                      45                      39                      28                      37                      32                      29                      40                      29                      29                      28                      46                      37                      33                      28                      31                      33                      44                      26                      34                      33                      37                      40                      38                      33                      23                      33                      13                      28                      37                      31                      38                      26                      35                      26                      21                      33                      38                      34                      31                      33                      27                      24                      34                        1\n",
            "46                  34                    35                    24                    25                    32                    40                    27                    42                    43                    34                     36                     46                     34                     34                     36                     31                     38                     41                     42                     31                     28                     48                     28                     34                     49                     36                     44                     29                     43                     30                     36                     41                     53                     36                     37                     31                     26                     29                     32                     44                     33                     44                     45                     39                     34                     37                     39                     40                     34                     33                     31                     39                     27                     37                     33                     30                     24                     22                     41                     34                     31                     35                     33                     43                     38                     47                     28                     21                     30                     39                     44                     40                     30                     24                     38                     42                     35                     29                     28                     50                     21                     30                     43                     25                     34                     25                     33                     35                     46                     37                     37                     36                     42                     29                     47                     39                     19                     44                     25                     35                      35                      28                      38                      31                      27                      45                      48                      30                      33                      33                      37                      34                      37                      42                      26                      32                      22                      24                      22                      32                      42                      46                      30                      27                      29                      32                      28                      32                      39                      28                      38                      34                      25                      38                      43                      39                      30                      38                      33                      38                      34                      33                      35                      42                      41                      28                      49                      38                      42                      41                      29                      26                      45                      37                      29                      37                      39                      40                      47                      38                      28                      30                      31                      46                      35                      29                      45                      42                      35                      27                      36                      35                      28                      35                      52                      38                      32                      36                      35                      39                      39                      33                      34                      37                      25                      34                      35                      40                      33                      43                      21                      33                      50                      23                      34                      26                      24                      23                      35                      33                      31                      29                      18                      41                      55                      44                      38                      41                      42                      45                      29                      33                      25                      36                      52                      33                      33                      32                      35                      36                      36                      40                      33                      28                      29                      34                      30                      43                      20                      34                      36                      29                      35                      37                      37                      25                      29                      31                      36                      36                      31                      55                      30                      34                      33                      34                      30                      27                      34                      35                      34                      33                      31                      35                      50                      44                      29                      34                      26                      39                      43                      33                      39                      36                      32                      51                      49                      44                      29                      33                      23                      36                      38                      35                      43                      38                      46                      36                      35                      36                      20                      37                      39                      31                      39                      45                      32                      46                      39                      46                      52                      31                      38                      28                      35                      40                      21                      32                      32                      44                      37                      37                      37                      42                      32                      44                      34                      31                      27                      49                      26                      37                      35                      33                      31                      46                      42                      32                      39                      33                      32                      49                      44                      31                      30                      50                      38                      34                      29                      34                      35                      46                      34                      36                      37                      42                      42                      41                      39                      28                      34                      17                      36                      39                      37                      39                      28                      44                      31                      24                      36                      40                      35                      38                      36                      32                      31                      35                        1\n",
            "dtype: int64\n"
          ]
        }
      ]
    },
    {
      "cell_type": "code",
      "source": [
        "# En çok çıkan 10 sayıyı bir listeye dönüştür\n",
        "en_cok_cikan_sayilar = sayilar.sort_values(ascending=False).head(10).index.tolist()\n",
        "\n",
        "# Yeni bir özellik oluştur\n",
        "data[\"En Çok Çıkan Sayılar\"] = data.filter(like=str(en_cok_cikan_sayilar)).sum(axis=1)\n",
        "\n",
        "# Verileri ayır\n",
        "X = data.drop(\"Çekiliş Sonuçları:\", axis=1)\n",
        "y = data[\"Çekiliş Sonuçları:\"]\n",
        "\n",
        "# Farklı modelleri dene\n",
        "from sklearn.model_selection import train_test_split\n",
        "from sklearn.ensemble import RandomForestClassifier\n",
        "from xgboost import XGBClassifier\n",
        "from lightgbm import LGBMClassifier\n",
        "\n",
        "models = {\n",
        "    \"Random Forest\": RandomForestClassifier(),\n",
        "    \"XGBoost\": XGBClassifier(),\n",
        "    \"LightGBM\": LGBMClassifier()\n",
        "}\n",
        "\n",
        "# Modelleri eğit ve test et\n",
        "for name, model in models.items():\n",
        "    model.fit(X_train, y_train)\n",
        "    score = model.score(X_test, y_test)\n",
        "    print(f\"{name} modeli skoru: {score}\")\n"
      ],
      "metadata": {
        "colab": {
          "base_uri": "https://localhost:8080/",
          "height": 512
        },
        "id": "G9Cov__pQg-7",
        "outputId": "c1c39e29-0b7f-4e85-9535-bf27f2c1bf96"
      },
      "execution_count": 39,
      "outputs": [
        {
          "output_type": "stream",
          "name": "stdout",
          "text": [
            "Random Forest modeli skoru: 0.0\n"
          ]
        },
        {
          "output_type": "error",
          "ename": "ValueError",
          "evalue": "Invalid classes inferred from unique values of `y`.  Expected: [ 0  1  2  3  4  5  6  7  8  9 10 11 12 13 14 15 16], got [18 24 25 26 27 32 46 48 50 52 60 65 66 67 70 73 77]",
          "traceback": [
            "\u001b[0;31m---------------------------------------------------------------------------\u001b[0m",
            "\u001b[0;31mValueError\u001b[0m                                Traceback (most recent call last)",
            "\u001b[0;32m<ipython-input-39-b05cefeabfd9>\u001b[0m in \u001b[0;36m<cell line: 24>\u001b[0;34m()\u001b[0m\n\u001b[1;32m     23\u001b[0m \u001b[0;31m# Modelleri eğit ve test et\u001b[0m\u001b[0;34m\u001b[0m\u001b[0;34m\u001b[0m\u001b[0m\n\u001b[1;32m     24\u001b[0m \u001b[0;32mfor\u001b[0m \u001b[0mname\u001b[0m\u001b[0;34m,\u001b[0m \u001b[0mmodel\u001b[0m \u001b[0;32min\u001b[0m \u001b[0mmodels\u001b[0m\u001b[0;34m.\u001b[0m\u001b[0mitems\u001b[0m\u001b[0;34m(\u001b[0m\u001b[0;34m)\u001b[0m\u001b[0;34m:\u001b[0m\u001b[0;34m\u001b[0m\u001b[0;34m\u001b[0m\u001b[0m\n\u001b[0;32m---> 25\u001b[0;31m     \u001b[0mmodel\u001b[0m\u001b[0;34m.\u001b[0m\u001b[0mfit\u001b[0m\u001b[0;34m(\u001b[0m\u001b[0mX_train\u001b[0m\u001b[0;34m,\u001b[0m \u001b[0my_train\u001b[0m\u001b[0;34m)\u001b[0m\u001b[0;34m\u001b[0m\u001b[0;34m\u001b[0m\u001b[0m\n\u001b[0m\u001b[1;32m     26\u001b[0m     \u001b[0mscore\u001b[0m \u001b[0;34m=\u001b[0m \u001b[0mmodel\u001b[0m\u001b[0;34m.\u001b[0m\u001b[0mscore\u001b[0m\u001b[0;34m(\u001b[0m\u001b[0mX_test\u001b[0m\u001b[0;34m,\u001b[0m \u001b[0my_test\u001b[0m\u001b[0;34m)\u001b[0m\u001b[0;34m\u001b[0m\u001b[0;34m\u001b[0m\u001b[0m\n\u001b[1;32m     27\u001b[0m     \u001b[0mprint\u001b[0m\u001b[0;34m(\u001b[0m\u001b[0;34mf\"{name} modeli skoru: {score}\"\u001b[0m\u001b[0;34m)\u001b[0m\u001b[0;34m\u001b[0m\u001b[0;34m\u001b[0m\u001b[0m\n",
            "\u001b[0;32m/usr/local/lib/python3.10/dist-packages/xgboost/core.py\u001b[0m in \u001b[0;36minner_f\u001b[0;34m(*args, **kwargs)\u001b[0m\n\u001b[1;32m    728\u001b[0m             \u001b[0;32mfor\u001b[0m \u001b[0mk\u001b[0m\u001b[0;34m,\u001b[0m \u001b[0marg\u001b[0m \u001b[0;32min\u001b[0m \u001b[0mzip\u001b[0m\u001b[0;34m(\u001b[0m\u001b[0msig\u001b[0m\u001b[0;34m.\u001b[0m\u001b[0mparameters\u001b[0m\u001b[0;34m,\u001b[0m \u001b[0margs\u001b[0m\u001b[0;34m)\u001b[0m\u001b[0;34m:\u001b[0m\u001b[0;34m\u001b[0m\u001b[0;34m\u001b[0m\u001b[0m\n\u001b[1;32m    729\u001b[0m                 \u001b[0mkwargs\u001b[0m\u001b[0;34m[\u001b[0m\u001b[0mk\u001b[0m\u001b[0;34m]\u001b[0m \u001b[0;34m=\u001b[0m \u001b[0marg\u001b[0m\u001b[0;34m\u001b[0m\u001b[0;34m\u001b[0m\u001b[0m\n\u001b[0;32m--> 730\u001b[0;31m             \u001b[0;32mreturn\u001b[0m \u001b[0mfunc\u001b[0m\u001b[0;34m(\u001b[0m\u001b[0;34m**\u001b[0m\u001b[0mkwargs\u001b[0m\u001b[0;34m)\u001b[0m\u001b[0;34m\u001b[0m\u001b[0;34m\u001b[0m\u001b[0m\n\u001b[0m\u001b[1;32m    731\u001b[0m \u001b[0;34m\u001b[0m\u001b[0m\n\u001b[1;32m    732\u001b[0m         \u001b[0;32mreturn\u001b[0m \u001b[0minner_f\u001b[0m\u001b[0;34m\u001b[0m\u001b[0;34m\u001b[0m\u001b[0m\n",
            "\u001b[0;32m/usr/local/lib/python3.10/dist-packages/xgboost/sklearn.py\u001b[0m in \u001b[0;36mfit\u001b[0;34m(self, X, y, sample_weight, base_margin, eval_set, eval_metric, early_stopping_rounds, verbose, xgb_model, sample_weight_eval_set, base_margin_eval_set, feature_weights, callbacks)\u001b[0m\n\u001b[1;32m   1469\u001b[0m                 \u001b[0;32mor\u001b[0m \u001b[0;32mnot\u001b[0m \u001b[0;34m(\u001b[0m\u001b[0mclasses\u001b[0m \u001b[0;34m==\u001b[0m \u001b[0mexpected_classes\u001b[0m\u001b[0;34m)\u001b[0m\u001b[0;34m.\u001b[0m\u001b[0mall\u001b[0m\u001b[0;34m(\u001b[0m\u001b[0;34m)\u001b[0m\u001b[0;34m\u001b[0m\u001b[0;34m\u001b[0m\u001b[0m\n\u001b[1;32m   1470\u001b[0m             ):\n\u001b[0;32m-> 1471\u001b[0;31m                 raise ValueError(\n\u001b[0m\u001b[1;32m   1472\u001b[0m                     \u001b[0;34mf\"Invalid classes inferred from unique values of `y`.  \"\u001b[0m\u001b[0;34m\u001b[0m\u001b[0;34m\u001b[0m\u001b[0m\n\u001b[1;32m   1473\u001b[0m                     \u001b[0;34mf\"Expected: {expected_classes}, got {classes}\"\u001b[0m\u001b[0;34m\u001b[0m\u001b[0;34m\u001b[0m\u001b[0m\n",
            "\u001b[0;31mValueError\u001b[0m: Invalid classes inferred from unique values of `y`.  Expected: [ 0  1  2  3  4  5  6  7  8  9 10 11 12 13 14 15 16], got [18 24 25 26 27 32 46 48 50 52 60 65 66 67 70 73 77]"
          ]
        }
      ]
    },
    {
      "source": [
        "# Check the unique values in the target variable\n",
        "print(data[\"Çekiliş Sonuçları:\"].unique())"
      ],
      "cell_type": "code",
      "metadata": {
        "colab": {
          "base_uri": "https://localhost:8080/"
        },
        "id": "YNnaSucXR6HK",
        "outputId": "e8b411be-6250-4069-ff83-8c3b839ac69b"
      },
      "execution_count": 40,
      "outputs": [
        {
          "output_type": "stream",
          "name": "stdout",
          "text": [
            "[11 17 18 24 25 26 27 32 39 46 48 50 52 59 60 63 65 66 67 70 73 77]\n"
          ]
        }
      ]
    },
    {
      "source": [
        "# Create a list of the top 10 most frequent numbers\n",
        "en_cok_cikan_sayilar = sayilar.value_counts().head(10).index.tolist()\n",
        "\n",
        "# Create a new feature based on the top 10 most frequent numbers\n",
        "data[\"En Çok Çıkan Sayılar\"] = data.filter(like=str(en_cok_cikan_sayilar)).sum(axis=1)\n",
        "\n",
        "# Split the data into features and target\n",
        "X = data.drop(\"Çekiliş Sonuçları:\", axis=1)\n",
        "y = data[\"Çekiliş Sonuçları:\"]\n",
        "\n",
        "# Train and evaluate different models\n",
        "from sklearn.model_selection import train_test_split\n",
        "from sklearn.ensemble import RandomForestClassifier\n",
        "from xgboost import XGBClassifier\n",
        "from lightgbm import LGBMClassifier\n",
        "\n",
        "models = {\n",
        "    \"Random Forest\": RandomForestClassifier(),\n",
        "    \"XGBoost\": XGBClassifier(),\n",
        "    \"LightGBM\": LGBMClassifier()\n",
        "}\n",
        "\n",
        "for name, model in models.items():\n",
        "    model.fit(X_train, y_train)\n",
        "    score = model.score(X_test, y_test)\n",
        "    print(f\"{name} modeli skoru: {score}\")"
      ],
      "cell_type": "code",
      "metadata": {
        "colab": {
          "base_uri": "https://localhost:8080/",
          "height": 512
        },
        "id": "V3hQf34iR9zg",
        "outputId": "06bf2f3c-8017-42aa-9a91-5e8af7bea1e5"
      },
      "execution_count": 41,
      "outputs": [
        {
          "output_type": "stream",
          "name": "stdout",
          "text": [
            "Random Forest modeli skoru: 0.0\n"
          ]
        },
        {
          "output_type": "error",
          "ename": "ValueError",
          "evalue": "Invalid classes inferred from unique values of `y`.  Expected: [ 0  1  2  3  4  5  6  7  8  9 10 11 12 13 14 15 16], got [18 24 25 26 27 32 46 48 50 52 60 65 66 67 70 73 77]",
          "traceback": [
            "\u001b[0;31m---------------------------------------------------------------------------\u001b[0m",
            "\u001b[0;31mValueError\u001b[0m                                Traceback (most recent call last)",
            "\u001b[0;32m<ipython-input-41-20a80d071ce5>\u001b[0m in \u001b[0;36m<cell line: 23>\u001b[0;34m()\u001b[0m\n\u001b[1;32m     22\u001b[0m \u001b[0;34m\u001b[0m\u001b[0m\n\u001b[1;32m     23\u001b[0m \u001b[0;32mfor\u001b[0m \u001b[0mname\u001b[0m\u001b[0;34m,\u001b[0m \u001b[0mmodel\u001b[0m \u001b[0;32min\u001b[0m \u001b[0mmodels\u001b[0m\u001b[0;34m.\u001b[0m\u001b[0mitems\u001b[0m\u001b[0;34m(\u001b[0m\u001b[0;34m)\u001b[0m\u001b[0;34m:\u001b[0m\u001b[0;34m\u001b[0m\u001b[0;34m\u001b[0m\u001b[0m\n\u001b[0;32m---> 24\u001b[0;31m     \u001b[0mmodel\u001b[0m\u001b[0;34m.\u001b[0m\u001b[0mfit\u001b[0m\u001b[0;34m(\u001b[0m\u001b[0mX_train\u001b[0m\u001b[0;34m,\u001b[0m \u001b[0my_train\u001b[0m\u001b[0;34m)\u001b[0m\u001b[0;34m\u001b[0m\u001b[0;34m\u001b[0m\u001b[0m\n\u001b[0m\u001b[1;32m     25\u001b[0m     \u001b[0mscore\u001b[0m \u001b[0;34m=\u001b[0m \u001b[0mmodel\u001b[0m\u001b[0;34m.\u001b[0m\u001b[0mscore\u001b[0m\u001b[0;34m(\u001b[0m\u001b[0mX_test\u001b[0m\u001b[0;34m,\u001b[0m \u001b[0my_test\u001b[0m\u001b[0;34m)\u001b[0m\u001b[0;34m\u001b[0m\u001b[0;34m\u001b[0m\u001b[0m\n\u001b[1;32m     26\u001b[0m     \u001b[0mprint\u001b[0m\u001b[0;34m(\u001b[0m\u001b[0;34mf\"{name} modeli skoru: {score}\"\u001b[0m\u001b[0;34m)\u001b[0m\u001b[0;34m\u001b[0m\u001b[0;34m\u001b[0m\u001b[0m\n",
            "\u001b[0;32m/usr/local/lib/python3.10/dist-packages/xgboost/core.py\u001b[0m in \u001b[0;36minner_f\u001b[0;34m(*args, **kwargs)\u001b[0m\n\u001b[1;32m    728\u001b[0m             \u001b[0;32mfor\u001b[0m \u001b[0mk\u001b[0m\u001b[0;34m,\u001b[0m \u001b[0marg\u001b[0m \u001b[0;32min\u001b[0m \u001b[0mzip\u001b[0m\u001b[0;34m(\u001b[0m\u001b[0msig\u001b[0m\u001b[0;34m.\u001b[0m\u001b[0mparameters\u001b[0m\u001b[0;34m,\u001b[0m \u001b[0margs\u001b[0m\u001b[0;34m)\u001b[0m\u001b[0;34m:\u001b[0m\u001b[0;34m\u001b[0m\u001b[0;34m\u001b[0m\u001b[0m\n\u001b[1;32m    729\u001b[0m                 \u001b[0mkwargs\u001b[0m\u001b[0;34m[\u001b[0m\u001b[0mk\u001b[0m\u001b[0;34m]\u001b[0m \u001b[0;34m=\u001b[0m \u001b[0marg\u001b[0m\u001b[0;34m\u001b[0m\u001b[0;34m\u001b[0m\u001b[0m\n\u001b[0;32m--> 730\u001b[0;31m             \u001b[0;32mreturn\u001b[0m \u001b[0mfunc\u001b[0m\u001b[0;34m(\u001b[0m\u001b[0;34m**\u001b[0m\u001b[0mkwargs\u001b[0m\u001b[0;34m)\u001b[0m\u001b[0;34m\u001b[0m\u001b[0;34m\u001b[0m\u001b[0m\n\u001b[0m\u001b[1;32m    731\u001b[0m \u001b[0;34m\u001b[0m\u001b[0m\n\u001b[1;32m    732\u001b[0m         \u001b[0;32mreturn\u001b[0m \u001b[0minner_f\u001b[0m\u001b[0;34m\u001b[0m\u001b[0;34m\u001b[0m\u001b[0m\n",
            "\u001b[0;32m/usr/local/lib/python3.10/dist-packages/xgboost/sklearn.py\u001b[0m in \u001b[0;36mfit\u001b[0;34m(self, X, y, sample_weight, base_margin, eval_set, eval_metric, early_stopping_rounds, verbose, xgb_model, sample_weight_eval_set, base_margin_eval_set, feature_weights, callbacks)\u001b[0m\n\u001b[1;32m   1469\u001b[0m                 \u001b[0;32mor\u001b[0m \u001b[0;32mnot\u001b[0m \u001b[0;34m(\u001b[0m\u001b[0mclasses\u001b[0m \u001b[0;34m==\u001b[0m \u001b[0mexpected_classes\u001b[0m\u001b[0;34m)\u001b[0m\u001b[0;34m.\u001b[0m\u001b[0mall\u001b[0m\u001b[0;34m(\u001b[0m\u001b[0;34m)\u001b[0m\u001b[0;34m\u001b[0m\u001b[0;34m\u001b[0m\u001b[0m\n\u001b[1;32m   1470\u001b[0m             ):\n\u001b[0;32m-> 1471\u001b[0;31m                 raise ValueError(\n\u001b[0m\u001b[1;32m   1472\u001b[0m                     \u001b[0;34mf\"Invalid classes inferred from unique values of `y`.  \"\u001b[0m\u001b[0;34m\u001b[0m\u001b[0;34m\u001b[0m\u001b[0m\n\u001b[1;32m   1473\u001b[0m                     \u001b[0;34mf\"Expected: {expected_classes}, got {classes}\"\u001b[0m\u001b[0;34m\u001b[0m\u001b[0;34m\u001b[0m\u001b[0m\n",
            "\u001b[0;31mValueError\u001b[0m: Invalid classes inferred from unique values of `y`.  Expected: [ 0  1  2  3  4  5  6  7  8  9 10 11 12 13 14 15 16], got [18 24 25 26 27 32 46 48 50 52 60 65 66 67 70 73 77]"
          ]
        }
      ]
    },
    {
      "source": [
        "from sklearn.model_selection import train_test_split"
      ],
      "cell_type": "code",
      "metadata": {
        "id": "ir_Wm2H4Rnlx"
      },
      "execution_count": 35,
      "outputs": []
    },
    {
      "source": [
        "X_train, X_test, y_train, y_test = train_test_split(X, y, test_size=0.2, random_state=42)"
      ],
      "cell_type": "code",
      "metadata": {
        "id": "E2l-9f2SRp5U"
      },
      "execution_count": 36,
      "outputs": []
    },
    {
      "source": [
        "# En çok çıkan 10 sayıyı bir listeye dönüştür\n",
        "en_cok_cikan_sayilar = sayilar.sort_values(ascending=False).head(10).index.tolist()\n",
        "\n",
        "# Yeni bir özellik oluştur\n",
        "data[\"En Çok Çıkan Sayılar\"] = data.filter(like=str(en_cok_cikan_sayilar)).sum(axis=1)\n",
        "\n",
        "# Verileri ayır\n",
        "X = data.drop(\"Çekiliş Sonuçları:\", axis=1)\n",
        "y = data[\"Çekiliş Sonuçları:\"]\n",
        "\n",
        "# Farklı modelleri dene\n",
        "from sklearn.model_selection import train_test_split\n",
        "from sklearn.ensemble import RandomForestClassifier\n",
        "from xgboost import XGBClassifier\n",
        "from lightgbm import LGBMClassifier\n",
        "\n",
        "models = {\n",
        "    \"Random Forest\": RandomForestClassifier(),\n",
        "    \"XGBoost\": XGBClassifier(),\n",
        "    \"LightGBM\": LGBMClassifier()\n",
        "}\n",
        "\n",
        "# Modelleri eğit ve test et\n",
        "for name, model in models.items():\n",
        "    model.fit(X_train, y_train)\n",
        "    score = model.score(X_test, y_test)\n",
        "    print(f\"{name} modeli skoru: {score}\")"
      ],
      "cell_type": "code",
      "metadata": {
        "colab": {
          "base_uri": "https://localhost:8080/",
          "height": 512
        },
        "id": "NtB7cOFfRruh",
        "outputId": "96f035ce-52ac-4f12-ecff-61700c28f22f"
      },
      "execution_count": 37,
      "outputs": [
        {
          "output_type": "stream",
          "name": "stdout",
          "text": [
            "Random Forest modeli skoru: 0.0\n"
          ]
        },
        {
          "output_type": "error",
          "ename": "ValueError",
          "evalue": "Invalid classes inferred from unique values of `y`.  Expected: [ 0  1  2  3  4  5  6  7  8  9 10 11 12 13 14 15 16], got [18 24 25 26 27 32 46 48 50 52 60 65 66 67 70 73 77]",
          "traceback": [
            "\u001b[0;31m---------------------------------------------------------------------------\u001b[0m",
            "\u001b[0;31mValueError\u001b[0m                                Traceback (most recent call last)",
            "\u001b[0;32m<ipython-input-37-b05cefeabfd9>\u001b[0m in \u001b[0;36m<cell line: 24>\u001b[0;34m()\u001b[0m\n\u001b[1;32m     23\u001b[0m \u001b[0;31m# Modelleri eğit ve test et\u001b[0m\u001b[0;34m\u001b[0m\u001b[0;34m\u001b[0m\u001b[0m\n\u001b[1;32m     24\u001b[0m \u001b[0;32mfor\u001b[0m \u001b[0mname\u001b[0m\u001b[0;34m,\u001b[0m \u001b[0mmodel\u001b[0m \u001b[0;32min\u001b[0m \u001b[0mmodels\u001b[0m\u001b[0;34m.\u001b[0m\u001b[0mitems\u001b[0m\u001b[0;34m(\u001b[0m\u001b[0;34m)\u001b[0m\u001b[0;34m:\u001b[0m\u001b[0;34m\u001b[0m\u001b[0;34m\u001b[0m\u001b[0m\n\u001b[0;32m---> 25\u001b[0;31m     \u001b[0mmodel\u001b[0m\u001b[0;34m.\u001b[0m\u001b[0mfit\u001b[0m\u001b[0;34m(\u001b[0m\u001b[0mX_train\u001b[0m\u001b[0;34m,\u001b[0m \u001b[0my_train\u001b[0m\u001b[0;34m)\u001b[0m\u001b[0;34m\u001b[0m\u001b[0;34m\u001b[0m\u001b[0m\n\u001b[0m\u001b[1;32m     26\u001b[0m     \u001b[0mscore\u001b[0m \u001b[0;34m=\u001b[0m \u001b[0mmodel\u001b[0m\u001b[0;34m.\u001b[0m\u001b[0mscore\u001b[0m\u001b[0;34m(\u001b[0m\u001b[0mX_test\u001b[0m\u001b[0;34m,\u001b[0m \u001b[0my_test\u001b[0m\u001b[0;34m)\u001b[0m\u001b[0;34m\u001b[0m\u001b[0;34m\u001b[0m\u001b[0m\n\u001b[1;32m     27\u001b[0m     \u001b[0mprint\u001b[0m\u001b[0;34m(\u001b[0m\u001b[0;34mf\"{name} modeli skoru: {score}\"\u001b[0m\u001b[0;34m)\u001b[0m\u001b[0;34m\u001b[0m\u001b[0;34m\u001b[0m\u001b[0m\n",
            "\u001b[0;32m/usr/local/lib/python3.10/dist-packages/xgboost/core.py\u001b[0m in \u001b[0;36minner_f\u001b[0;34m(*args, **kwargs)\u001b[0m\n\u001b[1;32m    728\u001b[0m             \u001b[0;32mfor\u001b[0m \u001b[0mk\u001b[0m\u001b[0;34m,\u001b[0m \u001b[0marg\u001b[0m \u001b[0;32min\u001b[0m \u001b[0mzip\u001b[0m\u001b[0;34m(\u001b[0m\u001b[0msig\u001b[0m\u001b[0;34m.\u001b[0m\u001b[0mparameters\u001b[0m\u001b[0;34m,\u001b[0m \u001b[0margs\u001b[0m\u001b[0;34m)\u001b[0m\u001b[0;34m:\u001b[0m\u001b[0;34m\u001b[0m\u001b[0;34m\u001b[0m\u001b[0m\n\u001b[1;32m    729\u001b[0m                 \u001b[0mkwargs\u001b[0m\u001b[0;34m[\u001b[0m\u001b[0mk\u001b[0m\u001b[0;34m]\u001b[0m \u001b[0;34m=\u001b[0m \u001b[0marg\u001b[0m\u001b[0;34m\u001b[0m\u001b[0;34m\u001b[0m\u001b[0m\n\u001b[0;32m--> 730\u001b[0;31m             \u001b[0;32mreturn\u001b[0m \u001b[0mfunc\u001b[0m\u001b[0;34m(\u001b[0m\u001b[0;34m**\u001b[0m\u001b[0mkwargs\u001b[0m\u001b[0;34m)\u001b[0m\u001b[0;34m\u001b[0m\u001b[0;34m\u001b[0m\u001b[0m\n\u001b[0m\u001b[1;32m    731\u001b[0m \u001b[0;34m\u001b[0m\u001b[0m\n\u001b[1;32m    732\u001b[0m         \u001b[0;32mreturn\u001b[0m \u001b[0minner_f\u001b[0m\u001b[0;34m\u001b[0m\u001b[0;34m\u001b[0m\u001b[0m\n",
            "\u001b[0;32m/usr/local/lib/python3.10/dist-packages/xgboost/sklearn.py\u001b[0m in \u001b[0;36mfit\u001b[0;34m(self, X, y, sample_weight, base_margin, eval_set, eval_metric, early_stopping_rounds, verbose, xgb_model, sample_weight_eval_set, base_margin_eval_set, feature_weights, callbacks)\u001b[0m\n\u001b[1;32m   1469\u001b[0m                 \u001b[0;32mor\u001b[0m \u001b[0;32mnot\u001b[0m \u001b[0;34m(\u001b[0m\u001b[0mclasses\u001b[0m \u001b[0;34m==\u001b[0m \u001b[0mexpected_classes\u001b[0m\u001b[0;34m)\u001b[0m\u001b[0;34m.\u001b[0m\u001b[0mall\u001b[0m\u001b[0;34m(\u001b[0m\u001b[0;34m)\u001b[0m\u001b[0;34m\u001b[0m\u001b[0;34m\u001b[0m\u001b[0m\n\u001b[1;32m   1470\u001b[0m             ):\n\u001b[0;32m-> 1471\u001b[0;31m                 raise ValueError(\n\u001b[0m\u001b[1;32m   1472\u001b[0m                     \u001b[0;34mf\"Invalid classes inferred from unique values of `y`.  \"\u001b[0m\u001b[0;34m\u001b[0m\u001b[0;34m\u001b[0m\u001b[0m\n\u001b[1;32m   1473\u001b[0m                     \u001b[0;34mf\"Expected: {expected_classes}, got {classes}\"\u001b[0m\u001b[0;34m\u001b[0m\u001b[0;34m\u001b[0m\u001b[0m\n",
            "\u001b[0;31mValueError\u001b[0m: Invalid classes inferred from unique values of `y`.  Expected: [ 0  1  2  3  4  5  6  7  8  9 10 11 12 13 14 15 16], got [18 24 25 26 27 32 46 48 50 52 60 65 66 67 70 73 77]"
          ]
        }
      ]
    },
    {
      "source": [
        "!pip install xgboost\n",
        "!pip install lightgbm"
      ],
      "cell_type": "code",
      "metadata": {
        "colab": {
          "base_uri": "https://localhost:8080/"
        },
        "id": "DvpEDmAYRcvM",
        "outputId": "af98667c-cbf3-48c2-c5c5-974957210ad5"
      },
      "execution_count": 33,
      "outputs": [
        {
          "output_type": "stream",
          "name": "stdout",
          "text": [
            "Requirement already satisfied: xgboost in /usr/local/lib/python3.10/dist-packages (2.0.3)\n",
            "Requirement already satisfied: numpy in /usr/local/lib/python3.10/dist-packages (from xgboost) (1.25.2)\n",
            "Requirement already satisfied: scipy in /usr/local/lib/python3.10/dist-packages (from xgboost) (1.11.4)\n",
            "Requirement already satisfied: lightgbm in /usr/local/lib/python3.10/dist-packages (4.1.0)\n",
            "Requirement already satisfied: numpy in /usr/local/lib/python3.10/dist-packages (from lightgbm) (1.25.2)\n",
            "Requirement already satisfied: scipy in /usr/local/lib/python3.10/dist-packages (from lightgbm) (1.11.4)\n"
          ]
        }
      ]
    },
    {
      "source": [
        "data.head()"
      ],
      "cell_type": "code",
      "metadata": {
        "colab": {
          "base_uri": "https://localhost:8080/",
          "height": 290
        },
        "id": "4TzfXfz2Q56n",
        "outputId": "95067783-cf15-4c26-cdec-0c67998dd75a"
      },
      "execution_count": 29,
      "outputs": [
        {
          "output_type": "execute_result",
          "data": {
            "text/plain": [
              "   Çekiliş Sonuçları:  Çekiliş Sonuçları:.1  Çekiliş Sonuçları:.2  \\\n",
              "0                  11                     5                     2   \n",
              "1                  17                     6                    12   \n",
              "2                  18                    14                    13   \n",
              "3                  24                    16                    14   \n",
              "4                  25                    22                    16   \n",
              "\n",
              "   Çekiliş Sonuçları:.3  Çekiliş Sonuçları:.4  Çekiliş Sonuçları:.5  \\\n",
              "0                     3                     2                     1   \n",
              "1                     6                     3                     2   \n",
              "2                     8                     6                     4   \n",
              "3                     9                     7                    11   \n",
              "4                    10                     8                    14   \n",
              "\n",
              "   Çekiliş Sonuçları:.6  Çekiliş Sonuçları:.7  Çekiliş Sonuçları:.8  \\\n",
              "0                     1                     3                     3   \n",
              "1                     4                     5                    11   \n",
              "2                     5                     8                    12   \n",
              "3                     6                    13                    13   \n",
              "4                     9                    14                    21   \n",
              "\n",
              "   Çekiliş Sonuçları:.9  ...  Çekiliş Sonuçları:.350  Çekiliş Sonuçları:.351  \\\n",
              "0                     3  ...                       6                       1   \n",
              "1                     7  ...                       7                       2   \n",
              "2                    13  ...                      11                       4   \n",
              "3                    18  ...                      13                       8   \n",
              "4                    20  ...                      16                      10   \n",
              "\n",
              "   Çekiliş Sonuçları:.352  Çekiliş Sonuçları:.353  Çekiliş Sonuçları:.354  \\\n",
              "0                       2                       1                       4   \n",
              "1                       9                       4                       5   \n",
              "2                      13                      15                       7   \n",
              "3                      15                      18                      18   \n",
              "4                      26                      21                      20   \n",
              "\n",
              "   Çekiliş Sonuçları:.355  Çekiliş Sonuçları:.356  Çekiliş Sonuçları:.357  \\\n",
              "0                       5                       1                       2   \n",
              "1                      10                      10                       3   \n",
              "2                      16                      11                       4   \n",
              "3                      18                      15                       6   \n",
              "4                      19                      16                       8   \n",
              "\n",
              "   Çekiliş Sonuçları:.358  En Çok Çıkan Sayılar  \n",
              "0                       1                   0.0  \n",
              "1                       2                   0.0  \n",
              "2                      10                   0.0  \n",
              "3                      12                   0.0  \n",
              "4                      15                   0.0  \n",
              "\n",
              "[5 rows x 360 columns]"
            ],
            "text/html": [
              "\n",
              "  <div id=\"df-248b9319-9424-4e2a-8ddf-b6d93b63410e\" class=\"colab-df-container\">\n",
              "    <div>\n",
              "<style scoped>\n",
              "    .dataframe tbody tr th:only-of-type {\n",
              "        vertical-align: middle;\n",
              "    }\n",
              "\n",
              "    .dataframe tbody tr th {\n",
              "        vertical-align: top;\n",
              "    }\n",
              "\n",
              "    .dataframe thead th {\n",
              "        text-align: right;\n",
              "    }\n",
              "</style>\n",
              "<table border=\"1\" class=\"dataframe\">\n",
              "  <thead>\n",
              "    <tr style=\"text-align: right;\">\n",
              "      <th></th>\n",
              "      <th>Çekiliş Sonuçları:</th>\n",
              "      <th>Çekiliş Sonuçları:.1</th>\n",
              "      <th>Çekiliş Sonuçları:.2</th>\n",
              "      <th>Çekiliş Sonuçları:.3</th>\n",
              "      <th>Çekiliş Sonuçları:.4</th>\n",
              "      <th>Çekiliş Sonuçları:.5</th>\n",
              "      <th>Çekiliş Sonuçları:.6</th>\n",
              "      <th>Çekiliş Sonuçları:.7</th>\n",
              "      <th>Çekiliş Sonuçları:.8</th>\n",
              "      <th>Çekiliş Sonuçları:.9</th>\n",
              "      <th>...</th>\n",
              "      <th>Çekiliş Sonuçları:.350</th>\n",
              "      <th>Çekiliş Sonuçları:.351</th>\n",
              "      <th>Çekiliş Sonuçları:.352</th>\n",
              "      <th>Çekiliş Sonuçları:.353</th>\n",
              "      <th>Çekiliş Sonuçları:.354</th>\n",
              "      <th>Çekiliş Sonuçları:.355</th>\n",
              "      <th>Çekiliş Sonuçları:.356</th>\n",
              "      <th>Çekiliş Sonuçları:.357</th>\n",
              "      <th>Çekiliş Sonuçları:.358</th>\n",
              "      <th>En Çok Çıkan Sayılar</th>\n",
              "    </tr>\n",
              "  </thead>\n",
              "  <tbody>\n",
              "    <tr>\n",
              "      <th>0</th>\n",
              "      <td>11</td>\n",
              "      <td>5</td>\n",
              "      <td>2</td>\n",
              "      <td>3</td>\n",
              "      <td>2</td>\n",
              "      <td>1</td>\n",
              "      <td>1</td>\n",
              "      <td>3</td>\n",
              "      <td>3</td>\n",
              "      <td>3</td>\n",
              "      <td>...</td>\n",
              "      <td>6</td>\n",
              "      <td>1</td>\n",
              "      <td>2</td>\n",
              "      <td>1</td>\n",
              "      <td>4</td>\n",
              "      <td>5</td>\n",
              "      <td>1</td>\n",
              "      <td>2</td>\n",
              "      <td>1</td>\n",
              "      <td>0.0</td>\n",
              "    </tr>\n",
              "    <tr>\n",
              "      <th>1</th>\n",
              "      <td>17</td>\n",
              "      <td>6</td>\n",
              "      <td>12</td>\n",
              "      <td>6</td>\n",
              "      <td>3</td>\n",
              "      <td>2</td>\n",
              "      <td>4</td>\n",
              "      <td>5</td>\n",
              "      <td>11</td>\n",
              "      <td>7</td>\n",
              "      <td>...</td>\n",
              "      <td>7</td>\n",
              "      <td>2</td>\n",
              "      <td>9</td>\n",
              "      <td>4</td>\n",
              "      <td>5</td>\n",
              "      <td>10</td>\n",
              "      <td>10</td>\n",
              "      <td>3</td>\n",
              "      <td>2</td>\n",
              "      <td>0.0</td>\n",
              "    </tr>\n",
              "    <tr>\n",
              "      <th>2</th>\n",
              "      <td>18</td>\n",
              "      <td>14</td>\n",
              "      <td>13</td>\n",
              "      <td>8</td>\n",
              "      <td>6</td>\n",
              "      <td>4</td>\n",
              "      <td>5</td>\n",
              "      <td>8</td>\n",
              "      <td>12</td>\n",
              "      <td>13</td>\n",
              "      <td>...</td>\n",
              "      <td>11</td>\n",
              "      <td>4</td>\n",
              "      <td>13</td>\n",
              "      <td>15</td>\n",
              "      <td>7</td>\n",
              "      <td>16</td>\n",
              "      <td>11</td>\n",
              "      <td>4</td>\n",
              "      <td>10</td>\n",
              "      <td>0.0</td>\n",
              "    </tr>\n",
              "    <tr>\n",
              "      <th>3</th>\n",
              "      <td>24</td>\n",
              "      <td>16</td>\n",
              "      <td>14</td>\n",
              "      <td>9</td>\n",
              "      <td>7</td>\n",
              "      <td>11</td>\n",
              "      <td>6</td>\n",
              "      <td>13</td>\n",
              "      <td>13</td>\n",
              "      <td>18</td>\n",
              "      <td>...</td>\n",
              "      <td>13</td>\n",
              "      <td>8</td>\n",
              "      <td>15</td>\n",
              "      <td>18</td>\n",
              "      <td>18</td>\n",
              "      <td>18</td>\n",
              "      <td>15</td>\n",
              "      <td>6</td>\n",
              "      <td>12</td>\n",
              "      <td>0.0</td>\n",
              "    </tr>\n",
              "    <tr>\n",
              "      <th>4</th>\n",
              "      <td>25</td>\n",
              "      <td>22</td>\n",
              "      <td>16</td>\n",
              "      <td>10</td>\n",
              "      <td>8</td>\n",
              "      <td>14</td>\n",
              "      <td>9</td>\n",
              "      <td>14</td>\n",
              "      <td>21</td>\n",
              "      <td>20</td>\n",
              "      <td>...</td>\n",
              "      <td>16</td>\n",
              "      <td>10</td>\n",
              "      <td>26</td>\n",
              "      <td>21</td>\n",
              "      <td>20</td>\n",
              "      <td>19</td>\n",
              "      <td>16</td>\n",
              "      <td>8</td>\n",
              "      <td>15</td>\n",
              "      <td>0.0</td>\n",
              "    </tr>\n",
              "  </tbody>\n",
              "</table>\n",
              "<p>5 rows × 360 columns</p>\n",
              "</div>\n",
              "    <div class=\"colab-df-buttons\">\n",
              "\n",
              "  <div class=\"colab-df-container\">\n",
              "    <button class=\"colab-df-convert\" onclick=\"convertToInteractive('df-248b9319-9424-4e2a-8ddf-b6d93b63410e')\"\n",
              "            title=\"Convert this dataframe to an interactive table.\"\n",
              "            style=\"display:none;\">\n",
              "\n",
              "  <svg xmlns=\"http://www.w3.org/2000/svg\" height=\"24px\" viewBox=\"0 -960 960 960\">\n",
              "    <path d=\"M120-120v-720h720v720H120Zm60-500h600v-160H180v160Zm220 220h160v-160H400v160Zm0 220h160v-160H400v160ZM180-400h160v-160H180v160Zm440 0h160v-160H620v160ZM180-180h160v-160H180v160Zm440 0h160v-160H620v160Z\"/>\n",
              "  </svg>\n",
              "    </button>\n",
              "\n",
              "  <style>\n",
              "    .colab-df-container {\n",
              "      display:flex;\n",
              "      gap: 12px;\n",
              "    }\n",
              "\n",
              "    .colab-df-convert {\n",
              "      background-color: #E8F0FE;\n",
              "      border: none;\n",
              "      border-radius: 50%;\n",
              "      cursor: pointer;\n",
              "      display: none;\n",
              "      fill: #1967D2;\n",
              "      height: 32px;\n",
              "      padding: 0 0 0 0;\n",
              "      width: 32px;\n",
              "    }\n",
              "\n",
              "    .colab-df-convert:hover {\n",
              "      background-color: #E2EBFA;\n",
              "      box-shadow: 0px 1px 2px rgba(60, 64, 67, 0.3), 0px 1px 3px 1px rgba(60, 64, 67, 0.15);\n",
              "      fill: #174EA6;\n",
              "    }\n",
              "\n",
              "    .colab-df-buttons div {\n",
              "      margin-bottom: 4px;\n",
              "    }\n",
              "\n",
              "    [theme=dark] .colab-df-convert {\n",
              "      background-color: #3B4455;\n",
              "      fill: #D2E3FC;\n",
              "    }\n",
              "\n",
              "    [theme=dark] .colab-df-convert:hover {\n",
              "      background-color: #434B5C;\n",
              "      box-shadow: 0px 1px 3px 1px rgba(0, 0, 0, 0.15);\n",
              "      filter: drop-shadow(0px 1px 2px rgba(0, 0, 0, 0.3));\n",
              "      fill: #FFFFFF;\n",
              "    }\n",
              "  </style>\n",
              "\n",
              "    <script>\n",
              "      const buttonEl =\n",
              "        document.querySelector('#df-248b9319-9424-4e2a-8ddf-b6d93b63410e button.colab-df-convert');\n",
              "      buttonEl.style.display =\n",
              "        google.colab.kernel.accessAllowed ? 'block' : 'none';\n",
              "\n",
              "      async function convertToInteractive(key) {\n",
              "        const element = document.querySelector('#df-248b9319-9424-4e2a-8ddf-b6d93b63410e');\n",
              "        const dataTable =\n",
              "          await google.colab.kernel.invokeFunction('convertToInteractive',\n",
              "                                                    [key], {});\n",
              "        if (!dataTable) return;\n",
              "\n",
              "        const docLinkHtml = 'Like what you see? Visit the ' +\n",
              "          '<a target=\"_blank\" href=https://colab.research.google.com/notebooks/data_table.ipynb>data table notebook</a>'\n",
              "          + ' to learn more about interactive tables.';\n",
              "        element.innerHTML = '';\n",
              "        dataTable['output_type'] = 'display_data';\n",
              "        await google.colab.output.renderOutput(dataTable, element);\n",
              "        const docLink = document.createElement('div');\n",
              "        docLink.innerHTML = docLinkHtml;\n",
              "        element.appendChild(docLink);\n",
              "      }\n",
              "    </script>\n",
              "  </div>\n",
              "\n",
              "\n",
              "<div id=\"df-338da802-4f4a-4b6e-86eb-33e2b057c8b8\">\n",
              "  <button class=\"colab-df-quickchart\" onclick=\"quickchart('df-338da802-4f4a-4b6e-86eb-33e2b057c8b8')\"\n",
              "            title=\"Suggest charts\"\n",
              "            style=\"display:none;\">\n",
              "\n",
              "<svg xmlns=\"http://www.w3.org/2000/svg\" height=\"24px\"viewBox=\"0 0 24 24\"\n",
              "     width=\"24px\">\n",
              "    <g>\n",
              "        <path d=\"M19 3H5c-1.1 0-2 .9-2 2v14c0 1.1.9 2 2 2h14c1.1 0 2-.9 2-2V5c0-1.1-.9-2-2-2zM9 17H7v-7h2v7zm4 0h-2V7h2v10zm4 0h-2v-4h2v4z\"/>\n",
              "    </g>\n",
              "</svg>\n",
              "  </button>\n",
              "\n",
              "<style>\n",
              "  .colab-df-quickchart {\n",
              "      --bg-color: #E8F0FE;\n",
              "      --fill-color: #1967D2;\n",
              "      --hover-bg-color: #E2EBFA;\n",
              "      --hover-fill-color: #174EA6;\n",
              "      --disabled-fill-color: #AAA;\n",
              "      --disabled-bg-color: #DDD;\n",
              "  }\n",
              "\n",
              "  [theme=dark] .colab-df-quickchart {\n",
              "      --bg-color: #3B4455;\n",
              "      --fill-color: #D2E3FC;\n",
              "      --hover-bg-color: #434B5C;\n",
              "      --hover-fill-color: #FFFFFF;\n",
              "      --disabled-bg-color: #3B4455;\n",
              "      --disabled-fill-color: #666;\n",
              "  }\n",
              "\n",
              "  .colab-df-quickchart {\n",
              "    background-color: var(--bg-color);\n",
              "    border: none;\n",
              "    border-radius: 50%;\n",
              "    cursor: pointer;\n",
              "    display: none;\n",
              "    fill: var(--fill-color);\n",
              "    height: 32px;\n",
              "    padding: 0;\n",
              "    width: 32px;\n",
              "  }\n",
              "\n",
              "  .colab-df-quickchart:hover {\n",
              "    background-color: var(--hover-bg-color);\n",
              "    box-shadow: 0 1px 2px rgba(60, 64, 67, 0.3), 0 1px 3px 1px rgba(60, 64, 67, 0.15);\n",
              "    fill: var(--button-hover-fill-color);\n",
              "  }\n",
              "\n",
              "  .colab-df-quickchart-complete:disabled,\n",
              "  .colab-df-quickchart-complete:disabled:hover {\n",
              "    background-color: var(--disabled-bg-color);\n",
              "    fill: var(--disabled-fill-color);\n",
              "    box-shadow: none;\n",
              "  }\n",
              "\n",
              "  .colab-df-spinner {\n",
              "    border: 2px solid var(--fill-color);\n",
              "    border-color: transparent;\n",
              "    border-bottom-color: var(--fill-color);\n",
              "    animation:\n",
              "      spin 1s steps(1) infinite;\n",
              "  }\n",
              "\n",
              "  @keyframes spin {\n",
              "    0% {\n",
              "      border-color: transparent;\n",
              "      border-bottom-color: var(--fill-color);\n",
              "      border-left-color: var(--fill-color);\n",
              "    }\n",
              "    20% {\n",
              "      border-color: transparent;\n",
              "      border-left-color: var(--fill-color);\n",
              "      border-top-color: var(--fill-color);\n",
              "    }\n",
              "    30% {\n",
              "      border-color: transparent;\n",
              "      border-left-color: var(--fill-color);\n",
              "      border-top-color: var(--fill-color);\n",
              "      border-right-color: var(--fill-color);\n",
              "    }\n",
              "    40% {\n",
              "      border-color: transparent;\n",
              "      border-right-color: var(--fill-color);\n",
              "      border-top-color: var(--fill-color);\n",
              "    }\n",
              "    60% {\n",
              "      border-color: transparent;\n",
              "      border-right-color: var(--fill-color);\n",
              "    }\n",
              "    80% {\n",
              "      border-color: transparent;\n",
              "      border-right-color: var(--fill-color);\n",
              "      border-bottom-color: var(--fill-color);\n",
              "    }\n",
              "    90% {\n",
              "      border-color: transparent;\n",
              "      border-bottom-color: var(--fill-color);\n",
              "    }\n",
              "  }\n",
              "</style>\n",
              "\n",
              "  <script>\n",
              "    async function quickchart(key) {\n",
              "      const quickchartButtonEl =\n",
              "        document.querySelector('#' + key + ' button');\n",
              "      quickchartButtonEl.disabled = true;  // To prevent multiple clicks.\n",
              "      quickchartButtonEl.classList.add('colab-df-spinner');\n",
              "      try {\n",
              "        const charts = await google.colab.kernel.invokeFunction(\n",
              "            'suggestCharts', [key], {});\n",
              "      } catch (error) {\n",
              "        console.error('Error during call to suggestCharts:', error);\n",
              "      }\n",
              "      quickchartButtonEl.classList.remove('colab-df-spinner');\n",
              "      quickchartButtonEl.classList.add('colab-df-quickchart-complete');\n",
              "    }\n",
              "    (() => {\n",
              "      let quickchartButtonEl =\n",
              "        document.querySelector('#df-338da802-4f4a-4b6e-86eb-33e2b057c8b8 button');\n",
              "      quickchartButtonEl.style.display =\n",
              "        google.colab.kernel.accessAllowed ? 'block' : 'none';\n",
              "    })();\n",
              "  </script>\n",
              "</div>\n",
              "\n",
              "    </div>\n",
              "  </div>\n"
            ],
            "application/vnd.google.colaboratory.intrinsic+json": {
              "type": "dataframe",
              "variable_name": "data"
            }
          },
          "metadata": {},
          "execution_count": 29
        }
      ]
    },
    {
      "source": [
        "\"Çekiliş Sonuçları:\" in data.columns"
      ],
      "cell_type": "code",
      "metadata": {
        "colab": {
          "base_uri": "https://localhost:8080/"
        },
        "id": "1CfT-aPMRGGF",
        "outputId": "d181d6fe-53fc-422a-cb66-dea7869db17f"
      },
      "execution_count": 31,
      "outputs": [
        {
          "output_type": "execute_result",
          "data": {
            "text/plain": [
              "True"
            ]
          },
          "metadata": {},
          "execution_count": 31
        }
      ]
    },
    {
      "source": [
        "if \"Çekiliş Sonuçları\" not in data.columns:\n",
        "    raise KeyError(\"Column 'Çekiliş Sonuçları' not found in data\")"
      ],
      "cell_type": "code",
      "metadata": {
        "colab": {
          "base_uri": "https://localhost:8080/",
          "height": 193
        },
        "id": "4S-Q0NbPRJkP",
        "outputId": "5de68884-1c3b-4aa2-bb12-04e551544732"
      },
      "execution_count": 28,
      "outputs": [
        {
          "output_type": "error",
          "ename": "KeyError",
          "evalue": "\"Column 'Çekiliş Sonuçları' not found in data\"",
          "traceback": [
            "\u001b[0;31m---------------------------------------------------------------------------\u001b[0m",
            "\u001b[0;31mKeyError\u001b[0m                                  Traceback (most recent call last)",
            "\u001b[0;32m<ipython-input-28-7f2de465e0fa>\u001b[0m in \u001b[0;36m<cell line: 1>\u001b[0;34m()\u001b[0m\n\u001b[1;32m      1\u001b[0m \u001b[0;32mif\u001b[0m \u001b[0;34m\"Çekiliş Sonuçları\"\u001b[0m \u001b[0;32mnot\u001b[0m \u001b[0;32min\u001b[0m \u001b[0mdata\u001b[0m\u001b[0;34m.\u001b[0m\u001b[0mcolumns\u001b[0m\u001b[0;34m:\u001b[0m\u001b[0;34m\u001b[0m\u001b[0;34m\u001b[0m\u001b[0m\n\u001b[0;32m----> 2\u001b[0;31m     \u001b[0;32mraise\u001b[0m \u001b[0mKeyError\u001b[0m\u001b[0;34m(\u001b[0m\u001b[0;34m\"Column 'Çekiliş Sonuçları' not found in data\"\u001b[0m\u001b[0;34m)\u001b[0m\u001b[0;34m\u001b[0m\u001b[0;34m\u001b[0m\u001b[0m\n\u001b[0m",
            "\u001b[0;31mKeyError\u001b[0m: \"Column 'Çekiliş Sonuçları' not found in data\""
          ]
        }
      ]
    },
    {
      "cell_type": "code",
      "source": [
        "import pandas as pd\n",
        "from sklearn.model_selection import train_test_split\n",
        "from sklearn.ensemble import RandomForestClassifier\n",
        "\n",
        "# Veri setini oku\n",
        "data = pd.read_excel(\"data.xlsx\")\n",
        "\n",
        "# En çok çıkan 10 sayıyı bir listeye dönüştür\n",
        "en_cok_cikan_sayilar = data.value_counts().sort_values(ascending=False).head(10).index.tolist()\n",
        "\n",
        "# Yeni bir özellik oluştur\n",
        "data[\"En Çok Çıkan Sayılar\"] = data.filter(like=str(en_cok_cikan_sayilar)).sum(axis=1)\n",
        "\n",
        "# Hedef değişkeni \"Çekiliş Sonuçları\" olarak ayarla\n",
        "y = data[\"Çekiliş Sonuçları:\"]\n",
        "\n",
        "# Özellik matrisini oluştur\n",
        "X = data.drop(\"Çekiliş Sonuçları:\", axis=1)\n",
        "\n",
        "# Verileri ayır\n",
        "X_train, X_test, y_train, y_test = train_test_split(X, y, test_size=0.25)\n",
        "\n",
        "# Rastgele Orman modelini oluştur\n",
        "model = RandomForestClassifier()\n",
        "\n",
        "# Modelin parametrelerini optimize et\n",
        "# ... (isteğe bağlı) ...\n",
        "\n",
        "# Modeli eğit\n",
        "model.fit(X_train, y_train)\n",
        "\n",
        "# Modeli değerlendir\n",
        "score = model.score(X_test, y_test)\n",
        "print(f\"Rastgele Orman modeli skoru: {score}\")\n",
        "\n",
        "# Tahminleri görüntüle\n",
        "predictions = model.predict(X_test)\n",
        "print(f\"Tahminler: {predictions}\")\n",
        "\n",
        "# Önemli özelliklerin listesini yazdır\n",
        "feature_importances = model.feature_importances_\n",
        "print(f\"Önemli Özellikler: {list(zip(X.columns, feature_importances))}\")\n",
        "\n",
        "# Modeli kaydet\n",
        "# ... (isteğe bağlı) ...\n",
        "\n",
        "# Yeni bir veri seti için tahmin yap\n",
        "yeni_veri = pd.DataFrame({\n",
        "    # ... yeni verinizin özelliklerini ekleyin ...\n",
        "})\n",
        "\n",
        "yeni_tahmin = model.predict(yeni_veri)\n",
        "print(f\"Yeni veri için tahmin: {yeni_tahmin}\")\n"
      ],
      "metadata": {
        "colab": {
          "base_uri": "https://localhost:8080/",
          "height": 550
        },
        "id": "nKL07gANSdEs",
        "outputId": "55fb7308-2967-4f29-a42d-999f42015bb2"
      },
      "execution_count": 43,
      "outputs": [
        {
          "output_type": "stream",
          "name": "stdout",
          "text": [
            "Rastgele Orman modeli skoru: 0.0\n",
            "Tahminler: [18 18 26 48 65 70]\n",
            "Önemli Özellikler: [('Çekiliş Sonuçları:.1', 0.0007017543859649122), ('Çekiliş Sonuçları:.2', 0.0007017543859649122), ('Çekiliş Sonuçları:.3', 0.004848730807661153), ('Çekiliş Sonuçları:.4', 0.0010898550724637683), ('Çekiliş Sonuçları:.5', 0.002508114363870696), ('Çekiliş Sonuçları:.6', 0.0010434782608695651), ('Çekiliş Sonuçları:.7', 0.0020485940485940484), ('Çekiliş Sonuçları:.8', 0.0007079646017699115), ('Çekiliş Sonuçları:.9', 0.0017762326169405815), ('Çekiliş Sonuçları:.10', 0.005284669385724587), ('Çekiliş Sonuçları:.11', 0.003302883896397667), ('Çekiliş Sonuçları:.12', 0.002182175622542595), ('Çekiliş Sonuçları:.13', 0.007189238509020722), ('Çekiliş Sonuçları:.14', 0.0007717569786535307), ('Çekiliş Sonuçları:.15', 0.0020006213109661384), ('Çekiliş Sonuçları:.16', 0.0), ('Çekiliş Sonuçları:.17', 0.0021979797979797973), ('Çekiliş Sonuçları:.18', 0.005047457405864485), ('Çekiliş Sonuçları:.19', 0.000689655172413793), ('Çekiliş Sonuçları:.20', 0.0007079646017699115), ('Çekiliş Sonuçları:.21', 0.001627504831654969), ('Çekiliş Sonuçları:.22', 0.0013300492610837438), ('Çekiliş Sonuçları:.23', 0.003344328238133548), ('Çekiliş Sonuçları:.24', 0.002301587301587301), ('Çekiliş Sonuçları:.25', 0.0017931034482758618), ('Çekiliş Sonuçları:.26', 0.006444356864477965), ('Çekiliş Sonuçları:.27', 0.0014545454545454545), ('Çekiliş Sonuçları:.28', 0.0029295123018787507), ('Çekiliş Sonuçları:.29', 0.002517207472959685), ('Çekiliş Sonuçları:.30', 0.0022167513178225798), ('Çekiliş Sonuçları:.31', 0.004867399644500147), ('Çekiliş Sonuçları:.32', 0.004725874231026081), ('Çekiliş Sonuçları:.33', 0.0010434782608695651), ('Çekiliş Sonuçları:.34', 0.004473965913879901), ('Çekiliş Sonuçları:.35', 0.002087061732291749), ('Çekiliş Sonuçları:.36', 0.004274246499358242), ('Çekiliş Sonuçları:.37', 0.0006956521739130435), ('Çekiliş Sonuçları:.38', 0.000689655172413793), ('Çekiliş Sonuçları:.39', 0.0007017543859649122), ('Çekiliş Sonuçları:.40', 0.0024638887213813345), ('Çekiliş Sonuçları:.41', 0.0014700854700854704), ('Çekiliş Sonuçları:.42', 0.0006956521739130435), ('Çekiliş Sonuçları:.43', 0.0009523809523809524), ('Çekiliş Sonuçları:.44', 0.0012753623188405793), ('Çekiliş Sonuçları:.45', 0.0006956521739130435), ('Çekiliş Sonuçları:.46', 0.0009523809523809524), ('Çekiliş Sonuçları:.47', 0.0026105296686532386), ('Çekiliş Sonuçları:.48', 0.0007207207207207206), ('Çekiliş Sonuçları:.49', 0.004820354202603537), ('Çekiliş Sonuçları:.50', 0.00338672744332411), ('Çekiliş Sonuçları:.51', 0.005952995796474059), ('Çekiliş Sonuçları:.52', 0.004791999274757895), ('Çekiliş Sonuçları:.53', 0.0016796536796536798), ('Çekiliş Sonuçları:.54', 0.004731351136792571), ('Çekiliş Sonuçları:.55', 0.001286549707602339), ('Çekiliş Sonuçları:.56', 0.001035598705501618), ('Çekiliş Sonuçları:.57', 0.0006956521739130435), ('Çekiliş Sonuçları:.58', 0.0018545454545454538), ('Çekiliş Sonuçları:.59', 0.0035843468910298332), ('Çekiliş Sonuçları:.60', 0.0038033086260608018), ('Çekiliş Sonuçları:.61', 0.0018481276005547847), ('Çekiliş Sonuçları:.62', 0.0016952549366342476), ('Çekiliş Sonuçları:.63', 0.004755747525616574), ('Çekiliş Sonuçları:.64', 0.004375537505972289), ('Çekiliş Sonuçları:.65', 0.0027885943248350544), ('Çekiliş Sonuçları:.66', 0.0039462894269774815), ('Çekiliş Sonuçları:.67', 0.002124698615391322), ('Çekiliş Sonuçları:.68', 0.0010714285714285713), ('Çekiliş Sonuçları:.69', 0.0019076066790352502), ('Çekiliş Sonuçları:.70', 0.001283208020050126), ('Çekiliş Sonuçları:.71', 0.0016714513556618821), ('Çekiliş Sonuçları:.72', 0.005837125098338924), ('Çekiliş Sonuçları:.73', 0.0010619469026548673), ('Çekiliş Sonuçları:.74', 0.0023050730273960762), ('Çekiliş Sonuçları:.75', 0.0), ('Çekiliş Sonuçları:.76', 0.0007079646017699115), ('Çekiliş Sonuçları:.77', 0.004381754228893816), ('Çekiliş Sonuçları:.78', 0.0027117844586478698), ('Çekiliş Sonuçları:.79', 0.002411854879918242), ('Çekiliş Sonuçları:.80', 0.006529930570475306), ('Çekiliş Sonuçları:.81', 0.003356424351926601), ('Çekiliş Sonuçları:.82', 0.0), ('Çekiliş Sonuçları:.83', 0.004036814643933022), ('Çekiliş Sonuçları:.84', 0.004280171277997366), ('Çekiliş Sonuçları:.85', 0.0037328983169691134), ('Çekiliş Sonuçları:.86', 0.002377888860647481), ('Çekiliş Sonuçları:.87', 0.0036699655120707754), ('Çekiliş Sonuçları:.88', 0.010538207287279933), ('Çekiliş Sonuçları:.89', 0.0020474010782219505), ('Çekiliş Sonuçları:.90', 0.0023189457902627634), ('Çekiliş Sonuçları:.91', 0.005687717606047915), ('Çekiliş Sonuçları:.92', 0.005692966078291231), ('Çekiliş Sonuçları:.93', 0.004458715596330276), ('Çekiliş Sonuçları:.94', 0.0027551033018764787), ('Çekiliş Sonuçları:.95', 0.0), ('Çekiliş Sonuçları:.96', 0.001981981981981982), ('Çekiliş Sonuçları:.97', 0.0022698067525653725), ('Çekiliş Sonuçları:.98', 0.007576550063034799), ('Çekiliş Sonuçları:.99', 0.0), ('Çekiliş Sonuçları:.100', 0.002550514216575922), ('Çekiliş Sonuçları:.101', 0.003570797170222228), ('Çekiliş Sonuçları:.102', 0.0017909334418336554), ('Çekiliş Sonuçları:.103', 0.0026279843643285815), ('Çekiliş Sonuçları:.104', 0.0016566131348740042), ('Çekiliş Sonuçları:.105', 0.0), ('Çekiliş Sonuçları:.106', 0.002286656671664168), ('Çekiliş Sonuçları:.107', 0.002099374160148617), ('Çekiliş Sonuçları:.108', 0.002354986213393293), ('Çekiliş Sonuçları:.109', 0.0012753623188405793), ('Çekiliş Sonuçları:.110', 0.0023232631471874683), ('Çekiliş Sonuçları:.111', 0.002058703341889183), ('Çekiliş Sonuçları:.112', 0.0013700918964076848), ('Çekiliş Sonuçları:.113', 0.0037724566569082357), ('Çekiliş Sonuçları:.114', 0.0007142857142857143), ('Çekiliş Sonuçları:.115', 0.0), ('Çekiliş Sonuçları:.116', 0.005410180738224682), ('Çekiliş Sonuçları:.117', 0.0014036167756829548), ('Çekiliş Sonuçları:.118', 0.0037438281564933827), ('Çekiliş Sonuçları:.119', 0.0024765748354396507), ('Çekiliş Sonuçları:.120', 0.0036086849138734414), ('Çekiliş Sonuçları:.121', 0.004232605192730737), ('Çekiliş Sonuçları:.122', 0.002074098289201265), ('Çekiliş Sonuçları:.123', 0.003924348265427726), ('Çekiliş Sonuçları:.124', 0.0), ('Çekiliş Sonuçları:.125', 0.004428044706305576), ('Çekiliş Sonuçları:.126', 0.0010344827586206897), ('Çekiliş Sonuçları:.127', 0.003073852856440165), ('Çekiliş Sonuçları:.128', 0.0), ('Çekiliş Sonuçları:.129', 0.005167713950650537), ('Çekiliş Sonuçları:.130', 0.002995670995670996), ('Çekiliş Sonuçları:.131', 0.004915485979953744), ('Çekiliş Sonuçları:.132', 0.0066926680769890745), ('Çekiliş Sonuçları:.133', 0.0009195402298850574), ('Çekiliş Sonuçları:.134', 0.004086031944155514), ('Çekiliş Sonuçları:.135', 0.0), ('Çekiliş Sonuçları:.136', 0.0024174877218355478), ('Çekiliş Sonuçları:.137', 0.0021179024899686694), ('Çekiliş Sonuçları:.138', 0.002444375453164637), ('Çekiliş Sonuçları:.139', 0.0012861212861212865), ('Çekiliş Sonuçları:.140', 0.0028901530543139643), ('Çekiliş Sonuçları:.141', 0.002153461217681401), ('Çekiliş Sonuçları:.142', 0.0027745825602968456), ('Çekiliş Sonuçları:.143', 0.006705022766728757), ('Çekiliş Sonuçları:.144', 0.003710144927536232), ('Çekiliş Sonuçları:.145', 0.0), ('Çekiliş Sonuçları:.146', 0.003286857487007411), ('Çekiliş Sonuçları:.147', 0.0017649746555293783), ('Çekiliş Sonuçları:.148', 0.005708000928894348), ('Çekiliş Sonuçları:.149', 0.0021559580497633596), ('Çekiliş Sonuçları:.150', 0.0023579228306755086), ('Çekiliş Sonuçları:.151', 0.004505347143278177), ('Çekiliş Sonuçları:.152', 0.00369133006189699), ('Çekiliş Sonuçları:.153', 0.002963564074760689), ('Çekiliş Sonuçları:.154', 0.0023929624947324063), ('Çekiliş Sonuçları:.155', 0.0007079646017699115), ('Çekiliş Sonuçları:.156', 0.002503178503178503), ('Çekiliş Sonuçları:.157', 0.0010619469026548673), ('Çekiliş Sonuçları:.158', 0.006763531286217313), ('Çekiliş Sonuçları:.159', 0.0007272727272727272), ('Çekiliş Sonuçları:.160', 0.0018353878426473713), ('Çekiliş Sonuçları:.161', 0.0027685066557630285), ('Çekiliş Sonuçları:.162', 0.003063063063063063), ('Çekiliş Sonuçları:.163', 0.0036254969860202648), ('Çekiliş Sonuçları:.164', 0.002546831847234278), ('Çekiliş Sonuçları:.165', 0.004609631295233982), ('Çekiliş Sonuçları:.166', 0.004112156311224918), ('Çekiliş Sonuçları:.167', 0.0007207207207207207), ('Çekiliş Sonuçları:.168', 0.002547977813464539), ('Çekiliş Sonuçları:.169', 0.000689655172413793), ('Çekiliş Sonuçları:.170', 0.0017460317460317456), ('Çekiliş Sonuçları:.171', 0.005506643962596936), ('Çekiliş Sonuçları:.172', 0.004888891582688792), ('Çekiliş Sonuçları:.173', 0.001535087719298246), ('Çekiliş Sonuçları:.174', 0.001081081081081081), ('Çekiliş Sonuçları:.175', 0.002727489904053835), ('Çekiliş Sonuçları:.176', 0.005136590085220195), ('Çekiliş Sonuçları:.177', 0.0), ('Çekiliş Sonuçları:.178', 0.0020703933747412005), ('Çekiliş Sonuçları:.179', 0.0007142857142857143), ('Çekiliş Sonuçları:.180', 0.0018481276005547847), ('Çekiliş Sonuçları:.181', 0.0015064935064935054), ('Çekiliş Sonuçları:.182', 0.0032417779990595525), ('Çekiliş Sonuçları:.183', 0.003967182865420433), ('Çekiliş Sonuçları:.184', 0.0024695050433966694), ('Çekiliş Sonuçları:.185', 0.0), ('Çekiliş Sonuçları:.186', 0.0035026697177726923), ('Çekiliş Sonuçları:.187', 0.002703529008857548), ('Çekiliş Sonuçları:.188', 0.005262122376459946), ('Çekiliş Sonuçları:.189', 0.003956330219488114), ('Çekiliş Sonuçları:.190', 0.0010434782608695651), ('Çekiliş Sonuçları:.191', 0.0065105051180486435), ('Çekiliş Sonuçları:.192', 0.004462015199732624), ('Çekiliş Sonuçları:.193', 0.004100078336880291), ('Çekiliş Sonuçları:.194', 0.0017272389446302489), ('Çekiliş Sonuçları:.195', 0.0038427014427014415), ('Çekiliş Sonuçları:.196', 0.004959448272645656), ('Çekiliş Sonuçları:.197', 0.007363657935913968), ('Çekiliş Sonuçları:.198', 0.002222854433380749), ('Çekiliş Sonuçları:.199', 0.000689655172413793), ('Çekiliş Sonuçları:.200', 0.0020135925399083292), ('Çekiliş Sonuçları:.201', 0.0018434148434148436), ('Çekiliş Sonuçları:.202', 0.0030205949656750574), ('Çekiliş Sonuçları:.203', 0.004181783248002351), ('Çekiliş Sonuçları:.204', 0.008008478365955002), ('Çekiliş Sonuçları:.205', 0.0006956521739130435), ('Çekiliş Sonuçları:.206', 0.0018578770157717528), ('Çekiliş Sonuçları:.207', 0.0026249661032269724), ('Çekiliş Sonuçları:.208', 0.005866738054121345), ('Çekiliş Sonuçları:.209', 0.004270168420120967), ('Çekiliş Sonuçları:.210', 0.007856325802854686), ('Çekiliş Sonuçları:.211', 0.002652782398474062), ('Çekiliş Sonuçları:.212', 0.0006956521739130435), ('Çekiliş Sonuçları:.213', 0.002935977625222477), ('Çekiliş Sonuçları:.214', 0.002630648961233669), ('Çekiliş Sonuçları:.215', 0.00827459608362682), ('Çekiliş Sonuçları:.216', 0.0014918414918414918), ('Çekiliş Sonuçları:.217', 0.002117990628745779), ('Çekiliş Sonuçları:.218', 0.002848715992880753), ('Çekiliş Sonuçları:.219', 0.0026418496888920735), ('Çekiliş Sonuçları:.220', 0.008957264146948515), ('Çekiliş Sonuçları:.221', 0.0013348055453318607), ('Çekiliş Sonuçları:.222', 0.006544276196585892), ('Çekiliş Sonuçları:.223', 0.0031687370600414085), ('Çekiliş Sonuçları:.224', 0.0013976197741837047), ('Çekiliş Sonuçları:.225', 0.0024800721944450957), ('Çekiliş Sonuçları:.226', 0.003866784856794277), ('Çekiliş Sonuçları:.227', 0.0027439047439047435), ('Çekiliş Sonuçları:.228', 0.004393464616961718), ('Çekiliş Sonuçları:.229', 0.0025709794675311914), ('Çekiliş Sonuçları:.230', 0.0016836734693877547), ('Çekiliş Sonuçları:.231', 0.0007079646017699115), ('Çekiliş Sonuçları:.232', 0.001373415856174477), ('Çekiliş Sonuçları:.233', 0.004676337801147078), ('Çekiliş Sonuçları:.234', 0.003205811622428274), ('Çekiliş Sonuçları:.235', 0.000689655172413793), ('Çekiliş Sonuçları:.236', 0.0010434782608695651), ('Çekiliş Sonuçları:.237', 0.0007207207207207207), ('Çekiliş Sonuçları:.238', 0.0009126984126984132), ('Çekiliş Sonuçları:.239', 0.008567059163118276), ('Çekiliş Sonuçları:.240', 0.0031750209837166365), ('Çekiliş Sonuçları:.241', 0.0029339549339549337), ('Çekiliş Sonuçları:.242', 0.001236714975845411), ('Çekiliş Sonuçları:.243', 0.0019639914555996344), ('Çekiliş Sonuçları:.244', 0.004444633248371565), ('Çekiliş Sonuçları:.245', 0.002394767218160831), ('Çekiliş Sonuçları:.246', 0.0047774081220750995), ('Çekiliş Sonuçları:.247', 0.00446791849440949), ('Çekiliş Sonuçları:.248', 0.009022228436069132), ('Çekiliş Sonuçları:.249', 0.0031176218059879024), ('Çekiliş Sonuçları:.250', 0.0007079646017699115), ('Çekiliş Sonuçları:.251', 0.0026819905757958858), ('Çekiliş Sonuçları:.252', 0.006328691668262829), ('Çekiliş Sonuçları:.253', 0.0028577637599187123), ('Çekiliş Sonuçları:.254', 0.0014160401002506265), ('Çekiliş Sonuçları:.255', 0.0007207207207207207), ('Çekiliş Sonuçları:.256', 0.0006896551724137933), ('Çekiliş Sonuçları:.257', 0.0019780219780219785), ('Çekiliş Sonuçları:.258', 0.0014169278996865203), ('Çekiliş Sonuçları:.259', 0.0007017543859649122), ('Çekiliş Sonuçları:.260', 0.0022258870564717645), ('Çekiliş Sonuçları:.261', 0.0017422867513611614), ('Çekiliş Sonuçları:.262', 0.0020779610194902546), ('Çekiliş Sonuçları:.263', 0.0013914095583787054), ('Çekiliş Sonuçları:.264', 0.0035429492958097076), ('Çekiliş Sonuçları:.265', 0.0028126291429043724), ('Çekiliş Sonuçları:.266', 0.0), ('Çekiliş Sonuçları:.267', 0.0020689655172413794), ('Çekiliş Sonuçları:.268', 0.005522365157101187), ('Çekiliş Sonuçları:.269', 0.0027752437234919293), ('Çekiliş Sonuçları:.270', 0.0018779181837652603), ('Çekiliş Sonuçları:.271', 0.0032597570884710498), ('Çekiliş Sonuçları:.272', 0.004779721346703342), ('Çekiliş Sonuçları:.273', 0.002259557958062688), ('Çekiliş Sonuçları:.274', 0.0029899620142021066), ('Çekiliş Sonuçları:.275', 0.0006837606837606839), ('Çekiliş Sonuçları:.276', 0.0037501127554241988), ('Çekiliş Sonuçları:.277', 0.0014036167756829548), ('Çekiliş Sonuçları:.278', 0.0010706075533661737), ('Çekiliş Sonuçları:.279', 0.000689655172413793), ('Çekiliş Sonuçları:.280', 0.0032561680882047016), ('Çekiliş Sonuçları:.281', 0.0012631578947368423), ('Çekiliş Sonuçları:.282', 0.0019995966928816294), ('Çekiliş Sonuçları:.283', 0.005688904918993414), ('Çekiliş Sonuçları:.284', 0.0), ('Çekiliş Sonuçları:.285', 0.0011473354231974924), ('Çekiliş Sonuçları:.286', 0.0030617932570938355), ('Çekiliş Sonuçları:.287', 0.003281459919390953), ('Çekiliş Sonuçları:.288', 0.0026747220331291128), ('Çekiliş Sonuçları:.289', 0.0), ('Çekiliş Sonuçları:.290', 0.004845432352112777), ('Çekiliş Sonuçları:.291', 0.0025805664603987845), ('Çekiliş Sonuçları:.292', 0.002764779950620658), ('Çekiliş Sonuçları:.293', 0.0006837606837606839), ('Çekiliş Sonuçları:.294', 0.0031627018589916404), ('Çekiliş Sonuçları:.295', 0.0054223571890260665), ('Çekiliş Sonuçları:.296', 0.003492205659693345), ('Çekiliş Sonuçları:.297', 0.0007476635514018691), ('Çekiliş Sonuçları:.298', 0.005952003299423048), ('Çekiliş Sonuçları:.299', 0.001415929203539823), ('Çekiliş Sonuçları:.300', 0.002217368260443602), ('Çekiliş Sonuçları:.301', 0.004431667053177351), ('Çekiliş Sonuçları:.302', 0.0027296670880741676), ('Çekiliş Sonuçları:.303', 0.004960012106317689), ('Çekiliş Sonuçları:.304', 0.0036708074534161483), ('Çekiliş Sonuçları:.305', 0.0007079646017699115), ('Çekiliş Sonuçları:.306', 0.0), ('Çekiliş Sonuçları:.307', 0.0054130248658813), ('Çekiliş Sonuçları:.308', 0.0010434782608695651), ('Çekiliş Sonuçları:.309', 0.0007017543859649122), ('Çekiliş Sonuçları:.310', 0.0006956521739130435), ('Çekiliş Sonuçları:.311', 0.0033632231503295967), ('Çekiliş Sonuçları:.312', 0.0031714762087982564), ('Çekiliş Sonuçları:.313', 0.006574674761021955), ('Çekiliş Sonuçları:.314', 0.0), ('Çekiliş Sonuçları:.315', 0.0071425528392869645), ('Çekiliş Sonuçları:.316', 0.0030517551125295696), ('Çekiliş Sonuçları:.317', 0.0020786811126733383), ('Çekiliş Sonuçları:.318', 0.0034130494130494137), ('Çekiliş Sonuçları:.319', 0.0006956521739130435), ('Çekiliş Sonuçları:.320', 0.0025821452909908682), ('Çekiliş Sonuçları:.321', 0.0006956521739130435), ('Çekiliş Sonuçları:.322', 0.0038457315733414527), ('Çekiliş Sonuçları:.323', 0.003323636538241625), ('Çekiliş Sonuçları:.324', 0.006766925110298794), ('Çekiliş Sonuçları:.325', 0.006506896455637874), ('Çekiliş Sonuçları:.326', 0.0009696969696969697), ('Çekiliş Sonuçları:.327', 0.000689655172413793), ('Çekiliş Sonuçları:.328', 0.0007142857142857143), ('Çekiliş Sonuçları:.329', 0.004786596747616238), ('Çekiliş Sonuçları:.330', 0.0020770122208175305), ('Çekiliş Sonuçları:.331', 0.004462137352376443), ('Çekiliş Sonuçları:.332', 0.001699115044247788), ('Çekiliş Sonuçları:.333', 0.0020029239766081873), ('Çekiliş Sonuçları:.334', 0.005023306124348548), ('Çekiliş Sonuçları:.335', 0.0025408062930186827), ('Çekiliş Sonuçları:.336', 0.00498762493688166), ('Çekiliş Sonuçları:.337', 0.0034275753486279798), ('Çekiliş Sonuçları:.338', 0.003956702661265793), ('Çekiliş Sonuçları:.339', 0.00547129814893181), ('Çekiliş Sonuçları:.340', 0.00606020679611737), ('Çekiliş Sonuçları:.341', 0.005057909334451798), ('Çekiliş Sonuçları:.342', 0.005802144021784202), ('Çekiliş Sonuçları:.343', 0.005437011224117672), ('Çekiliş Sonuçları:.344', 0.002183908045977011), ('Çekiliş Sonuçları:.345', 0.0014445900684432794), ('Çekiliş Sonuçları:.346', 0.0), ('Çekiliş Sonuçları:.347', 0.0008141592920353985), ('Çekiliş Sonuçları:.348', 0.0013300492610837438), ('Çekiliş Sonuçları:.349', 0.002192152674911296), ('Çekiliş Sonuçları:.350', 0.0016666666666666666), ('Çekiliş Sonuçları:.351', 0.0024418984201592894), ('Çekiliş Sonuçları:.352', 0.0034050117798243734), ('Çekiliş Sonuçları:.353', 0.0034310152589490787), ('Çekiliş Sonuçları:.354', 0.00248864585706691), ('Çekiliş Sonuçları:.355', 0.0006837606837606839), ('Çekiliş Sonuçları:.356', 0.0017543859649122805), ('Çekiliş Sonuçları:.357', 0.003186636917324971), ('Çekiliş Sonuçları:.358', 0.0020501993901008682), ('En Çok Çıkan Sayılar', 0.0)]\n"
          ]
        },
        {
          "output_type": "stream",
          "name": "stderr",
          "text": [
            "/usr/local/lib/python3.10/dist-packages/sklearn/base.py:439: UserWarning: X does not have valid feature names, but RandomForestClassifier was fitted with feature names\n",
            "  warnings.warn(\n"
          ]
        },
        {
          "output_type": "error",
          "ename": "ValueError",
          "evalue": "at least one array or dtype is required",
          "traceback": [
            "\u001b[0;31m---------------------------------------------------------------------------\u001b[0m",
            "\u001b[0;31mValueError\u001b[0m                                Traceback (most recent call last)",
            "\u001b[0;32m<ipython-input-43-310e9116584e>\u001b[0m in \u001b[0;36m<cell line: 52>\u001b[0;34m()\u001b[0m\n\u001b[1;32m     50\u001b[0m })\n\u001b[1;32m     51\u001b[0m \u001b[0;34m\u001b[0m\u001b[0m\n\u001b[0;32m---> 52\u001b[0;31m \u001b[0myeni_tahmin\u001b[0m \u001b[0;34m=\u001b[0m \u001b[0mmodel\u001b[0m\u001b[0;34m.\u001b[0m\u001b[0mpredict\u001b[0m\u001b[0;34m(\u001b[0m\u001b[0myeni_veri\u001b[0m\u001b[0;34m)\u001b[0m\u001b[0;34m\u001b[0m\u001b[0;34m\u001b[0m\u001b[0m\n\u001b[0m\u001b[1;32m     53\u001b[0m \u001b[0mprint\u001b[0m\u001b[0;34m(\u001b[0m\u001b[0;34mf\"Yeni veri için tahmin: {yeni_tahmin}\"\u001b[0m\u001b[0;34m)\u001b[0m\u001b[0;34m\u001b[0m\u001b[0;34m\u001b[0m\u001b[0m\n",
            "\u001b[0;32m/usr/local/lib/python3.10/dist-packages/sklearn/ensemble/_forest.py\u001b[0m in \u001b[0;36mpredict\u001b[0;34m(self, X)\u001b[0m\n\u001b[1;32m    818\u001b[0m             \u001b[0mThe\u001b[0m \u001b[0mpredicted\u001b[0m \u001b[0mclasses\u001b[0m\u001b[0;34m.\u001b[0m\u001b[0;34m\u001b[0m\u001b[0;34m\u001b[0m\u001b[0m\n\u001b[1;32m    819\u001b[0m         \"\"\"\n\u001b[0;32m--> 820\u001b[0;31m         \u001b[0mproba\u001b[0m \u001b[0;34m=\u001b[0m \u001b[0mself\u001b[0m\u001b[0;34m.\u001b[0m\u001b[0mpredict_proba\u001b[0m\u001b[0;34m(\u001b[0m\u001b[0mX\u001b[0m\u001b[0;34m)\u001b[0m\u001b[0;34m\u001b[0m\u001b[0;34m\u001b[0m\u001b[0m\n\u001b[0m\u001b[1;32m    821\u001b[0m \u001b[0;34m\u001b[0m\u001b[0m\n\u001b[1;32m    822\u001b[0m         \u001b[0;32mif\u001b[0m \u001b[0mself\u001b[0m\u001b[0;34m.\u001b[0m\u001b[0mn_outputs_\u001b[0m \u001b[0;34m==\u001b[0m \u001b[0;36m1\u001b[0m\u001b[0;34m:\u001b[0m\u001b[0;34m\u001b[0m\u001b[0;34m\u001b[0m\u001b[0m\n",
            "\u001b[0;32m/usr/local/lib/python3.10/dist-packages/sklearn/ensemble/_forest.py\u001b[0m in \u001b[0;36mpredict_proba\u001b[0;34m(self, X)\u001b[0m\n\u001b[1;32m    860\u001b[0m         \u001b[0mcheck_is_fitted\u001b[0m\u001b[0;34m(\u001b[0m\u001b[0mself\u001b[0m\u001b[0;34m)\u001b[0m\u001b[0;34m\u001b[0m\u001b[0;34m\u001b[0m\u001b[0m\n\u001b[1;32m    861\u001b[0m         \u001b[0;31m# Check data\u001b[0m\u001b[0;34m\u001b[0m\u001b[0;34m\u001b[0m\u001b[0m\n\u001b[0;32m--> 862\u001b[0;31m         \u001b[0mX\u001b[0m \u001b[0;34m=\u001b[0m \u001b[0mself\u001b[0m\u001b[0;34m.\u001b[0m\u001b[0m_validate_X_predict\u001b[0m\u001b[0;34m(\u001b[0m\u001b[0mX\u001b[0m\u001b[0;34m)\u001b[0m\u001b[0;34m\u001b[0m\u001b[0;34m\u001b[0m\u001b[0m\n\u001b[0m\u001b[1;32m    863\u001b[0m \u001b[0;34m\u001b[0m\u001b[0m\n\u001b[1;32m    864\u001b[0m         \u001b[0;31m# Assign chunk of trees to jobs\u001b[0m\u001b[0;34m\u001b[0m\u001b[0;34m\u001b[0m\u001b[0m\n",
            "\u001b[0;32m/usr/local/lib/python3.10/dist-packages/sklearn/ensemble/_forest.py\u001b[0m in \u001b[0;36m_validate_X_predict\u001b[0;34m(self, X)\u001b[0m\n\u001b[1;32m    600\u001b[0m         Validate X whenever one tries to predict, apply, predict_proba.\"\"\"\n\u001b[1;32m    601\u001b[0m         \u001b[0mcheck_is_fitted\u001b[0m\u001b[0;34m(\u001b[0m\u001b[0mself\u001b[0m\u001b[0;34m)\u001b[0m\u001b[0;34m\u001b[0m\u001b[0;34m\u001b[0m\u001b[0m\n\u001b[0;32m--> 602\u001b[0;31m         \u001b[0mX\u001b[0m \u001b[0;34m=\u001b[0m \u001b[0mself\u001b[0m\u001b[0;34m.\u001b[0m\u001b[0m_validate_data\u001b[0m\u001b[0;34m(\u001b[0m\u001b[0mX\u001b[0m\u001b[0;34m,\u001b[0m \u001b[0mdtype\u001b[0m\u001b[0;34m=\u001b[0m\u001b[0mDTYPE\u001b[0m\u001b[0;34m,\u001b[0m \u001b[0maccept_sparse\u001b[0m\u001b[0;34m=\u001b[0m\u001b[0;34m\"csr\"\u001b[0m\u001b[0;34m,\u001b[0m \u001b[0mreset\u001b[0m\u001b[0;34m=\u001b[0m\u001b[0;32mFalse\u001b[0m\u001b[0;34m)\u001b[0m\u001b[0;34m\u001b[0m\u001b[0;34m\u001b[0m\u001b[0m\n\u001b[0m\u001b[1;32m    603\u001b[0m         \u001b[0;32mif\u001b[0m \u001b[0missparse\u001b[0m\u001b[0;34m(\u001b[0m\u001b[0mX\u001b[0m\u001b[0;34m)\u001b[0m \u001b[0;32mand\u001b[0m \u001b[0;34m(\u001b[0m\u001b[0mX\u001b[0m\u001b[0;34m.\u001b[0m\u001b[0mindices\u001b[0m\u001b[0;34m.\u001b[0m\u001b[0mdtype\u001b[0m \u001b[0;34m!=\u001b[0m \u001b[0mnp\u001b[0m\u001b[0;34m.\u001b[0m\u001b[0mintc\u001b[0m \u001b[0;32mor\u001b[0m \u001b[0mX\u001b[0m\u001b[0;34m.\u001b[0m\u001b[0mindptr\u001b[0m\u001b[0;34m.\u001b[0m\u001b[0mdtype\u001b[0m \u001b[0;34m!=\u001b[0m \u001b[0mnp\u001b[0m\u001b[0;34m.\u001b[0m\u001b[0mintc\u001b[0m\u001b[0;34m)\u001b[0m\u001b[0;34m:\u001b[0m\u001b[0;34m\u001b[0m\u001b[0;34m\u001b[0m\u001b[0m\n\u001b[1;32m    604\u001b[0m             \u001b[0;32mraise\u001b[0m \u001b[0mValueError\u001b[0m\u001b[0;34m(\u001b[0m\u001b[0;34m\"No support for np.int64 index based sparse matrices\"\u001b[0m\u001b[0;34m)\u001b[0m\u001b[0;34m\u001b[0m\u001b[0;34m\u001b[0m\u001b[0m\n",
            "\u001b[0;32m/usr/local/lib/python3.10/dist-packages/sklearn/base.py\u001b[0m in \u001b[0;36m_validate_data\u001b[0;34m(self, X, y, reset, validate_separately, **check_params)\u001b[0m\n\u001b[1;32m    563\u001b[0m             \u001b[0;32mraise\u001b[0m \u001b[0mValueError\u001b[0m\u001b[0;34m(\u001b[0m\u001b[0;34m\"Validation should be done on X, y or both.\"\u001b[0m\u001b[0;34m)\u001b[0m\u001b[0;34m\u001b[0m\u001b[0;34m\u001b[0m\u001b[0m\n\u001b[1;32m    564\u001b[0m         \u001b[0;32melif\u001b[0m \u001b[0;32mnot\u001b[0m \u001b[0mno_val_X\u001b[0m \u001b[0;32mand\u001b[0m \u001b[0mno_val_y\u001b[0m\u001b[0;34m:\u001b[0m\u001b[0;34m\u001b[0m\u001b[0;34m\u001b[0m\u001b[0m\n\u001b[0;32m--> 565\u001b[0;31m             \u001b[0mX\u001b[0m \u001b[0;34m=\u001b[0m \u001b[0mcheck_array\u001b[0m\u001b[0;34m(\u001b[0m\u001b[0mX\u001b[0m\u001b[0;34m,\u001b[0m \u001b[0minput_name\u001b[0m\u001b[0;34m=\u001b[0m\u001b[0;34m\"X\"\u001b[0m\u001b[0;34m,\u001b[0m \u001b[0;34m**\u001b[0m\u001b[0mcheck_params\u001b[0m\u001b[0;34m)\u001b[0m\u001b[0;34m\u001b[0m\u001b[0;34m\u001b[0m\u001b[0m\n\u001b[0m\u001b[1;32m    566\u001b[0m             \u001b[0mout\u001b[0m \u001b[0;34m=\u001b[0m \u001b[0mX\u001b[0m\u001b[0;34m\u001b[0m\u001b[0;34m\u001b[0m\u001b[0m\n\u001b[1;32m    567\u001b[0m         \u001b[0;32melif\u001b[0m \u001b[0mno_val_X\u001b[0m \u001b[0;32mand\u001b[0m \u001b[0;32mnot\u001b[0m \u001b[0mno_val_y\u001b[0m\u001b[0;34m:\u001b[0m\u001b[0;34m\u001b[0m\u001b[0;34m\u001b[0m\u001b[0m\n",
            "\u001b[0;32m/usr/local/lib/python3.10/dist-packages/sklearn/utils/validation.py\u001b[0m in \u001b[0;36mcheck_array\u001b[0;34m(array, accept_sparse, accept_large_sparse, dtype, order, copy, force_all_finite, ensure_2d, allow_nd, ensure_min_samples, ensure_min_features, estimator, input_name)\u001b[0m\n\u001b[1;32m    776\u001b[0m         )\n\u001b[1;32m    777\u001b[0m         \u001b[0;32mif\u001b[0m \u001b[0mall\u001b[0m\u001b[0;34m(\u001b[0m\u001b[0misinstance\u001b[0m\u001b[0;34m(\u001b[0m\u001b[0mdtype_iter\u001b[0m\u001b[0;34m,\u001b[0m \u001b[0mnp\u001b[0m\u001b[0;34m.\u001b[0m\u001b[0mdtype\u001b[0m\u001b[0;34m)\u001b[0m \u001b[0;32mfor\u001b[0m \u001b[0mdtype_iter\u001b[0m \u001b[0;32min\u001b[0m \u001b[0mdtypes_orig\u001b[0m\u001b[0;34m)\u001b[0m\u001b[0;34m:\u001b[0m\u001b[0;34m\u001b[0m\u001b[0;34m\u001b[0m\u001b[0m\n\u001b[0;32m--> 778\u001b[0;31m             \u001b[0mdtype_orig\u001b[0m \u001b[0;34m=\u001b[0m \u001b[0mnp\u001b[0m\u001b[0;34m.\u001b[0m\u001b[0mresult_type\u001b[0m\u001b[0;34m(\u001b[0m\u001b[0;34m*\u001b[0m\u001b[0mdtypes_orig\u001b[0m\u001b[0;34m)\u001b[0m\u001b[0;34m\u001b[0m\u001b[0;34m\u001b[0m\u001b[0m\n\u001b[0m\u001b[1;32m    779\u001b[0m \u001b[0;34m\u001b[0m\u001b[0m\n\u001b[1;32m    780\u001b[0m     \u001b[0;32melif\u001b[0m \u001b[0mhasattr\u001b[0m\u001b[0;34m(\u001b[0m\u001b[0marray\u001b[0m\u001b[0;34m,\u001b[0m \u001b[0;34m\"iloc\"\u001b[0m\u001b[0;34m)\u001b[0m \u001b[0;32mand\u001b[0m \u001b[0mhasattr\u001b[0m\u001b[0;34m(\u001b[0m\u001b[0marray\u001b[0m\u001b[0;34m,\u001b[0m \u001b[0;34m\"dtype\"\u001b[0m\u001b[0;34m)\u001b[0m\u001b[0;34m:\u001b[0m\u001b[0;34m\u001b[0m\u001b[0;34m\u001b[0m\u001b[0m\n",
            "\u001b[0;31mValueError\u001b[0m: at least one array or dtype is required"
          ]
        }
      ]
    },
    {
      "cell_type": "code",
      "source": [
        "import pandas as pd\n",
        "from sklearn.model_selection import train_test_split\n",
        "from sklearn.ensemble import RandomForestClassifier\n",
        "from sklearn.metrics import accuracy_score\n",
        "\n",
        "# Excel dosyasını oku\n",
        "veri_seti = pd.read_excel(\"/content/sample_data/data.xlsx\", header=None)\n",
        "\n",
        "# Veri setini transpoz yap\n",
        "veri_seti = veri_seti.T\n",
        "\n",
        "# İlk satırı sütun isimleri olarak kullan\n",
        "veri_seti.columns = veri_seti.iloc[0]\n",
        "\n",
        "# İlk satırı ve Çekiliş Sonuçları: başlıklarını kaldır\n",
        "veri_seti = veri_seti.iloc[1:, :].reset_index(drop=True)\n",
        "\n",
        "# Çekiliş Sonuçları sütununu hedef değişken olarak belirle\n",
        "y = veri_seti['Çekiliş Sonuçları:']\n",
        "\n",
        "# Çekiliş Sonuçları sütununu ve Çekiliş Sonuçları: başlığını kaldır\n",
        "X = veri_seti.drop(['Çekiliş Sonuçları:'], axis=1)\n",
        "\n",
        "# Veri setini eğitim ve test setlerine ayır\n",
        "X_egitim, X_test, y_egitim, y_test = train_test_split(X, y, test_size=0.2, random_state=42)\n",
        "\n",
        "# Random Forest sınıflandırma modelini oluştur\n",
        "model = RandomForestClassifier(random_state=42)\n",
        "\n",
        "# Modeli eğit\n",
        "model.fit(X_egitim, y_egitim)\n",
        "\n",
        "# Test setini kullanarak modelin performansını değerlendir\n",
        "tahminler = model.predict(X_test)\n",
        "dogruluk = accuracy_score(y_test, tahminler)\n",
        "\n",
        "print(f'Model Doğruluğu: {dogruluk}')\n"
      ],
      "metadata": {
        "colab": {
          "base_uri": "https://localhost:8080/"
        },
        "id": "NQy0XUe0VXn2",
        "outputId": "8468e4c3-3247-4224-958f-dd9d248c4544"
      },
      "execution_count": 46,
      "outputs": [
        {
          "output_type": "stream",
          "name": "stdout",
          "text": [
            "Model Doğruluğu: 1.0\n"
          ]
        }
      ]
    },
    {
      "cell_type": "code",
      "source": [
        "# Gelecekteki çekiliş için öngörü olasılıklarını al\n",
        "olasiliklar = model.predict_proba(X_egitim.iloc[0:1, :])\n",
        "\n",
        "# Her bir rakamın olasılığını sütun adı ile eşleştir\n",
        "olasilik_df = pd.DataFrame(olasiliklar, columns=model.classes_)\n",
        "\n",
        "# Olasılıkları sırala ve en yüksek 10 olasılığı al\n",
        "en_yuksek_10_olasiliklar = olasilik_df.iloc[:, :10].max(axis=1)\n",
        "\n",
        "# En yüksek 10 olasılıklara karşılık gelen sayıları al\n",
        "en_yuksek_10_sayilar = olasilik_df.iloc[:, :10].idxmax(axis=1)\n",
        "\n",
        "# Sonuçları göster\n",
        "print(\"En Yüksek 10 Olasılıklar:\")\n",
        "print(en_yuksek_10_olasiliklar)\n",
        "print(\"\\nEn Yüksek 10 Sayı:\")\n",
        "print(en_yuksek_10_sayilar)\n"
      ],
      "metadata": {
        "colab": {
          "base_uri": "https://localhost:8080/"
        },
        "id": "vuMQ3jOTW4h2",
        "outputId": "224e7edb-9eb4-45c0-b918-ca2b60956d73"
      },
      "execution_count": 47,
      "outputs": [
        {
          "output_type": "stream",
          "name": "stdout",
          "text": [
            "En Yüksek 10 Olasılıklar:\n",
            "0    1.0\n",
            "dtype: float64\n",
            "\n",
            "En Yüksek 10 Sayı:\n",
            "0    Çekiliş Sonuçları:\n",
            "dtype: object\n"
          ]
        }
      ]
    },
    {
      "cell_type": "code",
      "source": [
        "import pandas as pd\n",
        "from sklearn.ensemble import RandomForestClassifier\n",
        "from sklearn.model_selection import train_test_split\n",
        "from sklearn.metrics import accuracy_score\n",
        "\n",
        "# Excel dosyasını oku\n",
        "veri_seti = pd.read_excel('/content/sample_data/data.xlsx')\n",
        "\n",
        "# Veriyi düzenle: Her sütunu tek bir liste haline getir\n",
        "cekilis_sonuclari = veri_seti.iloc[:, 1:].values.flatten()\n",
        "\n",
        "# Liste haline getirilen çekiliş sonuçlarını yeni bir veri çerçevesine ekle\n",
        "yeni_veri_seti = pd.DataFrame({'Çekiliş Sonuçları': cekilis_sonuclari})\n",
        "\n",
        "# Çekiliş Sonuçları sütununu hedef değişken olarak belirle\n",
        "y = yeni_veri_seti['Çekiliş Sonuçları']\n",
        "\n",
        "# Çekiliş Sonuçları sütununu ve Çekiliş Sonuçları: başlıklarını kaldır\n",
        "X = yeni_veri_seti.drop(['Çekiliş Sonuçları'], axis=1)\n",
        "\n",
        "# Veri setini eğitim ve test setlerine ayır\n",
        "X_egitim, X_test, y_egitim, y_test = train_test_split(X, y, test_size=0.2, random_state=42)\n",
        "\n",
        "# Random Forest sınıflandırma modelini oluştur\n",
        "model = RandomForestClassifier(random_state=42)\n",
        "\n",
        "# Modeli eğit\n",
        "model.fit(X_egitim, y_egitim)\n",
        "\n",
        "# Test setini kullanarak modelin performansını değerlendir\n",
        "tahminler = model.predict(X_test)\n",
        "dogruluk = accuracy_score(y_test, tahminler)\n",
        "\n",
        "print(f\"Model Doğruluğu: {dogruluk}\")"
      ],
      "metadata": {
        "colab": {
          "base_uri": "https://localhost:8080/",
          "height": 460
        },
        "id": "mldZlZKTXdQG",
        "outputId": "8e3c6636-41f3-451b-c09f-8ad1e515a7c7"
      },
      "execution_count": 50,
      "outputs": [
        {
          "output_type": "error",
          "ename": "ValueError",
          "evalue": "at least one array or dtype is required",
          "traceback": [
            "\u001b[0;31m---------------------------------------------------------------------------\u001b[0m",
            "\u001b[0;31mValueError\u001b[0m                                Traceback (most recent call last)",
            "\u001b[0;32m<ipython-input-50-fb1cdc043d12>\u001b[0m in \u001b[0;36m<cell line: 28>\u001b[0;34m()\u001b[0m\n\u001b[1;32m     26\u001b[0m \u001b[0;34m\u001b[0m\u001b[0m\n\u001b[1;32m     27\u001b[0m \u001b[0;31m# Modeli eğit\u001b[0m\u001b[0;34m\u001b[0m\u001b[0;34m\u001b[0m\u001b[0m\n\u001b[0;32m---> 28\u001b[0;31m \u001b[0mmodel\u001b[0m\u001b[0;34m.\u001b[0m\u001b[0mfit\u001b[0m\u001b[0;34m(\u001b[0m\u001b[0mX_egitim\u001b[0m\u001b[0;34m,\u001b[0m \u001b[0my_egitim\u001b[0m\u001b[0;34m)\u001b[0m\u001b[0;34m\u001b[0m\u001b[0;34m\u001b[0m\u001b[0m\n\u001b[0m\u001b[1;32m     29\u001b[0m \u001b[0;34m\u001b[0m\u001b[0m\n\u001b[1;32m     30\u001b[0m \u001b[0;31m# Test setini kullanarak modelin performansını değerlendir\u001b[0m\u001b[0;34m\u001b[0m\u001b[0;34m\u001b[0m\u001b[0m\n",
            "\u001b[0;32m/usr/local/lib/python3.10/dist-packages/sklearn/ensemble/_forest.py\u001b[0m in \u001b[0;36mfit\u001b[0;34m(self, X, y, sample_weight)\u001b[0m\n\u001b[1;32m    343\u001b[0m         \u001b[0;32mif\u001b[0m \u001b[0missparse\u001b[0m\u001b[0;34m(\u001b[0m\u001b[0my\u001b[0m\u001b[0;34m)\u001b[0m\u001b[0;34m:\u001b[0m\u001b[0;34m\u001b[0m\u001b[0;34m\u001b[0m\u001b[0m\n\u001b[1;32m    344\u001b[0m             \u001b[0;32mraise\u001b[0m \u001b[0mValueError\u001b[0m\u001b[0;34m(\u001b[0m\u001b[0;34m\"sparse multilabel-indicator for y is not supported.\"\u001b[0m\u001b[0;34m)\u001b[0m\u001b[0;34m\u001b[0m\u001b[0;34m\u001b[0m\u001b[0m\n\u001b[0;32m--> 345\u001b[0;31m         X, y = self._validate_data(\n\u001b[0m\u001b[1;32m    346\u001b[0m             \u001b[0mX\u001b[0m\u001b[0;34m,\u001b[0m \u001b[0my\u001b[0m\u001b[0;34m,\u001b[0m \u001b[0mmulti_output\u001b[0m\u001b[0;34m=\u001b[0m\u001b[0;32mTrue\u001b[0m\u001b[0;34m,\u001b[0m \u001b[0maccept_sparse\u001b[0m\u001b[0;34m=\u001b[0m\u001b[0;34m\"csc\"\u001b[0m\u001b[0;34m,\u001b[0m \u001b[0mdtype\u001b[0m\u001b[0;34m=\u001b[0m\u001b[0mDTYPE\u001b[0m\u001b[0;34m\u001b[0m\u001b[0;34m\u001b[0m\u001b[0m\n\u001b[1;32m    347\u001b[0m         )\n",
            "\u001b[0;32m/usr/local/lib/python3.10/dist-packages/sklearn/base.py\u001b[0m in \u001b[0;36m_validate_data\u001b[0;34m(self, X, y, reset, validate_separately, **check_params)\u001b[0m\n\u001b[1;32m    582\u001b[0m                 \u001b[0my\u001b[0m \u001b[0;34m=\u001b[0m \u001b[0mcheck_array\u001b[0m\u001b[0;34m(\u001b[0m\u001b[0my\u001b[0m\u001b[0;34m,\u001b[0m \u001b[0minput_name\u001b[0m\u001b[0;34m=\u001b[0m\u001b[0;34m\"y\"\u001b[0m\u001b[0;34m,\u001b[0m \u001b[0;34m**\u001b[0m\u001b[0mcheck_y_params\u001b[0m\u001b[0;34m)\u001b[0m\u001b[0;34m\u001b[0m\u001b[0;34m\u001b[0m\u001b[0m\n\u001b[1;32m    583\u001b[0m             \u001b[0;32melse\u001b[0m\u001b[0;34m:\u001b[0m\u001b[0;34m\u001b[0m\u001b[0;34m\u001b[0m\u001b[0m\n\u001b[0;32m--> 584\u001b[0;31m                 \u001b[0mX\u001b[0m\u001b[0;34m,\u001b[0m \u001b[0my\u001b[0m \u001b[0;34m=\u001b[0m \u001b[0mcheck_X_y\u001b[0m\u001b[0;34m(\u001b[0m\u001b[0mX\u001b[0m\u001b[0;34m,\u001b[0m \u001b[0my\u001b[0m\u001b[0;34m,\u001b[0m \u001b[0;34m**\u001b[0m\u001b[0mcheck_params\u001b[0m\u001b[0;34m)\u001b[0m\u001b[0;34m\u001b[0m\u001b[0;34m\u001b[0m\u001b[0m\n\u001b[0m\u001b[1;32m    585\u001b[0m             \u001b[0mout\u001b[0m \u001b[0;34m=\u001b[0m \u001b[0mX\u001b[0m\u001b[0;34m,\u001b[0m \u001b[0my\u001b[0m\u001b[0;34m\u001b[0m\u001b[0;34m\u001b[0m\u001b[0m\n\u001b[1;32m    586\u001b[0m \u001b[0;34m\u001b[0m\u001b[0m\n",
            "\u001b[0;32m/usr/local/lib/python3.10/dist-packages/sklearn/utils/validation.py\u001b[0m in \u001b[0;36mcheck_X_y\u001b[0;34m(X, y, accept_sparse, accept_large_sparse, dtype, order, copy, force_all_finite, ensure_2d, allow_nd, multi_output, ensure_min_samples, ensure_min_features, y_numeric, estimator)\u001b[0m\n\u001b[1;32m   1104\u001b[0m         )\n\u001b[1;32m   1105\u001b[0m \u001b[0;34m\u001b[0m\u001b[0m\n\u001b[0;32m-> 1106\u001b[0;31m     X = check_array(\n\u001b[0m\u001b[1;32m   1107\u001b[0m         \u001b[0mX\u001b[0m\u001b[0;34m,\u001b[0m\u001b[0;34m\u001b[0m\u001b[0;34m\u001b[0m\u001b[0m\n\u001b[1;32m   1108\u001b[0m         \u001b[0maccept_sparse\u001b[0m\u001b[0;34m=\u001b[0m\u001b[0maccept_sparse\u001b[0m\u001b[0;34m,\u001b[0m\u001b[0;34m\u001b[0m\u001b[0;34m\u001b[0m\u001b[0m\n",
            "\u001b[0;32m/usr/local/lib/python3.10/dist-packages/sklearn/utils/validation.py\u001b[0m in \u001b[0;36mcheck_array\u001b[0;34m(array, accept_sparse, accept_large_sparse, dtype, order, copy, force_all_finite, ensure_2d, allow_nd, ensure_min_samples, ensure_min_features, estimator, input_name)\u001b[0m\n\u001b[1;32m    776\u001b[0m         )\n\u001b[1;32m    777\u001b[0m         \u001b[0;32mif\u001b[0m \u001b[0mall\u001b[0m\u001b[0;34m(\u001b[0m\u001b[0misinstance\u001b[0m\u001b[0;34m(\u001b[0m\u001b[0mdtype_iter\u001b[0m\u001b[0;34m,\u001b[0m \u001b[0mnp\u001b[0m\u001b[0;34m.\u001b[0m\u001b[0mdtype\u001b[0m\u001b[0;34m)\u001b[0m \u001b[0;32mfor\u001b[0m \u001b[0mdtype_iter\u001b[0m \u001b[0;32min\u001b[0m \u001b[0mdtypes_orig\u001b[0m\u001b[0;34m)\u001b[0m\u001b[0;34m:\u001b[0m\u001b[0;34m\u001b[0m\u001b[0;34m\u001b[0m\u001b[0m\n\u001b[0;32m--> 778\u001b[0;31m             \u001b[0mdtype_orig\u001b[0m \u001b[0;34m=\u001b[0m \u001b[0mnp\u001b[0m\u001b[0;34m.\u001b[0m\u001b[0mresult_type\u001b[0m\u001b[0;34m(\u001b[0m\u001b[0;34m*\u001b[0m\u001b[0mdtypes_orig\u001b[0m\u001b[0;34m)\u001b[0m\u001b[0;34m\u001b[0m\u001b[0;34m\u001b[0m\u001b[0m\n\u001b[0m\u001b[1;32m    779\u001b[0m \u001b[0;34m\u001b[0m\u001b[0m\n\u001b[1;32m    780\u001b[0m     \u001b[0;32melif\u001b[0m \u001b[0mhasattr\u001b[0m\u001b[0;34m(\u001b[0m\u001b[0marray\u001b[0m\u001b[0;34m,\u001b[0m \u001b[0;34m\"iloc\"\u001b[0m\u001b[0;34m)\u001b[0m \u001b[0;32mand\u001b[0m \u001b[0mhasattr\u001b[0m\u001b[0;34m(\u001b[0m\u001b[0marray\u001b[0m\u001b[0;34m,\u001b[0m \u001b[0;34m\"dtype\"\u001b[0m\u001b[0;34m)\u001b[0m\u001b[0;34m:\u001b[0m\u001b[0;34m\u001b[0m\u001b[0;34m\u001b[0m\u001b[0m\n",
            "\u001b[0;31mValueError\u001b[0m: at least one array or dtype is required"
          ]
        }
      ]
    },
    {
      "source": [
        "ValueError: at least one array or dtype is required"
      ],
      "cell_type": "code",
      "metadata": {
        "colab": {
          "base_uri": "https://localhost:8080/",
          "height": 297
        },
        "id": "UApTR3DaYhRy",
        "outputId": "26c46e2b-1582-49cd-8b07-1a72de35e141"
      },
      "execution_count": 51,
      "outputs": [
        {
          "output_type": "error",
          "ename": "SyntaxError",
          "evalue": "invalid syntax (<ipython-input-51-a46532dd520d>, line 1)",
          "traceback": [
            "\u001b[0;31m---------------------------------------------------------------------------\u001b[0m",
            "\u001b[0;31mSyntaxError\u001b[0m                               Traceback (most recent call last)",
            "\u001b[0;32m/usr/local/lib/python3.10/dist-packages/IPython/core/compilerop.py\u001b[0m in \u001b[0;36mast_parse\u001b[0;34m(self, source, filename, symbol)\u001b[0m\n\u001b[1;32m     99\u001b[0m         \u001b[0mArguments\u001b[0m \u001b[0mare\u001b[0m \u001b[0mexactly\u001b[0m \u001b[0mthe\u001b[0m \u001b[0msame\u001b[0m \u001b[0;32mas\u001b[0m \u001b[0mast\u001b[0m\u001b[0;34m.\u001b[0m\u001b[0mparse\u001b[0m \u001b[0;34m(\u001b[0m\u001b[0;32min\u001b[0m \u001b[0mthe\u001b[0m \u001b[0mstandard\u001b[0m \u001b[0mlibrary\u001b[0m\u001b[0;34m)\u001b[0m\u001b[0;34m,\u001b[0m\u001b[0;34m\u001b[0m\u001b[0;34m\u001b[0m\u001b[0m\n\u001b[1;32m    100\u001b[0m         and are passed to the built-in compile function.\"\"\"\n\u001b[0;32m--> 101\u001b[0;31m         \u001b[0;32mreturn\u001b[0m \u001b[0mcompile\u001b[0m\u001b[0;34m(\u001b[0m\u001b[0msource\u001b[0m\u001b[0;34m,\u001b[0m \u001b[0mfilename\u001b[0m\u001b[0;34m,\u001b[0m \u001b[0msymbol\u001b[0m\u001b[0;34m,\u001b[0m \u001b[0mself\u001b[0m\u001b[0;34m.\u001b[0m\u001b[0mflags\u001b[0m \u001b[0;34m|\u001b[0m \u001b[0mPyCF_ONLY_AST\u001b[0m\u001b[0;34m,\u001b[0m \u001b[0;36m1\u001b[0m\u001b[0;34m)\u001b[0m\u001b[0;34m\u001b[0m\u001b[0;34m\u001b[0m\u001b[0m\n\u001b[0m\u001b[1;32m    102\u001b[0m \u001b[0;34m\u001b[0m\u001b[0m\n\u001b[1;32m    103\u001b[0m     \u001b[0;32mdef\u001b[0m \u001b[0mreset_compiler_flags\u001b[0m\u001b[0;34m(\u001b[0m\u001b[0mself\u001b[0m\u001b[0;34m)\u001b[0m\u001b[0;34m:\u001b[0m\u001b[0;34m\u001b[0m\u001b[0;34m\u001b[0m\u001b[0m\n",
            "\u001b[0;31mSyntaxError\u001b[0m: invalid syntax (<ipython-input-51-a46532dd520d>, line 1)"
          ]
        }
      ]
    },
    {
      "source": [
        "print(f\"X shape: {X.shape}\")\n",
        "print(f\"y shape: {y.shape}\")"
      ],
      "cell_type": "code",
      "metadata": {
        "colab": {
          "base_uri": "https://localhost:8080/"
        },
        "id": "PBbalYpdYjXH",
        "outputId": "5e8e91a9-9c74-4606-f941-c29fe003873c"
      },
      "execution_count": 52,
      "outputs": [
        {
          "output_type": "stream",
          "name": "stdout",
          "text": [
            "X shape: (7876, 0)\n",
            "y shape: (7876,)\n"
          ]
        }
      ]
    },
    {
      "source": [
        "X = yeni_veri_seti.drop(['Çekiliş Sonuçları'], axis=1)"
      ],
      "cell_type": "code",
      "metadata": {
        "id": "8gL1nwN9Ymj1"
      },
      "execution_count": 53,
      "outputs": []
    },
    {
      "source": [
        "X = veri_seti.drop(['Çekiliş Sonuçları'], axis=1)"
      ],
      "cell_type": "code",
      "metadata": {
        "colab": {
          "base_uri": "https://localhost:8080/",
          "height": 356
        },
        "id": "vH3NuxV0YpDl",
        "outputId": "0094dac8-9645-46f8-ef30-3ce4b0b380bb"
      },
      "execution_count": 54,
      "outputs": [
        {
          "output_type": "error",
          "ename": "KeyError",
          "evalue": "\"['Çekiliş Sonuçları'] not found in axis\"",
          "traceback": [
            "\u001b[0;31m---------------------------------------------------------------------------\u001b[0m",
            "\u001b[0;31mKeyError\u001b[0m                                  Traceback (most recent call last)",
            "\u001b[0;32m<ipython-input-54-7eff0c77b283>\u001b[0m in \u001b[0;36m<cell line: 1>\u001b[0;34m()\u001b[0m\n\u001b[0;32m----> 1\u001b[0;31m \u001b[0mX\u001b[0m \u001b[0;34m=\u001b[0m \u001b[0mveri_seti\u001b[0m\u001b[0;34m.\u001b[0m\u001b[0mdrop\u001b[0m\u001b[0;34m(\u001b[0m\u001b[0;34m[\u001b[0m\u001b[0;34m'Çekiliş Sonuçları'\u001b[0m\u001b[0;34m]\u001b[0m\u001b[0;34m,\u001b[0m \u001b[0maxis\u001b[0m\u001b[0;34m=\u001b[0m\u001b[0;36m1\u001b[0m\u001b[0;34m)\u001b[0m\u001b[0;34m\u001b[0m\u001b[0;34m\u001b[0m\u001b[0m\n\u001b[0m",
            "\u001b[0;32m/usr/local/lib/python3.10/dist-packages/pandas/util/_decorators.py\u001b[0m in \u001b[0;36mwrapper\u001b[0;34m(*args, **kwargs)\u001b[0m\n\u001b[1;32m    329\u001b[0m                     \u001b[0mstacklevel\u001b[0m\u001b[0;34m=\u001b[0m\u001b[0mfind_stack_level\u001b[0m\u001b[0;34m(\u001b[0m\u001b[0;34m)\u001b[0m\u001b[0;34m,\u001b[0m\u001b[0;34m\u001b[0m\u001b[0;34m\u001b[0m\u001b[0m\n\u001b[1;32m    330\u001b[0m                 )\n\u001b[0;32m--> 331\u001b[0;31m             \u001b[0;32mreturn\u001b[0m \u001b[0mfunc\u001b[0m\u001b[0;34m(\u001b[0m\u001b[0;34m*\u001b[0m\u001b[0margs\u001b[0m\u001b[0;34m,\u001b[0m \u001b[0;34m**\u001b[0m\u001b[0mkwargs\u001b[0m\u001b[0;34m)\u001b[0m\u001b[0;34m\u001b[0m\u001b[0;34m\u001b[0m\u001b[0m\n\u001b[0m\u001b[1;32m    332\u001b[0m \u001b[0;34m\u001b[0m\u001b[0m\n\u001b[1;32m    333\u001b[0m         \u001b[0;31m# error: \"Callable[[VarArg(Any), KwArg(Any)], Any]\" has no\u001b[0m\u001b[0;34m\u001b[0m\u001b[0;34m\u001b[0m\u001b[0m\n",
            "\u001b[0;32m/usr/local/lib/python3.10/dist-packages/pandas/core/frame.py\u001b[0m in \u001b[0;36mdrop\u001b[0;34m(self, labels, axis, index, columns, level, inplace, errors)\u001b[0m\n\u001b[1;32m   5397\u001b[0m                 \u001b[0mweight\u001b[0m  \u001b[0;36m1.0\u001b[0m     \u001b[0;36m0.8\u001b[0m\u001b[0;34m\u001b[0m\u001b[0;34m\u001b[0m\u001b[0m\n\u001b[1;32m   5398\u001b[0m         \"\"\"\n\u001b[0;32m-> 5399\u001b[0;31m         return super().drop(\n\u001b[0m\u001b[1;32m   5400\u001b[0m             \u001b[0mlabels\u001b[0m\u001b[0;34m=\u001b[0m\u001b[0mlabels\u001b[0m\u001b[0;34m,\u001b[0m\u001b[0;34m\u001b[0m\u001b[0;34m\u001b[0m\u001b[0m\n\u001b[1;32m   5401\u001b[0m             \u001b[0maxis\u001b[0m\u001b[0;34m=\u001b[0m\u001b[0maxis\u001b[0m\u001b[0;34m,\u001b[0m\u001b[0;34m\u001b[0m\u001b[0;34m\u001b[0m\u001b[0m\n",
            "\u001b[0;32m/usr/local/lib/python3.10/dist-packages/pandas/util/_decorators.py\u001b[0m in \u001b[0;36mwrapper\u001b[0;34m(*args, **kwargs)\u001b[0m\n\u001b[1;32m    329\u001b[0m                     \u001b[0mstacklevel\u001b[0m\u001b[0;34m=\u001b[0m\u001b[0mfind_stack_level\u001b[0m\u001b[0;34m(\u001b[0m\u001b[0;34m)\u001b[0m\u001b[0;34m,\u001b[0m\u001b[0;34m\u001b[0m\u001b[0;34m\u001b[0m\u001b[0m\n\u001b[1;32m    330\u001b[0m                 )\n\u001b[0;32m--> 331\u001b[0;31m             \u001b[0;32mreturn\u001b[0m \u001b[0mfunc\u001b[0m\u001b[0;34m(\u001b[0m\u001b[0;34m*\u001b[0m\u001b[0margs\u001b[0m\u001b[0;34m,\u001b[0m \u001b[0;34m**\u001b[0m\u001b[0mkwargs\u001b[0m\u001b[0;34m)\u001b[0m\u001b[0;34m\u001b[0m\u001b[0;34m\u001b[0m\u001b[0m\n\u001b[0m\u001b[1;32m    332\u001b[0m \u001b[0;34m\u001b[0m\u001b[0m\n\u001b[1;32m    333\u001b[0m         \u001b[0;31m# error: \"Callable[[VarArg(Any), KwArg(Any)], Any]\" has no\u001b[0m\u001b[0;34m\u001b[0m\u001b[0;34m\u001b[0m\u001b[0m\n",
            "\u001b[0;32m/usr/local/lib/python3.10/dist-packages/pandas/core/generic.py\u001b[0m in \u001b[0;36mdrop\u001b[0;34m(self, labels, axis, index, columns, level, inplace, errors)\u001b[0m\n\u001b[1;32m   4503\u001b[0m         \u001b[0;32mfor\u001b[0m \u001b[0maxis\u001b[0m\u001b[0;34m,\u001b[0m \u001b[0mlabels\u001b[0m \u001b[0;32min\u001b[0m \u001b[0maxes\u001b[0m\u001b[0;34m.\u001b[0m\u001b[0mitems\u001b[0m\u001b[0;34m(\u001b[0m\u001b[0;34m)\u001b[0m\u001b[0;34m:\u001b[0m\u001b[0;34m\u001b[0m\u001b[0;34m\u001b[0m\u001b[0m\n\u001b[1;32m   4504\u001b[0m             \u001b[0;32mif\u001b[0m \u001b[0mlabels\u001b[0m \u001b[0;32mis\u001b[0m \u001b[0;32mnot\u001b[0m \u001b[0;32mNone\u001b[0m\u001b[0;34m:\u001b[0m\u001b[0;34m\u001b[0m\u001b[0;34m\u001b[0m\u001b[0m\n\u001b[0;32m-> 4505\u001b[0;31m                 \u001b[0mobj\u001b[0m \u001b[0;34m=\u001b[0m \u001b[0mobj\u001b[0m\u001b[0;34m.\u001b[0m\u001b[0m_drop_axis\u001b[0m\u001b[0;34m(\u001b[0m\u001b[0mlabels\u001b[0m\u001b[0;34m,\u001b[0m \u001b[0maxis\u001b[0m\u001b[0;34m,\u001b[0m \u001b[0mlevel\u001b[0m\u001b[0;34m=\u001b[0m\u001b[0mlevel\u001b[0m\u001b[0;34m,\u001b[0m \u001b[0merrors\u001b[0m\u001b[0;34m=\u001b[0m\u001b[0merrors\u001b[0m\u001b[0;34m)\u001b[0m\u001b[0;34m\u001b[0m\u001b[0;34m\u001b[0m\u001b[0m\n\u001b[0m\u001b[1;32m   4506\u001b[0m \u001b[0;34m\u001b[0m\u001b[0m\n\u001b[1;32m   4507\u001b[0m         \u001b[0;32mif\u001b[0m \u001b[0minplace\u001b[0m\u001b[0;34m:\u001b[0m\u001b[0;34m\u001b[0m\u001b[0;34m\u001b[0m\u001b[0m\n",
            "\u001b[0;32m/usr/local/lib/python3.10/dist-packages/pandas/core/generic.py\u001b[0m in \u001b[0;36m_drop_axis\u001b[0;34m(self, labels, axis, level, errors, only_slice)\u001b[0m\n\u001b[1;32m   4544\u001b[0m                 \u001b[0mnew_axis\u001b[0m \u001b[0;34m=\u001b[0m \u001b[0maxis\u001b[0m\u001b[0;34m.\u001b[0m\u001b[0mdrop\u001b[0m\u001b[0;34m(\u001b[0m\u001b[0mlabels\u001b[0m\u001b[0;34m,\u001b[0m \u001b[0mlevel\u001b[0m\u001b[0;34m=\u001b[0m\u001b[0mlevel\u001b[0m\u001b[0;34m,\u001b[0m \u001b[0merrors\u001b[0m\u001b[0;34m=\u001b[0m\u001b[0merrors\u001b[0m\u001b[0;34m)\u001b[0m\u001b[0;34m\u001b[0m\u001b[0;34m\u001b[0m\u001b[0m\n\u001b[1;32m   4545\u001b[0m             \u001b[0;32melse\u001b[0m\u001b[0;34m:\u001b[0m\u001b[0;34m\u001b[0m\u001b[0;34m\u001b[0m\u001b[0m\n\u001b[0;32m-> 4546\u001b[0;31m                 \u001b[0mnew_axis\u001b[0m \u001b[0;34m=\u001b[0m \u001b[0maxis\u001b[0m\u001b[0;34m.\u001b[0m\u001b[0mdrop\u001b[0m\u001b[0;34m(\u001b[0m\u001b[0mlabels\u001b[0m\u001b[0;34m,\u001b[0m \u001b[0merrors\u001b[0m\u001b[0;34m=\u001b[0m\u001b[0merrors\u001b[0m\u001b[0;34m)\u001b[0m\u001b[0;34m\u001b[0m\u001b[0;34m\u001b[0m\u001b[0m\n\u001b[0m\u001b[1;32m   4547\u001b[0m             \u001b[0mindexer\u001b[0m \u001b[0;34m=\u001b[0m \u001b[0maxis\u001b[0m\u001b[0;34m.\u001b[0m\u001b[0mget_indexer\u001b[0m\u001b[0;34m(\u001b[0m\u001b[0mnew_axis\u001b[0m\u001b[0;34m)\u001b[0m\u001b[0;34m\u001b[0m\u001b[0;34m\u001b[0m\u001b[0m\n\u001b[1;32m   4548\u001b[0m \u001b[0;34m\u001b[0m\u001b[0m\n",
            "\u001b[0;32m/usr/local/lib/python3.10/dist-packages/pandas/core/indexes/base.py\u001b[0m in \u001b[0;36mdrop\u001b[0;34m(self, labels, errors)\u001b[0m\n\u001b[1;32m   6932\u001b[0m         \u001b[0;32mif\u001b[0m \u001b[0mmask\u001b[0m\u001b[0;34m.\u001b[0m\u001b[0many\u001b[0m\u001b[0;34m(\u001b[0m\u001b[0;34m)\u001b[0m\u001b[0;34m:\u001b[0m\u001b[0;34m\u001b[0m\u001b[0;34m\u001b[0m\u001b[0m\n\u001b[1;32m   6933\u001b[0m             \u001b[0;32mif\u001b[0m \u001b[0merrors\u001b[0m \u001b[0;34m!=\u001b[0m \u001b[0;34m\"ignore\"\u001b[0m\u001b[0;34m:\u001b[0m\u001b[0;34m\u001b[0m\u001b[0;34m\u001b[0m\u001b[0m\n\u001b[0;32m-> 6934\u001b[0;31m                 \u001b[0;32mraise\u001b[0m \u001b[0mKeyError\u001b[0m\u001b[0;34m(\u001b[0m\u001b[0;34mf\"{list(labels[mask])} not found in axis\"\u001b[0m\u001b[0;34m)\u001b[0m\u001b[0;34m\u001b[0m\u001b[0;34m\u001b[0m\u001b[0m\n\u001b[0m\u001b[1;32m   6935\u001b[0m             \u001b[0mindexer\u001b[0m \u001b[0;34m=\u001b[0m \u001b[0mindexer\u001b[0m\u001b[0;34m[\u001b[0m\u001b[0;34m~\u001b[0m\u001b[0mmask\u001b[0m\u001b[0;34m]\u001b[0m\u001b[0;34m\u001b[0m\u001b[0;34m\u001b[0m\u001b[0m\n\u001b[1;32m   6936\u001b[0m         \u001b[0;32mreturn\u001b[0m \u001b[0mself\u001b[0m\u001b[0;34m.\u001b[0m\u001b[0mdelete\u001b[0m\u001b[0;34m(\u001b[0m\u001b[0mindexer\u001b[0m\u001b[0;34m)\u001b[0m\u001b[0;34m\u001b[0m\u001b[0;34m\u001b[0m\u001b[0m\n",
            "\u001b[0;31mKeyError\u001b[0m: \"['Çekiliş Sonuçları'] not found in axis\""
          ]
        }
      ]
    },
    {
      "source": [
        "yeni_veri_seti.columns = ['Yeni_Sutun_Adi']\n",
        "X = yeni_veri_seti"
      ],
      "cell_type": "code",
      "metadata": {
        "id": "HF2cXh0SYsFH"
      },
      "execution_count": 55,
      "outputs": []
    },
    {
      "cell_type": "code",
      "source": [
        "import pandas as pd\n",
        "\n",
        "# Veri setini düzenle\n",
        "veri_seti = pd.read_excel('/content/sample_data/data.xlsx')\n",
        "cekilis_sonuclari = veri_seti.iloc[:, 1:].values.flatten()\n",
        "\n",
        "# Tüm çekiliş sonuçlarını birleştir\n",
        "tum_cekilis_sonuclari = pd.Series(cekilis_sonuclari)\n",
        "\n",
        "# En çok çıkan 10 sayıyı bul\n",
        "en_cok_cikan_10_sayi = tum_cekilis_sonuclari.value_counts().head(20)\n",
        "\n",
        "# Sonuçları göster\n",
        "print(\"En Çok Çıkan 10 Sayı:\")\n",
        "print(en_cok_cikan_10_sayi)\n"
      ],
      "metadata": {
        "colab": {
          "base_uri": "https://localhost:8080/"
        },
        "id": "1aSAckbgY_Hg",
        "outputId": "551f43f8-b06d-4e42-8110-53f7e2a5dd8c"
      },
      "execution_count": 58,
      "outputs": [
        {
          "output_type": "stream",
          "name": "stdout",
          "text": [
            "En Çok Çıkan 10 Sayı:\n",
            "16    125\n",
            "53    121\n",
            "2     118\n",
            "50    118\n",
            "13    115\n",
            "77    114\n",
            "55    112\n",
            "60    112\n",
            "57    112\n",
            "52    111\n",
            "65    111\n",
            "12    111\n",
            "4     109\n",
            "73    108\n",
            "6     107\n",
            "71    107\n",
            "48    106\n",
            "47    105\n",
            "34    105\n",
            "62    104\n",
            "dtype: int64\n"
          ]
        }
      ]
    },
    {
      "cell_type": "code",
      "source": [
        "import pandas as pd\n",
        "\n",
        "# Veri setini düzenle\n",
        "veri_seti = pd.read_excel('/content/sample_data/data.xlsx')\n",
        "cekilis_sonuclari = veri_seti.iloc[:, 1:].values\n",
        "\n",
        "# Her 22 sayıyı bir liste haline getir\n",
        "cekilis_listeleri = [tuple(cekilis_sonuclari[:, i:i+22].flatten()) for i in range(cekilis_sonuclari.shape[1] - 21)]\n",
        "\n",
        "# Her liste için kesişen sayıları bul\n",
        "kesisen_sayilar = {}\n",
        "for i, liste1 in enumerate(cekilis_listeleri):\n",
        "    for j, liste2 in enumerate(cekilis_listeleri[i+1:], i+1):\n",
        "        kesisim = set(liste1).intersection(liste2)\n",
        "        if kesisim:\n",
        "            kesisen_sayilar[(i, j)] = kesisim\n",
        "\n",
        "# Kesişim sayısına göre sırala\n",
        "sirali_kesisenler = sorted(kesisen_sayilar.items(), key=lambda x: len(x[1]), reverse=True)\n",
        "\n",
        "# İlk 5 kesişimi yazdır\n",
        "print(\"En Çok Kesişen İlk 5 Liste:\")\n",
        "for i in range(min(5, len(sirali_kesisenler))):\n",
        "    indeks1, indeks2 = sirali_kesisenler[i][0]\n",
        "    kesisim_sayilari = sirali_kesisenler[i][1]\n",
        "    print(f\"Liste {indeks1+1} ve Liste {indeks2+1} Kesişim: {kesisim_sayilari}\")\n"
      ],
      "metadata": {
        "colab": {
          "base_uri": "https://localhost:8080/"
        },
        "id": "Ny6rsc7VaNNz",
        "outputId": "caa84b35-dc69-4f99-b470-65f54518fa65"
      },
      "execution_count": 59,
      "outputs": [
        {
          "output_type": "stream",
          "name": "stdout",
          "text": [
            "En Çok Kesişen İlk 5 Liste:\n",
            "Liste 1 ve Liste 2 Kesişim: {1, 2, 3, 4, 5, 6, 7, 8, 9, 10, 11, 12, 13, 14, 15, 16, 17, 18, 19, 20, 21, 22, 23, 24, 25, 26, 27, 28, 29, 30, 31, 32, 33, 34, 35, 36, 37, 38, 39, 40, 41, 42, 43, 44, 45, 46, 47, 48, 49, 50, 51, 52, 53, 54, 55, 56, 57, 58, 59, 60, 61, 62, 63, 64, 65, 66, 67, 68, 69, 70, 71, 72, 73, 74, 75, 76, 77, 78, 79, 80}\n",
            "Liste 1 ve Liste 3 Kesişim: {1, 2, 3, 4, 5, 6, 7, 8, 9, 10, 11, 12, 13, 14, 15, 16, 17, 18, 19, 20, 21, 22, 23, 24, 25, 26, 27, 28, 29, 30, 31, 32, 33, 34, 35, 36, 37, 38, 39, 40, 41, 42, 43, 44, 45, 46, 47, 48, 49, 50, 51, 52, 53, 54, 55, 56, 57, 58, 59, 60, 61, 62, 63, 64, 65, 66, 67, 68, 69, 70, 71, 72, 73, 74, 75, 76, 77, 78, 79, 80}\n",
            "Liste 1 ve Liste 4 Kesişim: {1, 2, 3, 4, 5, 6, 7, 8, 9, 10, 11, 12, 13, 14, 15, 16, 17, 18, 19, 20, 21, 22, 23, 24, 25, 26, 27, 28, 29, 30, 31, 32, 33, 34, 35, 36, 37, 38, 39, 40, 41, 42, 43, 44, 45, 46, 47, 48, 49, 50, 51, 52, 53, 54, 55, 56, 57, 58, 59, 60, 61, 62, 63, 64, 65, 66, 67, 68, 69, 70, 71, 72, 73, 74, 75, 76, 77, 78, 79, 80}\n",
            "Liste 1 ve Liste 5 Kesişim: {1, 2, 3, 4, 5, 6, 7, 8, 9, 10, 11, 12, 13, 14, 15, 16, 17, 18, 19, 20, 21, 22, 23, 24, 25, 26, 27, 28, 29, 30, 31, 32, 33, 34, 35, 36, 37, 38, 39, 40, 41, 42, 43, 44, 45, 46, 47, 48, 49, 50, 51, 52, 53, 54, 55, 56, 57, 58, 59, 60, 61, 62, 63, 64, 65, 66, 67, 68, 69, 70, 71, 72, 73, 74, 75, 76, 77, 78, 79, 80}\n",
            "Liste 1 ve Liste 6 Kesişim: {1, 2, 3, 4, 5, 6, 7, 8, 9, 10, 11, 12, 13, 14, 15, 16, 17, 18, 19, 20, 21, 22, 23, 24, 25, 26, 27, 28, 29, 30, 31, 32, 33, 34, 35, 36, 37, 38, 39, 40, 41, 42, 43, 44, 45, 46, 47, 48, 49, 50, 51, 52, 53, 54, 55, 56, 57, 58, 59, 60, 61, 62, 63, 64, 65, 66, 67, 68, 69, 70, 71, 72, 73, 74, 75, 76, 77, 78, 79, 80}\n"
          ]
        }
      ]
    },
    {
      "cell_type": "code",
      "source": [
        "import pandas as pd\n",
        "from itertools import combinations\n",
        "\n",
        "# Veri setini düzenle\n",
        "veri_seti = pd.read_excel('/content/sample_data/data.xlsx')\n",
        "cekilis_sonuclari = veri_seti.iloc[:, 1:].values\n",
        "\n",
        "# Her sütunu bir liste haline getir\n",
        "cekilis_listeleri = [tuple(cekilis_sonuclari[:, i]) for i in range(cekilis_sonuclari.shape[1])]\n",
        "\n",
        "# Her iki listeyi karşılaştır ve benzerlik skorunu hesapla\n",
        "benzerlik_skorlari = {}\n",
        "for i, j in combinations(range(len(cekilis_listeleri)), 2):\n",
        "    benzerlik_skor = len(set(cekilis_listeleri[i]).intersection(cekilis_listeleri[j]))\n",
        "    benzerlik_skorlari[(i, j)] = benzerlik_skor\n",
        "\n",
        "# Benzerlik skorlarına göre sırala\n",
        "sirali_benzerlikler = sorted(benzerlik_skorlari.items(), key=lambda x: x[1], reverse=True)\n",
        "\n",
        "# İlk 5 benzer listeyi yazdır\n",
        "print(\"En Çok Benzeyen İlk 5 Liste:\")\n",
        "for i in range(min(5, len(sirali_benzerlikler))):\n",
        "    indeks1, indeks2 = sirali_benzerlikler[i][0]\n",
        "    benzerlik_skoru = sirali_benzerlikler[i][1]\n",
        "    print(f\"Sütun {indeks1+1} ve Sütun {indeks2+1} Benzerlik Skoru: {benzerlik_skoru}\")\n"
      ],
      "metadata": {
        "colab": {
          "base_uri": "https://localhost:8080/"
        },
        "id": "AYx7v0yrbPGY",
        "outputId": "13ec7832-6d04-473e-c18c-1efc28f7519a"
      },
      "execution_count": 60,
      "outputs": [
        {
          "output_type": "stream",
          "name": "stdout",
          "text": [
            "En Çok Benzeyen İlk 5 Liste:\n",
            "Sütun 11 ve Sütun 263 Benzerlik Skoru: 13\n",
            "Sütun 28 ve Sütun 135 Benzerlik Skoru: 13\n",
            "Sütun 31 ve Sütun 109 Benzerlik Skoru: 13\n",
            "Sütun 41 ve Sütun 273 Benzerlik Skoru: 13\n",
            "Sütun 83 ve Sütun 256 Benzerlik Skoru: 13\n"
          ]
        }
      ]
    },
    {
      "cell_type": "code",
      "source": [
        "import pandas as pd\n",
        "from itertools import combinations\n",
        "\n",
        "# Veri setini düzenle\n",
        "veri_seti = pd.read_excel('/content/sample_data/data.xlsx')\n",
        "cekilis_sonuclari = veri_seti.iloc[:, 1:].values\n",
        "\n",
        "# Her sütunu bir liste haline getir\n",
        "cekilis_listeleri = [tuple(cekilis_sonuclari[:, i]) for i in range(cekilis_sonuclari.shape[1])]\n",
        "\n",
        "# Her iki listeyi karşılaştır ve benzerlik skorunu ve benzer sayıları hesapla\n",
        "benzerlik_skorlari = {}\n",
        "benzer_sayilar = {}\n",
        "for i, j in combinations(range(len(cekilis_listeleri)), 2):\n",
        "    benzerlik_skor = len(set(cekilis_listeleri[i]).intersection(cekilis_listeleri[j]))\n",
        "    benzerlik_skorlari[(i, j)] = benzerlik_skor\n",
        "\n",
        "    benzer_sayi_kumesi = set(cekilis_listeleri[i]).intersection(cekilis_listeleri[j])\n",
        "    benzer_sayilar[(i, j)] = benzer_sayi_kumesi\n",
        "\n",
        "# Benzerlik skorlarına göre sırala\n",
        "sirali_benzerlikler = sorted(benzerlik_skorlari.items(), key=lambda x: x[1], reverse=True)\n",
        "\n",
        "# İlk 5 benzer listeyi ve benzer sayıları yazdır\n",
        "print(\"En Çok Benzeyen İlk 5 Liste ve Benzer Sayılar:\")\n",
        "for i in range(min(5, len(sirali_benzerlikler))):\n",
        "    indeks1, indeks2 = sirali_benzerlikler[i][0]\n",
        "    benzerlik_skoru = sirali_benzerlikler[i][1]\n",
        "    benzer_sayi_kumesi = benzer_sayilar[(indeks1, indeks2)]\n",
        "    print(f\"Sütun {indeks1+1} ve Sütun {indeks2+1} Benzerlik Skoru: {benzerlik_skoru}\")\n",
        "    print(f\"Benzer Sayılar: {benzer_sayi_kumesi}\")\n",
        "    print()\n"
      ],
      "metadata": {
        "colab": {
          "base_uri": "https://localhost:8080/"
        },
        "id": "5JbeYxVDb-hR",
        "outputId": "dc346dc4-432a-47b9-f129-8e63a2374fd9"
      },
      "execution_count": 61,
      "outputs": [
        {
          "output_type": "stream",
          "name": "stdout",
          "text": [
            "En Çok Benzeyen İlk 5 Liste ve Benzer Sayılar:\n",
            "Sütun 11 ve Sütun 263 Benzerlik Skoru: 13\n",
            "Benzer Sayılar: {2, 36, 5, 39, 40, 41, 45, 46, 47, 79, 22, 27, 62}\n",
            "\n",
            "Sütun 28 ve Sütun 135 Benzerlik Skoru: 13\n",
            "Benzer Sayılar: {65, 66, 5, 7, 71, 43, 47, 51, 20, 54, 62, 29, 30}\n",
            "\n",
            "Sütun 31 ve Sütun 109 Benzerlik Skoru: 13\n",
            "Benzer Sayılar: {65, 2, 36, 69, 39, 40, 9, 71, 76, 13, 47, 55, 27}\n",
            "\n",
            "Sütun 41 ve Sütun 273 Benzerlik Skoru: 13\n",
            "Benzer Sayılar: {2, 38, 8, 43, 75, 46, 47, 51, 20, 22, 24, 26, 62}\n",
            "\n",
            "Sütun 83 ve Sütun 256 Benzerlik Skoru: 13\n",
            "Benzer Sayılar: {64, 1, 33, 65, 68, 71, 40, 43, 15, 48, 55, 60, 61}\n",
            "\n"
          ]
        }
      ]
    },
    {
      "cell_type": "code",
      "source": [
        "import pandas as pd\n",
        "from itertools import combinations\n",
        "\n",
        "# Veri setini düzenle\n",
        "veri_seti = pd.read_excel('/content/sample_data/data.xlsx')\n",
        "cekilis_sonuclari = veri_seti.iloc[:, 1:].values\n",
        "\n",
        "# Her sütunu bir liste haline getir\n",
        "cekilis_listeleri = [tuple(cekilis_sonuclari[:, i]) for i in range(cekilis_sonuclari.shape[1])]\n",
        "\n",
        "# Her iki listeyi karşılaştır ve benzerlik skorunu ve benzer sayıları hesapla\n",
        "benzerlik_skorlari = {}\n",
        "benzer_sayilar = {}\n",
        "benzer_sonuclar = {}\n",
        "for i, j in combinations(range(len(cekilis_listeleri)), 2):\n",
        "    benzerlik_skor = len(set(cekilis_listeleri[i]).intersection(cekilis_listeleri[j]))\n",
        "    benzerlik_skorlari[(i, j)] = benzerlik_skor\n",
        "\n",
        "    benzer_sayi_kumesi = set(cekilis_listeleri[i]).intersection(cekilis_listeleri[j])\n",
        "    benzer_sayilar[(i, j)] = benzer_sayi_kumesi\n",
        "\n",
        "    benzer_sonuc_kumesi_i = {cekilis_sonuclari[k, i] for k in range(len(cekilis_sonuclari))}\n",
        "    benzer_sonuc_kumesi_j = {cekilis_sonuclari[k, j] for k in range(len(cekilis_sonuclari))}\n",
        "    benzer_sonuclar[(i, j)] = benzer_sonuc_kumesi_i.intersection(benzer_sonuc_kumesi_j)\n",
        "\n",
        "# Benzerlik skorlarına göre sırala\n",
        "sirali_benzerlikler = sorted(benzerlik_skorlari.items(), key=lambda x: x[1], reverse=True)\n",
        "\n",
        "# İlk 5 benzer listeyi, benzer sayıları ve sonuçları yazdır\n",
        "print(\"En Çok Benzeyen İlk 5 Liste, Benzer Sayılar ve Sonuçlar:\")\n",
        "for i in range(min(5, len(sirali_benzerlikler))):\n",
        "    indeks1, indeks2 = sirali_benzerlikler[i][0]\n",
        "    benzerlik_skoru = sirali_benzerlikler[i][1]\n",
        "    benzer_sayi_kumesi = benzer_sayilar[(indeks1, indeks2)]\n",
        "    benzer_sonuc_kumesi = benzer_sonuclar[(indeks1, indeks2)]\n",
        "\n",
        "    print(f\"Sütun {indeks1+1} ve Sütun {indeks2+1} Benzerlik Skoru: {benzerlik_skoru}\")\n",
        "    print(f\"Benzer Sayılar: {benzer_sayi_kumesi}\")\n",
        "    print(f\"Benzer Sonuçlar: {benzer_sonuc_kumesi}\")\n",
        "    print()\n"
      ],
      "metadata": {
        "colab": {
          "base_uri": "https://localhost:8080/"
        },
        "id": "XypxXclzcvUQ",
        "outputId": "ec9928a3-2d38-4ada-be2b-4fceaeacdac9"
      },
      "execution_count": 62,
      "outputs": [
        {
          "output_type": "stream",
          "name": "stdout",
          "text": [
            "En Çok Benzeyen İlk 5 Liste, Benzer Sayılar ve Sonuçlar:\n",
            "Sütun 11 ve Sütun 263 Benzerlik Skoru: 13\n",
            "Benzer Sayılar: {2, 36, 5, 39, 40, 41, 45, 46, 47, 79, 22, 27, 62}\n",
            "Benzer Sonuçlar: {2, 36, 5, 39, 40, 41, 45, 46, 47, 79, 22, 27, 62}\n",
            "\n",
            "Sütun 28 ve Sütun 135 Benzerlik Skoru: 13\n",
            "Benzer Sayılar: {65, 66, 5, 7, 71, 43, 47, 51, 20, 54, 62, 29, 30}\n",
            "Benzer Sonuçlar: {65, 66, 5, 7, 71, 43, 47, 51, 20, 54, 62, 29, 30}\n",
            "\n",
            "Sütun 31 ve Sütun 109 Benzerlik Skoru: 13\n",
            "Benzer Sayılar: {65, 2, 36, 69, 39, 40, 9, 71, 76, 13, 47, 55, 27}\n",
            "Benzer Sonuçlar: {65, 2, 36, 69, 39, 40, 9, 71, 76, 13, 47, 55, 27}\n",
            "\n",
            "Sütun 41 ve Sütun 273 Benzerlik Skoru: 13\n",
            "Benzer Sayılar: {2, 38, 8, 43, 75, 46, 47, 51, 20, 22, 24, 26, 62}\n",
            "Benzer Sonuçlar: {2, 38, 8, 43, 75, 46, 47, 51, 20, 22, 24, 26, 62}\n",
            "\n",
            "Sütun 83 ve Sütun 256 Benzerlik Skoru: 13\n",
            "Benzer Sayılar: {64, 1, 33, 65, 68, 71, 40, 43, 15, 48, 55, 60, 61}\n",
            "Benzer Sonuçlar: {64, 1, 33, 65, 68, 71, 40, 43, 15, 48, 55, 60, 61}\n",
            "\n"
          ]
        }
      ]
    },
    {
      "cell_type": "code",
      "source": [
        "import pandas as pd\n",
        "from itertools import combinations\n",
        "\n",
        "# Veri setini düzenle\n",
        "veri_seti = pd.read_excel('/content/sample_data/data.xlsx')\n",
        "cekilis_sonuclari = veri_seti.iloc[:, 1:].values\n",
        "\n",
        "# Her sütunu bir liste haline getir\n",
        "cekilis_listeleri = [tuple(cekilis_sonuclari[:, i]) for i in range(cekilis_sonuclari.shape[1])]\n",
        "\n",
        "# Her iki listeyi karşılaştır ve benzerlik skorunu ve benzer sayıları hesapla\n",
        "benzerlik_skorlari = {}\n",
        "benzer_sayilar = {}\n",
        "for i, j in combinations(range(len(cekilis_listeleri)), 2):\n",
        "    benzerlik_skor = len(set(cekilis_listeleri[i]).intersection(cekilis_listeleri[j]))\n",
        "    benzerlik_skorlari[(i, j)] = benzerlik_skor\n",
        "\n",
        "    benzer_sayi_kumesi = sorted(set(cekilis_listeleri[i]).intersection(cekilis_listeleri[j]))\n",
        "    benzer_sayilar[(i, j)] = benzer_sayi_kumesi\n",
        "\n",
        "# Benzerlik skorlarına göre sırala\n",
        "sirali_benzerlikler = sorted(benzerlik_skorlari.items(), key=lambda x: x[1], reverse=True)\n",
        "\n",
        "# Benzer sütunları ve ortakları yazdır\n",
        "print(\"Benzer Sütunlar ve Ortakları (Küçükten Büyüğe):\")\n",
        "for i in range(len(sirali_benzerlikler)):\n",
        "    indeks1, indeks2 = sirali_benzerlikler[i][0]\n",
        "    benzerlik_skoru = sirali_benzerlikler[i][1]\n",
        "    benzer_sayi_kumesi = benzer_sayilar[(indeks1, indeks2)]\n",
        "\n",
        "    # Sütunları ve benzer sayıları yazdır\n",
        "    print(f\"Sütun {indeks1+1} ve Sütun {indeks2+1} Benzerlik Skoru: {benzerlik_skoru}\")\n",
        "    print(f\"Sütun {indeks1+1} Veriler: {cekilis_listeleri[indeks1]}\")\n",
        "    print(f\"Sütun {indeks2+1} Veriler: {cekilis_listeleri[indeks2]}\")\n",
        "    print(f\"Ortak Sayılar: {benzer_sayi_kumesi}\")\n",
        "    print()\n"
      ],
      "metadata": {
        "id": "ZxD9csQcdoHT"
      },
      "execution_count": null,
      "outputs": []
    },
    {
      "cell_type": "code",
      "source": [
        "import pandas as pd\n",
        "from itertools import combinations\n",
        "\n",
        "# Veri setini düzenle\n",
        "veri_seti = pd.read_excel('/content/sample_data/data.xlsx')\n",
        "cekilis_sonuclari = veri_seti.iloc[:, 1:].values\n",
        "\n",
        "# Her sütunu bir liste haline getir\n",
        "cekilis_listeleri = [tuple(cekilis_sonuclari[:, i]) for i in range(cekilis_sonuclari.shape[1])]\n",
        "\n",
        "# Her iki listeyi karşılaştır ve benzerlik skorunu ve benzer sayıları hesapla\n",
        "benzerlik_skorlari = {}\n",
        "benzer_sayilar = {}\n",
        "for i, j in combinations(range(len(cekilis_listeleri)), 2):\n",
        "    benzerlik_skor = len(set(cekilis_listeleri[i]).intersection(cekilis_listeleri[j]))\n",
        "    benzerlik_skorlari[(i, j)] = benzerlik_skor\n",
        "\n",
        "    benzer_sayi_kumesi = sorted(set(cekilis_listeleri[i]).intersection(cekilis_listeleri[j]))\n",
        "    benzer_sayilar[(i, j)] = benzer_sayi_kumesi\n",
        "\n",
        "# Benzerlik skorlarına göre sırala\n",
        "sirali_benzerlikler = sorted(benzerlik_skorlari.items(), key=lambda x: x[1], reverse=True)\n",
        "\n",
        "# En yüksek benzerlik skoruna sahip ilk 10 sütunu yazdır\n",
        "print(\"En Yüksek Benzerlik Skoruna Sahip İlk 10 Sütun ve Ortak Sayılar (Küçükten Büyüğe):\")\n",
        "for i in range(min(20, len(sirali_benzerlikler))):\n",
        "    indeks1, indeks2 = sirali_benzerlikler[i][0]\n",
        "    benzerlik_skoru = sirali_benzerlikler[i][1]\n",
        "    benzer_sayi_kumesi = benzer_sayilar[(indeks1, indeks2)]\n",
        "\n",
        "    # Sütunları ve benzer sayıları yazdır\n",
        "    print(f\"Sütun {indeks1+1} ve Sütun {indeks2+1} Benzerlik Skoru: {benzerlik_skoru}\")\n",
        "    print(f\"Sütun {indeks1+1} Veriler: {sorted(cekilis_listeleri[indeks1])}\")\n",
        "    print(f\"Sütun {indeks2+1} Veriler: {sorted(cekilis_listeleri[indeks2])}\")\n",
        "    print(f\"Ortak Sayılar: {benzer_sayi_kumesi}\")\n",
        "    print()\n"
      ],
      "metadata": {
        "id": "VOl3DZKZed11"
      },
      "execution_count": null,
      "outputs": []
    },
    {
      "cell_type": "code",
      "source": [
        "import pandas as pd\n",
        "from itertools import combinations\n",
        "\n",
        "# Veri setini düzenle\n",
        "veri_seti = pd.read_excel('/content/sample_data/data.xlsx')\n",
        "cekilis_sonuclari = veri_seti.iloc[:, 1:].values\n",
        "\n",
        "# Her sütunu bir liste haline getir\n",
        "cekilis_listeleri = [tuple(cekilis_sonuclari[:, i]) for i in range(cekilis_sonuclari.shape[1])]\n",
        "\n",
        "# Her iki listeyi karşılaştır ve benzerlik skorunu ve benzer sayıları hesapla\n",
        "benzerlik_skorlari = {}\n",
        "benzer_sayilar = {}\n",
        "for i, j in combinations(range(len(cekilis_listeleri)), 2):\n",
        "    benzerlik_skor = len(set(cekilis_listeleri[i]).intersection(cekilis_listeleri[j]))\n",
        "    benzerlik_skorlari[(i, j)] = benzerlik_skor\n",
        "\n",
        "    benzer_sayi_kumesi = sorted(set(cekilis_listeleri[i]).intersection(cekilis_listeleri[j]))\n",
        "    benzer_sayilar[(i, j)] = benzer_sayi_kumesi\n",
        "\n",
        "# Benzerlik skorlarına göre sırala\n",
        "sirali_benzerlikler = sorted(benzerlik_skorlari.items(), key=lambda x: x[1], reverse=True)\n",
        "\n",
        "# En yüksek benzerlik skoruna sahip ilk 10 sütunu yazdır\n",
        "print(\"En Yüksek Benzerlik Skoruna Sahip İlk 10 Sütun ve Ortak Sayılar (Küçükten Büyüğe):\")\n",
        "for i in range(min(10, len(sirali_benzerlikler))):\n",
        "    indeks1, indeks2 = sirali_benzerlikler[i][0]\n",
        "    benzerlik_skoru = sirali_benzerlikler[i][1]\n",
        "    benzer_sayi_kumesi = benzer_sayilar[(indeks1, indeks2)]\n",
        "\n",
        "    # Sütunları ve benzer sayıları yazdır\n",
        "    print(f\"Sütun {indeks1+1} ve Sütun {indeks2+1} Benzerlik Skoru: {benzerlik_skoru}\")\n",
        "    print(f\"Sütun {indeks1+1} Veriler: {sorted(cekilis_listeleri[indeks1])}\")\n",
        "    print(f\"Sütun {indeks2+1} Veriler: {sorted(cekilis_listeleri[indeks2])}\")\n",
        "    print(f\"Ortak Sayılar: {benzer_sayi_kumesi}\")\n",
        "\n",
        "    # Ortak sayılar arasında da ortak olanları ekleyin\n",
        "    for k, l in combinations(range(len(benzer_sayi_kumesi)), 2):\n",
        "        ortaklar = set([benzer_sayi_kumesi[k]]).intersection([benzer_sayi_kumesi[l]])\n",
        "        if ortaklar:\n",
        "            print(f\"Ortaklar ({k+1} ve {l+1}): {ortaklar}\")\n",
        "            # Ortak olan sayılar arasında da ortak olanları ekleyin\n",
        "            for m, n in combinations(range(len(ortaklar)), 2):\n",
        "                ortaklar_ortak = set([ortaklar[m]]).intersection([ortaklar[n]])\n",
        "                if ortaklar_ortak:\n",
        "                    print(f\"Ortaklar ({m+1} ve {n+1}): {ortaklar_ortak}\")\n",
        "    print()\n"
      ],
      "metadata": {
        "colab": {
          "base_uri": "https://localhost:8080/"
        },
        "id": "LxS8g2sDhblg",
        "outputId": "95178efe-c4e9-45b9-d0f4-4272c886f756"
      },
      "execution_count": 70,
      "outputs": [
        {
          "output_type": "stream",
          "name": "stdout",
          "text": [
            "En Yüksek Benzerlik Skoruna Sahip İlk 10 Sütun ve Ortak Sayılar (Küçükten Büyüğe):\n",
            "Sütun 11 ve Sütun 263 Benzerlik Skoru: 13\n",
            "Sütun 11 Veriler: [2, 5, 10, 14, 22, 27, 28, 31, 33, 36, 39, 40, 41, 43, 45, 46, 47, 62, 67, 73, 74, 79]\n",
            "Sütun 263 Veriler: [2, 5, 9, 18, 22, 24, 27, 30, 36, 39, 40, 41, 45, 46, 47, 48, 57, 62, 65, 66, 77, 79]\n",
            "Ortak Sayılar: [2, 5, 22, 27, 36, 39, 40, 41, 45, 46, 47, 62, 79]\n",
            "\n",
            "Sütun 28 ve Sütun 135 Benzerlik Skoru: 13\n",
            "Sütun 28 Veriler: [4, 5, 6, 7, 10, 14, 15, 19, 20, 29, 30, 41, 43, 47, 51, 53, 54, 62, 65, 66, 71, 76]\n",
            "Sütun 135 Veriler: [5, 7, 20, 24, 29, 30, 31, 35, 38, 43, 46, 47, 51, 52, 54, 57, 62, 65, 66, 70, 71, 74]\n",
            "Ortak Sayılar: [5, 7, 20, 29, 30, 43, 47, 51, 54, 62, 65, 66, 71]\n",
            "\n",
            "Sütun 31 ve Sütun 109 Benzerlik Skoru: 13\n",
            "Sütun 31 Veriler: [2, 9, 13, 16, 17, 19, 22, 27, 31, 36, 39, 40, 47, 50, 53, 55, 56, 65, 69, 71, 76, 79]\n",
            "Sütun 109 Veriler: [2, 4, 8, 9, 12, 13, 18, 25, 27, 33, 36, 39, 40, 43, 47, 55, 65, 66, 69, 71, 76, 80]\n",
            "Ortak Sayılar: [2, 9, 13, 27, 36, 39, 40, 47, 55, 65, 69, 71, 76]\n",
            "\n",
            "Sütun 41 ve Sütun 273 Benzerlik Skoru: 13\n",
            "Sütun 41 Veriler: [2, 4, 8, 10, 20, 22, 24, 25, 26, 33, 34, 35, 38, 40, 43, 46, 47, 51, 57, 62, 68, 75]\n",
            "Sütun 273 Veriler: [2, 8, 14, 20, 21, 22, 23, 24, 26, 38, 43, 44, 46, 47, 51, 59, 60, 62, 65, 67, 73, 75]\n",
            "Ortak Sayılar: [2, 8, 20, 22, 24, 26, 38, 43, 46, 47, 51, 62, 75]\n",
            "\n",
            "Sütun 83 ve Sütun 256 Benzerlik Skoru: 13\n",
            "Sütun 83 Veriler: [1, 3, 15, 32, 33, 34, 37, 38, 40, 43, 45, 48, 52, 55, 60, 61, 64, 65, 66, 68, 71, 78]\n",
            "Sütun 256 Veriler: [1, 14, 15, 16, 18, 26, 33, 40, 43, 44, 47, 48, 55, 59, 60, 61, 62, 64, 65, 67, 68, 71]\n",
            "Ortak Sayılar: [1, 15, 33, 40, 43, 48, 55, 60, 61, 64, 65, 68, 71]\n",
            "\n",
            "Sütun 101 ve Sütun 274 Benzerlik Skoru: 13\n",
            "Sütun 101 Veriler: [2, 7, 13, 15, 16, 18, 21, 24, 28, 35, 38, 39, 42, 43, 44, 45, 48, 52, 60, 61, 73, 74]\n",
            "Sütun 274 Veriler: [2, 3, 4, 6, 9, 16, 20, 24, 28, 35, 38, 39, 42, 44, 47, 52, 55, 56, 61, 73, 74, 78]\n",
            "Ortak Sayılar: [2, 16, 24, 28, 35, 38, 39, 42, 44, 52, 61, 73, 74]\n",
            "\n",
            "Sütun 139 ve Sütun 296 Benzerlik Skoru: 13\n",
            "Sütun 139 Veriler: [1, 8, 10, 11, 12, 13, 16, 17, 28, 33, 35, 40, 41, 43, 45, 49, 57, 59, 62, 64, 76, 78]\n",
            "Sütun 296 Veriler: [1, 2, 3, 11, 12, 16, 27, 32, 33, 40, 43, 45, 49, 50, 52, 57, 62, 64, 73, 75, 76, 77]\n",
            "Ortak Sayılar: [1, 11, 12, 16, 33, 40, 43, 45, 49, 57, 62, 64, 76]\n",
            "\n",
            "Sütun 149 ve Sütun 267 Benzerlik Skoru: 13\n",
            "Sütun 149 Veriler: [13, 18, 21, 24, 25, 26, 35, 39, 40, 42, 47, 49, 50, 52, 55, 57, 59, 60, 62, 71, 78, 79]\n",
            "Sütun 267 Veriler: [1, 13, 18, 21, 30, 33, 35, 40, 48, 49, 52, 53, 55, 59, 60, 62, 64, 71, 74, 76, 77, 78]\n",
            "Ortak Sayılar: [13, 18, 21, 35, 40, 49, 52, 55, 59, 60, 62, 71, 78]\n",
            "\n",
            "Sütun 174 ve Sütun 267 Benzerlik Skoru: 13\n",
            "Sütun 174 Veriler: [13, 18, 20, 22, 23, 25, 26, 31, 32, 35, 39, 47, 48, 52, 53, 55, 60, 62, 64, 74, 76, 78]\n",
            "Sütun 267 Veriler: [1, 13, 18, 21, 30, 33, 35, 40, 48, 49, 52, 53, 55, 59, 60, 62, 64, 71, 74, 76, 77, 78]\n",
            "Ortak Sayılar: [13, 18, 35, 48, 52, 53, 55, 60, 62, 64, 74, 76, 78]\n",
            "\n",
            "Sütun 175 ve Sütun 193 Benzerlik Skoru: 13\n",
            "Sütun 175 Veriler: [1, 4, 14, 15, 30, 44, 46, 49, 51, 52, 53, 54, 56, 61, 62, 64, 72, 74, 75, 76, 77, 79]\n",
            "Sütun 193 Veriler: [1, 4, 8, 13, 15, 17, 43, 46, 49, 50, 51, 53, 58, 62, 64, 65, 68, 72, 73, 75, 76, 77]\n",
            "Ortak Sayılar: [1, 4, 15, 46, 49, 51, 53, 62, 64, 72, 75, 76, 77]\n",
            "\n"
          ]
        }
      ]
    }
  ]
}